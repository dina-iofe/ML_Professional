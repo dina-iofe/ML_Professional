{
 "cells": [
  {
   "cell_type": "markdown",
   "metadata": {},
   "source": [
    "# Практический проект по созданию рекомендательной системы"
   ]
  },
  {
   "cell_type": "markdown",
   "metadata": {},
   "source": [
    "## Industrial and Scientific subset"
   ]
  },
  {
   "cell_type": "markdown",
   "metadata": {},
   "source": [
    "https://nijianmo.github.io/amazon/index.html#subsets"
   ]
  },
  {
   "cell_type": "code",
   "execution_count": 41,
   "metadata": {},
   "outputs": [],
   "source": [
    "import scipy.sparse as sparse\n",
    "import numpy as np\n",
    "\n",
    "import matplotlib\n",
    "import matplotlib.pyplot as plt\n",
    "\n",
    "import pandas as pd\n",
    "\n",
    "import json\n",
    "import gzip\n",
    "import pickle\n",
    "\n",
    "import random\n",
    "\n",
    "from lightfm import cross_validation\n",
    "from lightfm import LightFM\n",
    "from lightfm.evaluation import precision_at_k, auc_score"
   ]
  },
  {
   "cell_type": "markdown",
   "metadata": {},
   "source": [
    "Ratings only: These datasets include no metadata or reviews, but only (user,item,rating,timestamp) tuples."
   ]
  },
  {
   "cell_type": "code",
   "execution_count": 2,
   "metadata": {},
   "outputs": [],
   "source": [
    "rating_data = pd.read_csv('Industrial_and_Scientific.csv', header=None)"
   ]
  },
  {
   "cell_type": "code",
   "execution_count": 3,
   "metadata": {},
   "outputs": [
    {
     "data": {
      "text/html": [
       "<div>\n",
       "<style scoped>\n",
       "    .dataframe tbody tr th:only-of-type {\n",
       "        vertical-align: middle;\n",
       "    }\n",
       "\n",
       "    .dataframe tbody tr th {\n",
       "        vertical-align: top;\n",
       "    }\n",
       "\n",
       "    .dataframe thead th {\n",
       "        text-align: right;\n",
       "    }\n",
       "</style>\n",
       "<table border=\"1\" class=\"dataframe\">\n",
       "  <thead>\n",
       "    <tr style=\"text-align: right;\">\n",
       "      <th></th>\n",
       "      <th>0</th>\n",
       "      <th>1</th>\n",
       "      <th>2</th>\n",
       "      <th>3</th>\n",
       "    </tr>\n",
       "  </thead>\n",
       "  <tbody>\n",
       "    <tr>\n",
       "      <th>0</th>\n",
       "      <td>0176496920</td>\n",
       "      <td>A3FANY5GOT5X0W</td>\n",
       "      <td>5.0</td>\n",
       "      <td>1358899200</td>\n",
       "    </tr>\n",
       "    <tr>\n",
       "      <th>1</th>\n",
       "      <td>0176496920</td>\n",
       "      <td>AT6HRPPYOPHMB</td>\n",
       "      <td>5.0</td>\n",
       "      <td>1352073600</td>\n",
       "    </tr>\n",
       "    <tr>\n",
       "      <th>2</th>\n",
       "      <td>0176496920</td>\n",
       "      <td>A4IX7B38LIN1E</td>\n",
       "      <td>4.0</td>\n",
       "      <td>1350432000</td>\n",
       "    </tr>\n",
       "    <tr>\n",
       "      <th>3</th>\n",
       "      <td>0176496920</td>\n",
       "      <td>A12Q4LR8N17AOZ</td>\n",
       "      <td>5.0</td>\n",
       "      <td>1490745600</td>\n",
       "    </tr>\n",
       "    <tr>\n",
       "      <th>4</th>\n",
       "      <td>0176496920</td>\n",
       "      <td>A1GJXZZPOZ3OD9</td>\n",
       "      <td>1.0</td>\n",
       "      <td>1490054400</td>\n",
       "    </tr>\n",
       "  </tbody>\n",
       "</table>\n",
       "</div>"
      ],
      "text/plain": [
       "            0               1    2           3\n",
       "0  0176496920  A3FANY5GOT5X0W  5.0  1358899200\n",
       "1  0176496920   AT6HRPPYOPHMB  5.0  1352073600\n",
       "2  0176496920   A4IX7B38LIN1E  4.0  1350432000\n",
       "3  0176496920  A12Q4LR8N17AOZ  5.0  1490745600\n",
       "4  0176496920  A1GJXZZPOZ3OD9  1.0  1490054400"
      ]
     },
     "execution_count": 3,
     "metadata": {},
     "output_type": "execute_result"
    }
   ],
   "source": [
    "rating_data.head()"
   ]
  },
  {
   "cell_type": "code",
   "execution_count": 4,
   "metadata": {},
   "outputs": [
    {
     "data": {
      "text/plain": [
       "(1758333, 4)"
      ]
     },
     "execution_count": 4,
     "metadata": {},
     "output_type": "execute_result"
    }
   ],
   "source": [
    "rating_data.shape"
   ]
  },
  {
   "cell_type": "code",
   "execution_count": 5,
   "metadata": {},
   "outputs": [
    {
     "data": {
      "text/plain": [
       "0    5.0\n",
       "1    5.0\n",
       "2    4.0\n",
       "3    5.0\n",
       "4    1.0\n",
       "Name: 2, dtype: float64"
      ]
     },
     "execution_count": 5,
     "metadata": {},
     "output_type": "execute_result"
    }
   ],
   "source": [
    "rating_data.iloc[:,2].head()"
   ]
  },
  {
   "cell_type": "code",
   "execution_count": 6,
   "metadata": {},
   "outputs": [
    {
     "data": {
      "text/plain": [
       "5.0    1194269\n",
       "4.0     240812\n",
       "1.0     141598\n",
       "3.0     109987\n",
       "2.0      71667\n",
       "Name: 2, dtype: int64"
      ]
     },
     "execution_count": 6,
     "metadata": {},
     "output_type": "execute_result"
    }
   ],
   "source": [
    "rating_data.iloc[:,2].value_counts()"
   ]
  },
  {
   "cell_type": "markdown",
   "metadata": {},
   "source": [
    "В нашем датасете 5 - наиболее часто выставляемый рейтинг, 2 - самый редкий рейтинг"
   ]
  },
  {
   "cell_type": "code",
   "execution_count": 7,
   "metadata": {},
   "outputs": [
    {
     "data": {
      "text/plain": [
       "(array([ 141598.,   71667.,  109987.,  240812., 1194269.]),\n",
       " array([1. , 1.8, 2.6, 3.4, 4.2, 5. ]),\n",
       " <a list of 5 Patch objects>)"
      ]
     },
     "execution_count": 7,
     "metadata": {},
     "output_type": "execute_result"
    },
    {
     "data": {
      "image/png": "[encoded data removed]",
      "text/plain": [
       "<Figure size 432x288 with 1 Axes>"
      ]
     },
     "metadata": {
      "needs_background": "light"
     },
     "output_type": "display_data"
    }
   ],
   "source": [
    "plt.hist(rating_data.iloc[:,2], bins=5)"
   ]
  },
  {
   "cell_type": "code",
   "execution_count": 8,
   "metadata": {},
   "outputs": [
    {
     "data": {
      "text/plain": [
       "B00DRALJ28    14331\n",
       "B00AZBIZTW    12182\n",
       "B0013BKDO8    11762\n",
       "B005KMDV9A     6359\n",
       "B008YA6BWE     6154\n",
       "              ...  \n",
       "B00I2VTERO        1\n",
       "B01DX1SKTU        1\n",
       "B004444JV4        1\n",
       "B00NI9Z4TM        1\n",
       "B00OI6ESEG        1\n",
       "Name: 0, Length: 165764, dtype: int64"
      ]
     },
     "execution_count": 8,
     "metadata": {},
     "output_type": "execute_result"
    }
   ],
   "source": [
    "# сколько юзеры оставили отзывов\n",
    "users = rating_data.iloc[:,0]\n",
    "users.value_counts()"
   ]
  },
  {
   "cell_type": "markdown",
   "metadata": {},
   "source": [
    "В нашем датасете 165764 уникальных пользователей оценили товары. Интересно, что максимальное число рейтингов - 14331. Как-то не верится, что один пользователь может оставить столько. Проверим по другим имеющимся датасетам информацию о таких пользователях."
   ]
  },
  {
   "cell_type": "code",
   "execution_count": 9,
   "metadata": {},
   "outputs": [
    {
     "data": {
      "text/plain": [
       "A2JZUUAAK3HNHS    156\n",
       "A3L1VJMHFWONCB    155\n",
       "A1JTTJ7M7EC7Q7    102\n",
       "A2W19IAPS7ZSDK     98\n",
       "A2J2MQ45S3N25N     82\n",
       "                 ... \n",
       "A2ZP6V5WGK7ERU      1\n",
       "AATPNKU0IO172       1\n",
       "A2HDDZ5SO3V5T7      1\n",
       "A1IJKALB8WFSZH      1\n",
       "AXMMWPZ3VOLBP       1\n",
       "Name: 1, Length: 1246131, dtype: int64"
      ]
     },
     "execution_count": 9,
     "metadata": {},
     "output_type": "execute_result"
    }
   ],
   "source": [
    "# на сколько товаров оставили отзывы\n",
    "rating_data.iloc[:,1].value_counts()"
   ]
  },
  {
   "cell_type": "code",
   "execution_count": 10,
   "metadata": {},
   "outputs": [],
   "source": [
    "def parse(path):\n",
    "  g = gzip.open(path, 'rb')\n",
    "  for l in g:\n",
    "    yield json.loads(l)\n",
    "\n",
    "def getDF(path):\n",
    "  i = 0\n",
    "  df = {}\n",
    "  for d in parse(path):\n",
    "    df[i] = d\n",
    "    i += 1\n",
    "  return pd.DataFrame.from_dict(df, orient='index')\n",
    "\n",
    "reviews_data = getDF('Industrial_and_Scientific_5.json.gz')"
   ]
  },
  {
   "cell_type": "code",
   "execution_count": 11,
   "metadata": {},
   "outputs": [
    {
     "data": {
      "text/html": [
       "<div>\n",
       "<style scoped>\n",
       "    .dataframe tbody tr th:only-of-type {\n",
       "        vertical-align: middle;\n",
       "    }\n",
       "\n",
       "    .dataframe tbody tr th {\n",
       "        vertical-align: top;\n",
       "    }\n",
       "\n",
       "    .dataframe thead th {\n",
       "        text-align: right;\n",
       "    }\n",
       "</style>\n",
       "<table border=\"1\" class=\"dataframe\">\n",
       "  <thead>\n",
       "    <tr style=\"text-align: right;\">\n",
       "      <th></th>\n",
       "      <th>overall</th>\n",
       "      <th>verified</th>\n",
       "      <th>reviewTime</th>\n",
       "      <th>reviewerID</th>\n",
       "      <th>asin</th>\n",
       "      <th>style</th>\n",
       "      <th>reviewerName</th>\n",
       "      <th>reviewText</th>\n",
       "      <th>summary</th>\n",
       "      <th>unixReviewTime</th>\n",
       "      <th>vote</th>\n",
       "      <th>image</th>\n",
       "    </tr>\n",
       "  </thead>\n",
       "  <tbody>\n",
       "    <tr>\n",
       "      <th>0</th>\n",
       "      <td>5.0</td>\n",
       "      <td>True</td>\n",
       "      <td>11 27, 2017</td>\n",
       "      <td>A1JB7HFWHRYHT7</td>\n",
       "      <td>B0000223SI</td>\n",
       "      <td>{'Size:': ' 1-(Pack)'}</td>\n",
       "      <td>Alex W.</td>\n",
       "      <td>This worked really well for what I used it for...</td>\n",
       "      <td>Couldn't have been happier with it's performance</td>\n",
       "      <td>1511740800</td>\n",
       "      <td>NaN</td>\n",
       "      <td>NaN</td>\n",
       "    </tr>\n",
       "    <tr>\n",
       "      <th>1</th>\n",
       "      <td>5.0</td>\n",
       "      <td>True</td>\n",
       "      <td>11 4, 2017</td>\n",
       "      <td>A2FCLJG5GV8SD6</td>\n",
       "      <td>B0000223SI</td>\n",
       "      <td>{'Size:': ' 1-(Pack)'}</td>\n",
       "      <td>Randall Harris</td>\n",
       "      <td>Fast cutting and good adheasive.</td>\n",
       "      <td>Good paper.</td>\n",
       "      <td>1509753600</td>\n",
       "      <td>NaN</td>\n",
       "      <td>NaN</td>\n",
       "    </tr>\n",
       "    <tr>\n",
       "      <th>2</th>\n",
       "      <td>5.0</td>\n",
       "      <td>False</td>\n",
       "      <td>10 27, 2017</td>\n",
       "      <td>A3IT9B33NWYQSL</td>\n",
       "      <td>B0000223SI</td>\n",
       "      <td>{'Size:': ' 1-(Pack)'}</td>\n",
       "      <td>A. C.</td>\n",
       "      <td>Worked great for my lapping bench.  I would li...</td>\n",
       "      <td>Handy!</td>\n",
       "      <td>1509062400</td>\n",
       "      <td>NaN</td>\n",
       "      <td>NaN</td>\n",
       "    </tr>\n",
       "    <tr>\n",
       "      <th>3</th>\n",
       "      <td>4.0</td>\n",
       "      <td>True</td>\n",
       "      <td>01 13, 2018</td>\n",
       "      <td>AUL5LCV4TT73P</td>\n",
       "      <td>B0000223SK</td>\n",
       "      <td>{'Size:': ' 1-Pack'}</td>\n",
       "      <td>TnT</td>\n",
       "      <td>As advertised</td>\n",
       "      <td>As advertised</td>\n",
       "      <td>1515801600</td>\n",
       "      <td>NaN</td>\n",
       "      <td>NaN</td>\n",
       "    </tr>\n",
       "    <tr>\n",
       "      <th>4</th>\n",
       "      <td>5.0</td>\n",
       "      <td>True</td>\n",
       "      <td>10 7, 2017</td>\n",
       "      <td>A1V3I3L5JKO7TM</td>\n",
       "      <td>B0000223SK</td>\n",
       "      <td>{'Size:': ' 1-Pack'}</td>\n",
       "      <td>John Jones</td>\n",
       "      <td>seems like a pretty good value as opposed to b...</td>\n",
       "      <td>seems like a pretty good value as opposed to b...</td>\n",
       "      <td>1507334400</td>\n",
       "      <td>NaN</td>\n",
       "      <td>NaN</td>\n",
       "    </tr>\n",
       "  </tbody>\n",
       "</table>\n",
       "</div>"
      ],
      "text/plain": [
       "   overall  verified   reviewTime      reviewerID        asin  \\\n",
       "0      5.0      True  11 27, 2017  A1JB7HFWHRYHT7  B0000223SI   \n",
       "1      5.0      True   11 4, 2017  A2FCLJG5GV8SD6  B0000223SI   \n",
       "2      5.0     False  10 27, 2017  A3IT9B33NWYQSL  B0000223SI   \n",
       "3      4.0      True  01 13, 2018   AUL5LCV4TT73P  B0000223SK   \n",
       "4      5.0      True   10 7, 2017  A1V3I3L5JKO7TM  B0000223SK   \n",
       "\n",
       "                    style    reviewerName  \\\n",
       "0  {'Size:': ' 1-(Pack)'}         Alex W.   \n",
       "1  {'Size:': ' 1-(Pack)'}  Randall Harris   \n",
       "2  {'Size:': ' 1-(Pack)'}           A. C.   \n",
       "3    {'Size:': ' 1-Pack'}             TnT   \n",
       "4    {'Size:': ' 1-Pack'}      John Jones   \n",
       "\n",
       "                                          reviewText  \\\n",
       "0  This worked really well for what I used it for...   \n",
       "1                   Fast cutting and good adheasive.   \n",
       "2  Worked great for my lapping bench.  I would li...   \n",
       "3                                      As advertised   \n",
       "4  seems like a pretty good value as opposed to b...   \n",
       "\n",
       "                                             summary  unixReviewTime vote  \\\n",
       "0   Couldn't have been happier with it's performance      1511740800  NaN   \n",
       "1                                        Good paper.      1509753600  NaN   \n",
       "2                                             Handy!      1509062400  NaN   \n",
       "3                                      As advertised      1515801600  NaN   \n",
       "4  seems like a pretty good value as opposed to b...      1507334400  NaN   \n",
       "\n",
       "  image  \n",
       "0   NaN  \n",
       "1   NaN  \n",
       "2   NaN  \n",
       "3   NaN  \n",
       "4   NaN  "
      ]
     },
     "execution_count": 11,
     "metadata": {},
     "output_type": "execute_result"
    }
   ],
   "source": [
    "reviews_data.head()"
   ]
  },
  {
   "cell_type": "code",
   "execution_count": 12,
   "metadata": {},
   "outputs": [
    {
     "data": {
      "text/html": [
       "<div>\n",
       "<style scoped>\n",
       "    .dataframe tbody tr th:only-of-type {\n",
       "        vertical-align: middle;\n",
       "    }\n",
       "\n",
       "    .dataframe tbody tr th {\n",
       "        vertical-align: top;\n",
       "    }\n",
       "\n",
       "    .dataframe thead th {\n",
       "        text-align: right;\n",
       "    }\n",
       "</style>\n",
       "<table border=\"1\" class=\"dataframe\">\n",
       "  <thead>\n",
       "    <tr style=\"text-align: right;\">\n",
       "      <th></th>\n",
       "      <th>overall</th>\n",
       "      <th>verified</th>\n",
       "      <th>reviewTime</th>\n",
       "      <th>reviewerID</th>\n",
       "      <th>asin</th>\n",
       "      <th>style</th>\n",
       "      <th>reviewerName</th>\n",
       "      <th>reviewText</th>\n",
       "      <th>summary</th>\n",
       "      <th>unixReviewTime</th>\n",
       "      <th>vote</th>\n",
       "      <th>image</th>\n",
       "    </tr>\n",
       "  </thead>\n",
       "  <tbody>\n",
       "  </tbody>\n",
       "</table>\n",
       "</div>"
      ],
      "text/plain": [
       "Empty DataFrame\n",
       "Columns: [overall, verified, reviewTime, reviewerID, asin, style, reviewerName, reviewText, summary, unixReviewTime, vote, image]\n",
       "Index: []"
      ]
     },
     "execution_count": 12,
     "metadata": {},
     "output_type": "execute_result"
    }
   ],
   "source": [
    "reviews_data[reviews_data.reviewerID ==  'B00DRALJ28']"
   ]
  },
  {
   "cell_type": "code",
   "execution_count": 13,
   "metadata": {},
   "outputs": [
    {
     "data": {
      "text/html": [
       "<div>\n",
       "<style scoped>\n",
       "    .dataframe tbody tr th:only-of-type {\n",
       "        vertical-align: middle;\n",
       "    }\n",
       "\n",
       "    .dataframe tbody tr th {\n",
       "        vertical-align: top;\n",
       "    }\n",
       "\n",
       "    .dataframe thead th {\n",
       "        text-align: right;\n",
       "    }\n",
       "</style>\n",
       "<table border=\"1\" class=\"dataframe\">\n",
       "  <thead>\n",
       "    <tr style=\"text-align: right;\">\n",
       "      <th></th>\n",
       "      <th>overall</th>\n",
       "      <th>verified</th>\n",
       "      <th>reviewTime</th>\n",
       "      <th>reviewerID</th>\n",
       "      <th>asin</th>\n",
       "      <th>style</th>\n",
       "      <th>reviewerName</th>\n",
       "      <th>reviewText</th>\n",
       "      <th>summary</th>\n",
       "      <th>unixReviewTime</th>\n",
       "      <th>vote</th>\n",
       "      <th>image</th>\n",
       "    </tr>\n",
       "  </thead>\n",
       "  <tbody>\n",
       "    <tr>\n",
       "      <th>464</th>\n",
       "      <td>4.0</td>\n",
       "      <td>True</td>\n",
       "      <td>08 23, 2016</td>\n",
       "      <td>A2JZUUAAK3HNHS</td>\n",
       "      <td>B00004T7W2</td>\n",
       "      <td>{'Size:': ' 1/4\" Kit'}</td>\n",
       "      <td>Old Sarge</td>\n",
       "      <td>Work as they should.</td>\n",
       "      <td>Work as they should.</td>\n",
       "      <td>1471910400</td>\n",
       "      <td>NaN</td>\n",
       "      <td>NaN</td>\n",
       "    </tr>\n",
       "    <tr>\n",
       "      <th>911</th>\n",
       "      <td>3.0</td>\n",
       "      <td>True</td>\n",
       "      <td>12 30, 2016</td>\n",
       "      <td>A2JZUUAAK3HNHS</td>\n",
       "      <td>B00004YMDG</td>\n",
       "      <td>NaN</td>\n",
       "      <td>Old Sarge</td>\n",
       "      <td>It is what it is............</td>\n",
       "      <td>Three Stars</td>\n",
       "      <td>1483056000</td>\n",
       "      <td>NaN</td>\n",
       "      <td>NaN</td>\n",
       "    </tr>\n",
       "    <tr>\n",
       "      <th>4502</th>\n",
       "      <td>5.0</td>\n",
       "      <td>True</td>\n",
       "      <td>11 24, 2016</td>\n",
       "      <td>A2JZUUAAK3HNHS</td>\n",
       "      <td>B00095V0NC</td>\n",
       "      <td>NaN</td>\n",
       "      <td>Old Sarge</td>\n",
       "      <td>Great Piece, Works Great!</td>\n",
       "      <td>Five Stars</td>\n",
       "      <td>1479945600</td>\n",
       "      <td>NaN</td>\n",
       "      <td>NaN</td>\n",
       "    </tr>\n",
       "    <tr>\n",
       "      <th>5165</th>\n",
       "      <td>3.0</td>\n",
       "      <td>True</td>\n",
       "      <td>02 14, 2017</td>\n",
       "      <td>A2JZUUAAK3HNHS</td>\n",
       "      <td>B000BO9CJ0</td>\n",
       "      <td>{'Size:': ' 1/8\" x 1/4\"', 'Number of Items:': ...</td>\n",
       "      <td>Old Sarge</td>\n",
       "      <td>Just what I needed, and Good to Keep Around.</td>\n",
       "      <td>and Good to Keep Around</td>\n",
       "      <td>1487030400</td>\n",
       "      <td>NaN</td>\n",
       "      <td>NaN</td>\n",
       "    </tr>\n",
       "    <tr>\n",
       "      <th>8242</th>\n",
       "      <td>3.0</td>\n",
       "      <td>True</td>\n",
       "      <td>12 16, 2016</td>\n",
       "      <td>A2JZUUAAK3HNHS</td>\n",
       "      <td>B000H9FXEM</td>\n",
       "      <td>NaN</td>\n",
       "      <td>Old Sarge</td>\n",
       "      <td>It worked</td>\n",
       "      <td>Three Stars</td>\n",
       "      <td>1481846400</td>\n",
       "      <td>NaN</td>\n",
       "      <td>NaN</td>\n",
       "    </tr>\n",
       "    <tr>\n",
       "      <th>...</th>\n",
       "      <td>...</td>\n",
       "      <td>...</td>\n",
       "      <td>...</td>\n",
       "      <td>...</td>\n",
       "      <td>...</td>\n",
       "      <td>...</td>\n",
       "      <td>...</td>\n",
       "      <td>...</td>\n",
       "      <td>...</td>\n",
       "      <td>...</td>\n",
       "      <td>...</td>\n",
       "      <td>...</td>\n",
       "    </tr>\n",
       "    <tr>\n",
       "      <th>72193</th>\n",
       "      <td>5.0</td>\n",
       "      <td>True</td>\n",
       "      <td>11 24, 2016</td>\n",
       "      <td>A2JZUUAAK3HNHS</td>\n",
       "      <td>B006SJDKBS</td>\n",
       "      <td>NaN</td>\n",
       "      <td>Old Sarge</td>\n",
       "      <td>Great Piece, Works vevry well!</td>\n",
       "      <td>Five Stars</td>\n",
       "      <td>1479945600</td>\n",
       "      <td>NaN</td>\n",
       "      <td>NaN</td>\n",
       "    </tr>\n",
       "    <tr>\n",
       "      <th>73049</th>\n",
       "      <td>5.0</td>\n",
       "      <td>True</td>\n",
       "      <td>07 25, 2017</td>\n",
       "      <td>A2JZUUAAK3HNHS</td>\n",
       "      <td>B00BGCC9JQ</td>\n",
       "      <td>NaN</td>\n",
       "      <td>Old Sarge</td>\n",
       "      <td>Just what I Needed, GREAT TOOL!!!</td>\n",
       "      <td>GREAT TOOL!</td>\n",
       "      <td>1500940800</td>\n",
       "      <td>NaN</td>\n",
       "      <td>NaN</td>\n",
       "    </tr>\n",
       "    <tr>\n",
       "      <th>74552</th>\n",
       "      <td>5.0</td>\n",
       "      <td>True</td>\n",
       "      <td>07 25, 2017</td>\n",
       "      <td>A2JZUUAAK3HNHS</td>\n",
       "      <td>B00M3TQ54G</td>\n",
       "      <td>NaN</td>\n",
       "      <td>Old Sarge</td>\n",
       "      <td>Just what I Needed, GREAT TOOL!!!</td>\n",
       "      <td>GREAT TOOL!</td>\n",
       "      <td>1500940800</td>\n",
       "      <td>NaN</td>\n",
       "      <td>NaN</td>\n",
       "    </tr>\n",
       "    <tr>\n",
       "      <th>75336</th>\n",
       "      <td>4.0</td>\n",
       "      <td>True</td>\n",
       "      <td>12 11, 2017</td>\n",
       "      <td>A2JZUUAAK3HNHS</td>\n",
       "      <td>B00VDRKMTS</td>\n",
       "      <td>NaN</td>\n",
       "      <td>Old Sarge</td>\n",
       "      <td>Works</td>\n",
       "      <td>Four Stars</td>\n",
       "      <td>1512950400</td>\n",
       "      <td>NaN</td>\n",
       "      <td>NaN</td>\n",
       "    </tr>\n",
       "    <tr>\n",
       "      <th>75449</th>\n",
       "      <td>4.0</td>\n",
       "      <td>True</td>\n",
       "      <td>11 11, 2015</td>\n",
       "      <td>A2JZUUAAK3HNHS</td>\n",
       "      <td>B00X9H6PQO</td>\n",
       "      <td>NaN</td>\n",
       "      <td>Old Sarge</td>\n",
       "      <td>Have not used, Look like it will work for the job</td>\n",
       "      <td>Will Do the Job</td>\n",
       "      <td>1447200000</td>\n",
       "      <td>NaN</td>\n",
       "      <td>NaN</td>\n",
       "    </tr>\n",
       "  </tbody>\n",
       "</table>\n",
       "<p>61 rows × 12 columns</p>\n",
       "</div>"
      ],
      "text/plain": [
       "       overall  verified   reviewTime      reviewerID        asin  \\\n",
       "464        4.0      True  08 23, 2016  A2JZUUAAK3HNHS  B00004T7W2   \n",
       "911        3.0      True  12 30, 2016  A2JZUUAAK3HNHS  B00004YMDG   \n",
       "4502       5.0      True  11 24, 2016  A2JZUUAAK3HNHS  B00095V0NC   \n",
       "5165       3.0      True  02 14, 2017  A2JZUUAAK3HNHS  B000BO9CJ0   \n",
       "8242       3.0      True  12 16, 2016  A2JZUUAAK3HNHS  B000H9FXEM   \n",
       "...        ...       ...          ...             ...         ...   \n",
       "72193      5.0      True  11 24, 2016  A2JZUUAAK3HNHS  B006SJDKBS   \n",
       "73049      5.0      True  07 25, 2017  A2JZUUAAK3HNHS  B00BGCC9JQ   \n",
       "74552      5.0      True  07 25, 2017  A2JZUUAAK3HNHS  B00M3TQ54G   \n",
       "75336      4.0      True  12 11, 2017  A2JZUUAAK3HNHS  B00VDRKMTS   \n",
       "75449      4.0      True  11 11, 2015  A2JZUUAAK3HNHS  B00X9H6PQO   \n",
       "\n",
       "                                                   style reviewerName  \\\n",
       "464                               {'Size:': ' 1/4\" Kit'}    Old Sarge   \n",
       "911                                                  NaN    Old Sarge   \n",
       "4502                                                 NaN    Old Sarge   \n",
       "5165   {'Size:': ' 1/8\" x 1/4\"', 'Number of Items:': ...    Old Sarge   \n",
       "8242                                                 NaN    Old Sarge   \n",
       "...                                                  ...          ...   \n",
       "72193                                                NaN    Old Sarge   \n",
       "73049                                                NaN    Old Sarge   \n",
       "74552                                                NaN    Old Sarge   \n",
       "75336                                                NaN    Old Sarge   \n",
       "75449                                                NaN    Old Sarge   \n",
       "\n",
       "                                              reviewText  \\\n",
       "464                                 Work as they should.   \n",
       "911                         It is what it is............   \n",
       "4502                           Great Piece, Works Great!   \n",
       "5165        Just what I needed, and Good to Keep Around.   \n",
       "8242                                           It worked   \n",
       "...                                                  ...   \n",
       "72193                     Great Piece, Works vevry well!   \n",
       "73049                  Just what I Needed, GREAT TOOL!!!   \n",
       "74552                  Just what I Needed, GREAT TOOL!!!   \n",
       "75336                                              Works   \n",
       "75449  Have not used, Look like it will work for the job   \n",
       "\n",
       "                       summary  unixReviewTime vote image  \n",
       "464       Work as they should.      1471910400  NaN   NaN  \n",
       "911                Three Stars      1483056000  NaN   NaN  \n",
       "4502                Five Stars      1479945600  NaN   NaN  \n",
       "5165   and Good to Keep Around      1487030400  NaN   NaN  \n",
       "8242               Three Stars      1481846400  NaN   NaN  \n",
       "...                        ...             ...  ...   ...  \n",
       "72193               Five Stars      1479945600  NaN   NaN  \n",
       "73049              GREAT TOOL!      1500940800  NaN   NaN  \n",
       "74552              GREAT TOOL!      1500940800  NaN   NaN  \n",
       "75336               Four Stars      1512950400  NaN   NaN  \n",
       "75449          Will Do the Job      1447200000  NaN   NaN  \n",
       "\n",
       "[61 rows x 12 columns]"
      ]
     },
     "execution_count": 13,
     "metadata": {},
     "output_type": "execute_result"
    }
   ],
   "source": [
    "reviews_data[reviews_data.reviewerID ==  'A2JZUUAAK3HNHS']"
   ]
  },
  {
   "cell_type": "markdown",
   "metadata": {},
   "source": [
    "Судя по всему, в описании датасета названия колонок user и item переставлены местами. В действительности сначала идет item, потом user.<br>\n",
    "Итак, у нас __1246131__ уникальных пользователей и __165764__ уникальных товаров, которых эти пользователи оценили."
   ]
  },
  {
   "cell_type": "code",
   "execution_count": 14,
   "metadata": {},
   "outputs": [
    {
     "data": {
      "text/plain": [
       "A3L1VJMHFWONCB    99\n",
       "A2W19IAPS7ZSDK    64\n",
       "A2JZUUAAK3HNHS    61\n",
       "A3OXHLG6DIBRW8    55\n",
       "A2J2MQ45S3N25N    47\n",
       "                  ..\n",
       "A3A2555BBGXNMI     4\n",
       "A2FGD486F64BYM     4\n",
       "A2WTWR17KZ8ASZ     4\n",
       "A15CSHMACOQ70J     3\n",
       "A36UN90WLZ5X10     2\n",
       "Name: reviewerID, Length: 11041, dtype: int64"
      ]
     },
     "execution_count": 14,
     "metadata": {},
     "output_type": "execute_result"
    }
   ],
   "source": [
    "reviews_data.reviewerID.value_counts()"
   ]
  },
  {
   "cell_type": "code",
   "execution_count": 15,
   "metadata": {},
   "outputs": [
    {
     "data": {
      "text/plain": [
       "(77071, 12)"
      ]
     },
     "execution_count": 15,
     "metadata": {},
     "output_type": "execute_result"
    }
   ],
   "source": [
    "# сколько у нас отзывов пользователей\n",
    "reviews_data.shape"
   ]
  },
  {
   "cell_type": "markdown",
   "metadata": {},
   "source": [
    "Следующие куски кода для загрузки и конвертации датасетов были взяты [здесь](https://colab.research.google.com/drive/1Zv6MARGQcrBbLHyjPVVMZVnRWsRnVMpV#scrollTo=7Vq32rQd5D9W)"
   ]
  },
  {
   "cell_type": "code",
   "execution_count": 16,
   "metadata": {},
   "outputs": [
    {
     "name": "stdout",
     "output_type": "stream",
     "text": [
      "167524\n",
      "{'category': ['Industrial & Scientific', 'Industrial Electrical', 'Semiconductor Products', 'Interfaces', 'Radio Frequency Transceivers'], 'description': ['RCRF-03 - Works on all Turning Technologies RF systems along with RCRF-01 and RCRF-02.'], 'title': 'Turning Technologies Response Card (RCRF-03)', 'also_buy': ['1454894547', '0133455548', '0538741252', '193493139X', '1454882409', '0323295576', '0323512275', '158510048X', '0132911981', '032339020X', '080361571X', '0323310699', '0199782830', '1305968344', '1451192711', '0321972023', '0803659431', '0393614271', '0060556579', '1305616693', '0323265375', '0205992102', '0803644140', '111907732X', 'B002A5DM3U', '032175087X', '0133019934', '1725186527', '1454894776', '1305966066', '0134167546', '007352297X', '0393640345', '0321976495', '1119077257', 'B00HTK1CZG', '1609303377', '0226311511', '113395782X', '0134093410', '0323112021', '0803669453', '1426217986', '0323444199', '0134446526', '0134243064', 'B0018RRSOU', '0815344325', '0321815351', '0134414233', '125956231X', '0226816311', '0393630749', '0393603458', 'B07CV4T4BF', 'B00SH2SA2I', '0321841808', '1285444914', '0803600321', '1305092279', '0878934219', '1611637740', 'B00HTJM3O6', '1632848058', '0314258345', '1454871024', '1683286219', '0769898009', '1531009751', '0199384452', '0323398944', '0190631317', '0470129298', '0738041351', '1454880899', '0134112830', '1464126100', '1305597621', '1592578659', '0134553128', '0757531458', '0393311066', '1259573540', '007351215X', '1454868341', '1285858263', '1454849525', '0393265196', '0743417607', '1405146613', '1118647955', '0314159568', '0314286438', '0190246863', '1626239290', '1420959174', 'B00O3K5RSS', 'B01MSEDJUC'], 'image': ['https://images-na.ssl-images-amazon.com/images/I/51ptWXqrj3L._SX38_SY50_CR,0,0,38,50_.jpg', 'https://images-na.ssl-images-amazon.com/images/I/517LDMW%2BzmL._SX38_SY50_CR,0,0,38,50_.jpg'], 'brand': 'Turning Technologies, LLC', 'rank': '12,329inIndustrialScientific(', 'main_cat': 'Industrial & Scientific', 'price': '$23.61', 'asin': '0176496920'}\n"
     ]
    }
   ],
   "source": [
    "### load the meta data\n",
    "\n",
    "data = []\n",
    "with gzip.open('meta_Industrial_and_Scientific.json.gz') as f:\n",
    "    for l in f:\n",
    "        data.append(json.loads(l.strip()))\n",
    "    \n",
    "# total length of list, this number equals total number of products\n",
    "print(len(data))\n",
    "\n",
    "# first row of the list\n",
    "print(data[0])"
   ]
  },
  {
   "cell_type": "code",
   "execution_count": 17,
   "metadata": {},
   "outputs": [
    {
     "name": "stdout",
     "output_type": "stream",
     "text": [
      "167524\n"
     ]
    }
   ],
   "source": [
    "# convert list into pandas dataframe\n",
    "\n",
    "df = pd.DataFrame.from_dict(data)\n",
    "print(len(df))"
   ]
  },
  {
   "cell_type": "code",
   "execution_count": 18,
   "metadata": {},
   "outputs": [
    {
     "name": "stdout",
     "output_type": "stream",
     "text": [
      "2045\n",
      "165479\n"
     ]
    }
   ],
   "source": [
    "### remove rows with unformatted title (i.e. some 'title' may still contain html style content)\n",
    "\n",
    "df3 = df.fillna('')\n",
    "df4 = df3[df3.title.str.contains('getTime')] # unformatted rows\n",
    "meta_data = df3[~df3.title.str.contains('getTime')] # filter those unformatted rows\n",
    "print(len(df4))\n",
    "print(len(meta_data))"
   ]
  },
  {
   "cell_type": "code",
   "execution_count": 19,
   "metadata": {},
   "outputs": [
    {
     "data": {
      "text/plain": [
       "category        [Industrial & Scientific, Industrial Electrica...\n",
       "description     [ACDelco GM Original Equipment Radio Knobs are...\n",
       "title           var aPageStart = (new Date()).getTime();\\nvar ...\n",
       "also_buy                                             [B0013FDHPQ]\n",
       "image           [https://images-na.ssl-images-amazon.com/image...\n",
       "brand                                                     ACDelco\n",
       "rank            >#1,860,821 in Automotive (See top 100)>#7,832...\n",
       "main_cat                                               Automotive\n",
       "price                                                            \n",
       "asin                                                   B0013FFJM0\n",
       "tech1           {'Brand': 'ACDelco', 'Item Weight': '0.32 ounc...\n",
       "feature         [Radios vary based on your vehicle, trim selec...\n",
       "date                                             February 1, 2008\n",
       "also_view                                                        \n",
       "details                                                          \n",
       "similar_item                                                     \n",
       "tech2                                                            \n",
       "fit                                                              \n",
       "Name: 14391, dtype: object"
      ]
     },
     "execution_count": 19,
     "metadata": {},
     "output_type": "execute_result"
    }
   ],
   "source": [
    "# how those unformatted rows look like\n",
    "df4.iloc[0]"
   ]
  },
  {
   "cell_type": "code",
   "execution_count": 20,
   "metadata": {},
   "outputs": [
    {
     "data": {
      "text/plain": [
       "category        [Industrial & Scientific, Industrial Electrica...\n",
       "description     [RCRF-03 - Works on all Turning Technologies R...\n",
       "title                Turning Technologies Response Card (RCRF-03)\n",
       "also_buy        [1454894547, 0133455548, 0538741252, 193493139...\n",
       "image           [https://images-na.ssl-images-amazon.com/image...\n",
       "brand                                   Turning Technologies, LLC\n",
       "rank                                12,329inIndustrialScientific(\n",
       "main_cat                                  Industrial & Scientific\n",
       "price                                                      $23.61\n",
       "asin                                                   0176496920\n",
       "tech1                                                            \n",
       "feature                                                          \n",
       "date                                                             \n",
       "also_view                                                        \n",
       "details                                                          \n",
       "similar_item                                                     \n",
       "tech2                                                            \n",
       "fit                                                              \n",
       "Name: 0, dtype: object"
      ]
     },
     "execution_count": 20,
     "metadata": {},
     "output_type": "execute_result"
    }
   ],
   "source": [
    "meta_data.iloc[0]"
   ]
  },
  {
   "cell_type": "code",
   "execution_count": 21,
   "metadata": {},
   "outputs": [
    {
     "data": {
      "text/html": [
       "<div>\n",
       "<style scoped>\n",
       "    .dataframe tbody tr th:only-of-type {\n",
       "        vertical-align: middle;\n",
       "    }\n",
       "\n",
       "    .dataframe tbody tr th {\n",
       "        vertical-align: top;\n",
       "    }\n",
       "\n",
       "    .dataframe thead th {\n",
       "        text-align: right;\n",
       "    }\n",
       "</style>\n",
       "<table border=\"1\" class=\"dataframe\">\n",
       "  <thead>\n",
       "    <tr style=\"text-align: right;\">\n",
       "      <th></th>\n",
       "      <th>category</th>\n",
       "      <th>description</th>\n",
       "      <th>title</th>\n",
       "      <th>also_buy</th>\n",
       "      <th>image</th>\n",
       "      <th>brand</th>\n",
       "      <th>rank</th>\n",
       "      <th>main_cat</th>\n",
       "      <th>price</th>\n",
       "      <th>asin</th>\n",
       "      <th>tech1</th>\n",
       "      <th>feature</th>\n",
       "      <th>date</th>\n",
       "      <th>also_view</th>\n",
       "      <th>details</th>\n",
       "      <th>similar_item</th>\n",
       "      <th>tech2</th>\n",
       "      <th>fit</th>\n",
       "    </tr>\n",
       "  </thead>\n",
       "  <tbody>\n",
       "    <tr>\n",
       "      <th>0</th>\n",
       "      <td>[Industrial &amp; Scientific, Industrial Electrica...</td>\n",
       "      <td>[RCRF-03 - Works on all Turning Technologies R...</td>\n",
       "      <td>Turning Technologies Response Card (RCRF-03)</td>\n",
       "      <td>[1454894547, 0133455548, 0538741252, 193493139...</td>\n",
       "      <td>[https://images-na.ssl-images-amazon.com/image...</td>\n",
       "      <td>Turning Technologies, LLC</td>\n",
       "      <td>12,329inIndustrialScientific(</td>\n",
       "      <td>Industrial &amp; Scientific</td>\n",
       "      <td>$23.61</td>\n",
       "      <td>0176496920</td>\n",
       "      <td></td>\n",
       "      <td></td>\n",
       "      <td></td>\n",
       "      <td></td>\n",
       "      <td></td>\n",
       "      <td></td>\n",
       "      <td></td>\n",
       "      <td></td>\n",
       "    </tr>\n",
       "    <tr>\n",
       "      <th>1</th>\n",
       "      <td></td>\n",
       "      <td>[The only laminated pocket tool that provides ...</td>\n",
       "      <td>R-Cat 692782109 EKG Badge with Arrhythmia Pock...</td>\n",
       "      <td>[B01NBCNTJ9, B01IAHKULS, B01MT59BRR, 194100406...</td>\n",
       "      <td>[https://images-na.ssl-images-amazon.com/image...</td>\n",
       "      <td>R-Cat</td>\n",
       "      <td>20,174inIndustrialScientific(</td>\n",
       "      <td>Industrial &amp; Scientific</td>\n",
       "      <td>$20.00</td>\n",
       "      <td>0692782109</td>\n",
       "      <td></td>\n",
       "      <td></td>\n",
       "      <td></td>\n",
       "      <td></td>\n",
       "      <td></td>\n",
       "      <td></td>\n",
       "      <td></td>\n",
       "      <td></td>\n",
       "    </tr>\n",
       "    <tr>\n",
       "      <th>2</th>\n",
       "      <td>[Industrial &amp; Scientific, Science Education]</td>\n",
       "      <td>[, Now in its Second Edition,The Spinal Nerves...</td>\n",
       "      <td>Anatomical Chart Company's Illustrated Pocket ...</td>\n",
       "      <td>[0781776821, 078177683X, 0781776783, 157222684...</td>\n",
       "      <td></td>\n",
       "      <td>Anatomical Chart Company</td>\n",
       "      <td>&gt;#351,522 in Office Products (See top 100)&gt;#3,...</td>\n",
       "      <td>Office Products</td>\n",
       "      <td>$10.37</td>\n",
       "      <td>0781776848</td>\n",
       "      <td>{'Brand Name': 'Anatomical Chart Company', 'It...</td>\n",
       "      <td>[MPN: 9780781776844, Authentic Anatomical Char...</td>\n",
       "      <td>August 7, 2007</td>\n",
       "      <td></td>\n",
       "      <td></td>\n",
       "      <td></td>\n",
       "      <td></td>\n",
       "      <td></td>\n",
       "    </tr>\n",
       "    <tr>\n",
       "      <th>3</th>\n",
       "      <td>[Industrial &amp; Scientific, Science Education, C...</td>\n",
       "      <td>[, Developed in conjunction with a health prac...</td>\n",
       "      <td>Joints of the Lower Extremities Anatomical Chart</td>\n",
       "      <td>[0781786630, 1587798085, B004MAJHLW, 078178656...</td>\n",
       "      <td></td>\n",
       "      <td>Anatomical Chart Company</td>\n",
       "      <td>&gt;#459,493 in Office Products (See top 100)&gt;#39...</td>\n",
       "      <td>Office Products</td>\n",
       "      <td></td>\n",
       "      <td>0781786606</td>\n",
       "      <td>{'Brand Name': 'Anatomical Chart Company', 'It...</td>\n",
       "      <td>[MPN: 9780781786607, Authentic Anatomical Char...</td>\n",
       "      <td>February 26, 2009</td>\n",
       "      <td>[B07BCNHC3K, B07D6X5TCB, 1587799839]</td>\n",
       "      <td></td>\n",
       "      <td></td>\n",
       "      <td></td>\n",
       "      <td></td>\n",
       "    </tr>\n",
       "    <tr>\n",
       "      <th>4</th>\n",
       "      <td>[Industrial &amp; Scientific, Industrial Electrica...</td>\n",
       "      <td>[Advanced digital clicker used in college clas...</td>\n",
       "      <td>Turning Technologies ResponseCard XR RCXR-01</td>\n",
       "      <td>[0077402286, 1455706124]</td>\n",
       "      <td>[https://images-na.ssl-images-amazon.com/image...</td>\n",
       "      <td>Responsive Innovations</td>\n",
       "      <td>172,566inIndustrialScientific(</td>\n",
       "      <td>Industrial &amp; Scientific</td>\n",
       "      <td>$32.00</td>\n",
       "      <td>0840026080</td>\n",
       "      <td></td>\n",
       "      <td></td>\n",
       "      <td></td>\n",
       "      <td></td>\n",
       "      <td></td>\n",
       "      <td></td>\n",
       "      <td></td>\n",
       "      <td></td>\n",
       "    </tr>\n",
       "  </tbody>\n",
       "</table>\n",
       "</div>"
      ],
      "text/plain": [
       "                                            category  \\\n",
       "0  [Industrial & Scientific, Industrial Electrica...   \n",
       "1                                                      \n",
       "2       [Industrial & Scientific, Science Education]   \n",
       "3  [Industrial & Scientific, Science Education, C...   \n",
       "4  [Industrial & Scientific, Industrial Electrica...   \n",
       "\n",
       "                                         description  \\\n",
       "0  [RCRF-03 - Works on all Turning Technologies R...   \n",
       "1  [The only laminated pocket tool that provides ...   \n",
       "2  [, Now in its Second Edition,The Spinal Nerves...   \n",
       "3  [, Developed in conjunction with a health prac...   \n",
       "4  [Advanced digital clicker used in college clas...   \n",
       "\n",
       "                                               title  \\\n",
       "0       Turning Technologies Response Card (RCRF-03)   \n",
       "1  R-Cat 692782109 EKG Badge with Arrhythmia Pock...   \n",
       "2  Anatomical Chart Company's Illustrated Pocket ...   \n",
       "3   Joints of the Lower Extremities Anatomical Chart   \n",
       "4       Turning Technologies ResponseCard XR RCXR-01   \n",
       "\n",
       "                                            also_buy  \\\n",
       "0  [1454894547, 0133455548, 0538741252, 193493139...   \n",
       "1  [B01NBCNTJ9, B01IAHKULS, B01MT59BRR, 194100406...   \n",
       "2  [0781776821, 078177683X, 0781776783, 157222684...   \n",
       "3  [0781786630, 1587798085, B004MAJHLW, 078178656...   \n",
       "4                           [0077402286, 1455706124]   \n",
       "\n",
       "                                               image  \\\n",
       "0  [https://images-na.ssl-images-amazon.com/image...   \n",
       "1  [https://images-na.ssl-images-amazon.com/image...   \n",
       "2                                                      \n",
       "3                                                      \n",
       "4  [https://images-na.ssl-images-amazon.com/image...   \n",
       "\n",
       "                       brand  \\\n",
       "0  Turning Technologies, LLC   \n",
       "1                      R-Cat   \n",
       "2   Anatomical Chart Company   \n",
       "3   Anatomical Chart Company   \n",
       "4     Responsive Innovations   \n",
       "\n",
       "                                                rank                 main_cat  \\\n",
       "0                      12,329inIndustrialScientific(  Industrial & Scientific   \n",
       "1                      20,174inIndustrialScientific(  Industrial & Scientific   \n",
       "2  >#351,522 in Office Products (See top 100)>#3,...          Office Products   \n",
       "3  >#459,493 in Office Products (See top 100)>#39...          Office Products   \n",
       "4                     172,566inIndustrialScientific(  Industrial & Scientific   \n",
       "\n",
       "    price        asin                                              tech1  \\\n",
       "0  $23.61  0176496920                                                      \n",
       "1  $20.00  0692782109                                                      \n",
       "2  $10.37  0781776848  {'Brand Name': 'Anatomical Chart Company', 'It...   \n",
       "3          0781786606  {'Brand Name': 'Anatomical Chart Company', 'It...   \n",
       "4  $32.00  0840026080                                                      \n",
       "\n",
       "                                             feature               date  \\\n",
       "0                                                                         \n",
       "1                                                                         \n",
       "2  [MPN: 9780781776844, Authentic Anatomical Char...     August 7, 2007   \n",
       "3  [MPN: 9780781786607, Authentic Anatomical Char...  February 26, 2009   \n",
       "4                                                                         \n",
       "\n",
       "                              also_view details similar_item tech2 fit  \n",
       "0                                                                       \n",
       "1                                                                       \n",
       "2                                                                       \n",
       "3  [B07BCNHC3K, B07D6X5TCB, 1587799839]                                 \n",
       "4                                                                       "
      ]
     },
     "execution_count": 21,
     "metadata": {},
     "output_type": "execute_result"
    }
   ],
   "source": [
    "meta_data.head()"
   ]
  },
  {
   "cell_type": "code",
   "execution_count": 22,
   "metadata": {},
   "outputs": [
    {
     "data": {
      "text/plain": [
       "B00004UDN8    2\n",
       "B0002FQKFM    2\n",
       "B00004Z2H0    2\n",
       "B0002ZP4DQ    2\n",
       "B00004Z4CW    2\n",
       "             ..\n",
       "B00DNW2LQ8    1\n",
       "B00P6YYMZE    1\n",
       "B002SJBXES    1\n",
       "B016PF7IUS    1\n",
       "B00OI6ESEG    1\n",
       "Name: asin, Length: 163724, dtype: int64"
      ]
     },
     "execution_count": 22,
     "metadata": {},
     "output_type": "execute_result"
    }
   ],
   "source": [
    "meta_data['asin'].value_counts()"
   ]
  },
  {
   "cell_type": "markdown",
   "metadata": {},
   "source": [
    "У нас метаданные о 163724 уникальных товарах. Есть дубли для некоторых товаров. Рассмотрим эти дубли - одинаковая ли в них информация или нет."
   ]
  },
  {
   "cell_type": "code",
   "execution_count": 23,
   "metadata": {},
   "outputs": [],
   "source": [
    "double = meta_data.loc[meta_data['asin'] == 'B0000DD0XQ']"
   ]
  },
  {
   "cell_type": "code",
   "execution_count": 24,
   "metadata": {},
   "outputs": [
    {
     "data": {
      "text/html": [
       "<div>\n",
       "<style scoped>\n",
       "    .dataframe tbody tr th:only-of-type {\n",
       "        vertical-align: middle;\n",
       "    }\n",
       "\n",
       "    .dataframe tbody tr th {\n",
       "        vertical-align: top;\n",
       "    }\n",
       "\n",
       "    .dataframe thead th {\n",
       "        text-align: right;\n",
       "    }\n",
       "</style>\n",
       "<table border=\"1\" class=\"dataframe\">\n",
       "  <thead>\n",
       "    <tr style=\"text-align: right;\">\n",
       "      <th></th>\n",
       "      <th>category</th>\n",
       "      <th>description</th>\n",
       "      <th>title</th>\n",
       "      <th>also_buy</th>\n",
       "      <th>image</th>\n",
       "      <th>brand</th>\n",
       "      <th>rank</th>\n",
       "      <th>main_cat</th>\n",
       "      <th>price</th>\n",
       "      <th>asin</th>\n",
       "      <th>tech1</th>\n",
       "      <th>feature</th>\n",
       "      <th>date</th>\n",
       "      <th>also_view</th>\n",
       "      <th>details</th>\n",
       "      <th>similar_item</th>\n",
       "      <th>tech2</th>\n",
       "      <th>fit</th>\n",
       "    </tr>\n",
       "  </thead>\n",
       "  <tbody>\n",
       "    <tr>\n",
       "      <th>755</th>\n",
       "      <td>[Industrial &amp; Scientific, Food Service Equipme...</td>\n",
       "      <td>[Since the first day grizzly started we have b...</td>\n",
       "      <td>Grizzly G9914 Solid Maple Workbench Top</td>\n",
       "      <td></td>\n",
       "      <td>[https://images-na.ssl-images-amazon.com/image...</td>\n",
       "      <td>Grizzly</td>\n",
       "      <td>&gt;#609,819 in Tools &amp; Home Improvement (See top...</td>\n",
       "      <td>Tools &amp; Home Improvement</td>\n",
       "      <td></td>\n",
       "      <td>B0000DD0XQ</td>\n",
       "      <td>{'Part Number': 'G9914', 'Item Weight': '104.2...</td>\n",
       "      <td>[Made of Eastern hard rock (sugar) maple, Coat...</td>\n",
       "      <td>December 1, 2006</td>\n",
       "      <td>[B0000DD362, B00CX5E3FI, B00OI15VBU, B071HLSPD...</td>\n",
       "      <td></td>\n",
       "      <td></td>\n",
       "      <td></td>\n",
       "      <td></td>\n",
       "    </tr>\n",
       "    <tr>\n",
       "      <th>2510</th>\n",
       "      <td>[Industrial &amp; Scientific, Food Service Equipme...</td>\n",
       "      <td>[Since the first day grizzly started we have b...</td>\n",
       "      <td>Grizzly G9914 Solid Maple Workbench Top</td>\n",
       "      <td></td>\n",
       "      <td>[https://images-na.ssl-images-amazon.com/image...</td>\n",
       "      <td>Grizzly</td>\n",
       "      <td>&gt;#609,819 in Tools &amp; Home Improvement (See top...</td>\n",
       "      <td>Tools &amp; Home Improvement</td>\n",
       "      <td></td>\n",
       "      <td>B0000DD0XQ</td>\n",
       "      <td>{'Part Number': 'G9914', 'Item Weight': '104.2...</td>\n",
       "      <td>[Made of Eastern hard rock (sugar) maple, Coat...</td>\n",
       "      <td>December 1, 2006</td>\n",
       "      <td>[B0000DD362, B00CX5E3FI, B00OI15VBU, B071HLSPD...</td>\n",
       "      <td></td>\n",
       "      <td></td>\n",
       "      <td></td>\n",
       "      <td></td>\n",
       "    </tr>\n",
       "  </tbody>\n",
       "</table>\n",
       "</div>"
      ],
      "text/plain": [
       "                                               category  \\\n",
       "755   [Industrial & Scientific, Food Service Equipme...   \n",
       "2510  [Industrial & Scientific, Food Service Equipme...   \n",
       "\n",
       "                                            description  \\\n",
       "755   [Since the first day grizzly started we have b...   \n",
       "2510  [Since the first day grizzly started we have b...   \n",
       "\n",
       "                                        title also_buy  \\\n",
       "755   Grizzly G9914 Solid Maple Workbench Top            \n",
       "2510  Grizzly G9914 Solid Maple Workbench Top            \n",
       "\n",
       "                                                  image    brand  \\\n",
       "755   [https://images-na.ssl-images-amazon.com/image...  Grizzly   \n",
       "2510  [https://images-na.ssl-images-amazon.com/image...  Grizzly   \n",
       "\n",
       "                                                   rank  \\\n",
       "755   >#609,819 in Tools & Home Improvement (See top...   \n",
       "2510  >#609,819 in Tools & Home Improvement (See top...   \n",
       "\n",
       "                      main_cat price        asin  \\\n",
       "755   Tools & Home Improvement        B0000DD0XQ   \n",
       "2510  Tools & Home Improvement        B0000DD0XQ   \n",
       "\n",
       "                                                  tech1  \\\n",
       "755   {'Part Number': 'G9914', 'Item Weight': '104.2...   \n",
       "2510  {'Part Number': 'G9914', 'Item Weight': '104.2...   \n",
       "\n",
       "                                                feature              date  \\\n",
       "755   [Made of Eastern hard rock (sugar) maple, Coat...  December 1, 2006   \n",
       "2510  [Made of Eastern hard rock (sugar) maple, Coat...  December 1, 2006   \n",
       "\n",
       "                                              also_view details similar_item  \\\n",
       "755   [B0000DD362, B00CX5E3FI, B00OI15VBU, B071HLSPD...                        \n",
       "2510  [B0000DD362, B00CX5E3FI, B00OI15VBU, B071HLSPD...                        \n",
       "\n",
       "     tech2 fit  \n",
       "755             \n",
       "2510            "
      ]
     },
     "execution_count": 24,
     "metadata": {},
     "output_type": "execute_result"
    }
   ],
   "source": [
    "double"
   ]
  },
  {
   "cell_type": "code",
   "execution_count": 25,
   "metadata": {},
   "outputs": [
    {
     "data": {
      "text/plain": [
       "category        True\n",
       "description     True\n",
       "title           True\n",
       "also_buy        True\n",
       "image           True\n",
       "brand           True\n",
       "rank            True\n",
       "main_cat        True\n",
       "price           True\n",
       "asin            True\n",
       "tech1           True\n",
       "feature         True\n",
       "date            True\n",
       "also_view       True\n",
       "details         True\n",
       "similar_item    True\n",
       "tech2           True\n",
       "fit             True\n",
       "dtype: bool"
      ]
     },
     "execution_count": 25,
     "metadata": {},
     "output_type": "execute_result"
    }
   ],
   "source": [
    "double.loc[755] == double.loc[2510]"
   ]
  },
  {
   "cell_type": "code",
   "execution_count": 26,
   "metadata": {},
   "outputs": [],
   "source": [
    "double2 = meta_data.loc[meta_data['asin'] == 'B00002N5FK']"
   ]
  },
  {
   "cell_type": "code",
   "execution_count": 27,
   "metadata": {},
   "outputs": [
    {
     "data": {
      "text/html": [
       "<div>\n",
       "<style scoped>\n",
       "    .dataframe tbody tr th:only-of-type {\n",
       "        vertical-align: middle;\n",
       "    }\n",
       "\n",
       "    .dataframe tbody tr th {\n",
       "        vertical-align: top;\n",
       "    }\n",
       "\n",
       "    .dataframe thead th {\n",
       "        text-align: right;\n",
       "    }\n",
       "</style>\n",
       "<table border=\"1\" class=\"dataframe\">\n",
       "  <thead>\n",
       "    <tr style=\"text-align: right;\">\n",
       "      <th></th>\n",
       "      <th>category</th>\n",
       "      <th>description</th>\n",
       "      <th>title</th>\n",
       "      <th>also_buy</th>\n",
       "      <th>image</th>\n",
       "      <th>brand</th>\n",
       "      <th>rank</th>\n",
       "      <th>main_cat</th>\n",
       "      <th>price</th>\n",
       "      <th>asin</th>\n",
       "      <th>tech1</th>\n",
       "      <th>feature</th>\n",
       "      <th>date</th>\n",
       "      <th>also_view</th>\n",
       "      <th>details</th>\n",
       "      <th>similar_item</th>\n",
       "      <th>tech2</th>\n",
       "      <th>fit</th>\n",
       "    </tr>\n",
       "  </thead>\n",
       "  <tbody>\n",
       "    <tr>\n",
       "      <th>135</th>\n",
       "      <td>[Industrial &amp; Scientific, Industrial Electrica...</td>\n",
       "      <td>[About The Intermatic LC4521C LockingType Phot...</td>\n",
       "      <td>Intermatic LC4521C 120-Volt Locking Type Therm...</td>\n",
       "      <td>[B003A23HO6, B07DGSJV2B, B002CYVKP6, B00004XSA...</td>\n",
       "      <td></td>\n",
       "      <td>Intermatic</td>\n",
       "      <td>&gt;#178,611 in Tools &amp; Home Improvement (See top...</td>\n",
       "      <td>Tools &amp; Home Improvement</td>\n",
       "      <td>$6.05</td>\n",
       "      <td>B00002N5FK</td>\n",
       "      <td>{'Part Number': 'LC4521C', 'Item Weight': '3.2...</td>\n",
       "      <td>[Locking style thermal photocontrol provides d...</td>\n",
       "      <td>August 17, 2005</td>\n",
       "      <td></td>\n",
       "      <td></td>\n",
       "      <td></td>\n",
       "      <td></td>\n",
       "      <td></td>\n",
       "    </tr>\n",
       "    <tr>\n",
       "      <th>1890</th>\n",
       "      <td>[Industrial &amp; Scientific, Industrial Electrica...</td>\n",
       "      <td>[About The Intermatic LC4521C LockingType Phot...</td>\n",
       "      <td>Intermatic LC4521C 120-Volt Locking Type Therm...</td>\n",
       "      <td>[B003A23HO6, B07DGSJV2B, B002CYVKP6, B00004XSA...</td>\n",
       "      <td></td>\n",
       "      <td>Intermatic</td>\n",
       "      <td>&gt;#178,611 in Tools &amp; Home Improvement (See top...</td>\n",
       "      <td>Tools &amp; Home Improvement</td>\n",
       "      <td>$6.05</td>\n",
       "      <td>B00002N5FK</td>\n",
       "      <td>{'Part Number': 'LC4521C', 'Item Weight': '3.2...</td>\n",
       "      <td>[Locking style thermal photocontrol provides d...</td>\n",
       "      <td>August 17, 2005</td>\n",
       "      <td></td>\n",
       "      <td></td>\n",
       "      <td></td>\n",
       "      <td></td>\n",
       "      <td></td>\n",
       "    </tr>\n",
       "  </tbody>\n",
       "</table>\n",
       "</div>"
      ],
      "text/plain": [
       "                                               category  \\\n",
       "135   [Industrial & Scientific, Industrial Electrica...   \n",
       "1890  [Industrial & Scientific, Industrial Electrica...   \n",
       "\n",
       "                                            description  \\\n",
       "135   [About The Intermatic LC4521C LockingType Phot...   \n",
       "1890  [About The Intermatic LC4521C LockingType Phot...   \n",
       "\n",
       "                                                  title  \\\n",
       "135   Intermatic LC4521C 120-Volt Locking Type Therm...   \n",
       "1890  Intermatic LC4521C 120-Volt Locking Type Therm...   \n",
       "\n",
       "                                               also_buy image       brand  \\\n",
       "135   [B003A23HO6, B07DGSJV2B, B002CYVKP6, B00004XSA...        Intermatic   \n",
       "1890  [B003A23HO6, B07DGSJV2B, B002CYVKP6, B00004XSA...        Intermatic   \n",
       "\n",
       "                                                   rank  \\\n",
       "135   >#178,611 in Tools & Home Improvement (See top...   \n",
       "1890  >#178,611 in Tools & Home Improvement (See top...   \n",
       "\n",
       "                      main_cat  price        asin  \\\n",
       "135   Tools & Home Improvement  $6.05  B00002N5FK   \n",
       "1890  Tools & Home Improvement  $6.05  B00002N5FK   \n",
       "\n",
       "                                                  tech1  \\\n",
       "135   {'Part Number': 'LC4521C', 'Item Weight': '3.2...   \n",
       "1890  {'Part Number': 'LC4521C', 'Item Weight': '3.2...   \n",
       "\n",
       "                                                feature             date  \\\n",
       "135   [Locking style thermal photocontrol provides d...  August 17, 2005   \n",
       "1890  [Locking style thermal photocontrol provides d...  August 17, 2005   \n",
       "\n",
       "     also_view details similar_item tech2 fit  \n",
       "135                                            \n",
       "1890                                           "
      ]
     },
     "execution_count": 27,
     "metadata": {},
     "output_type": "execute_result"
    }
   ],
   "source": [
    "double2"
   ]
  },
  {
   "cell_type": "code",
   "execution_count": 28,
   "metadata": {},
   "outputs": [
    {
     "data": {
      "text/plain": [
       "category        True\n",
       "description     True\n",
       "title           True\n",
       "also_buy        True\n",
       "image           True\n",
       "brand           True\n",
       "rank            True\n",
       "main_cat        True\n",
       "price           True\n",
       "asin            True\n",
       "tech1           True\n",
       "feature         True\n",
       "date            True\n",
       "also_view       True\n",
       "details         True\n",
       "similar_item    True\n",
       "tech2           True\n",
       "fit             True\n",
       "dtype: bool"
      ]
     },
     "execution_count": 28,
     "metadata": {},
     "output_type": "execute_result"
    }
   ],
   "source": [
    "double2.loc[135] == double2.loc[1890]"
   ]
  },
  {
   "cell_type": "markdown",
   "metadata": {},
   "source": [
    "Видимо, дубли содержат идентичную информацию."
   ]
  },
  {
   "cell_type": "code",
   "execution_count": 29,
   "metadata": {},
   "outputs": [
    {
     "data": {
      "text/plain": [
       "(array([103236.,  24193.,  11773.,   7407.,   5247.,   4118.,   3106.,\n",
       "          2510.,   2120.,   1769.]),\n",
       " array([    0. ,  1598.7,  3197.4,  4796.1,  6394.8,  7993.5,  9592.2,\n",
       "        11190.9, 12789.6, 14388.3, 15987. ]),\n",
       " <a list of 10 Patch objects>)"
      ]
     },
     "execution_count": 29,
     "metadata": {},
     "output_type": "execute_result"
    },
    {
     "data": {
      "image/png": "[encoded data removed]",
      "text/plain": [
       "<Figure size 432x288 with 1 Axes>"
      ]
     },
     "metadata": {
      "needs_background": "light"
     },
     "output_type": "display_data"
    }
   ],
   "source": [
    "plt.hist(meta_data.price)"
   ]
  },
  {
   "cell_type": "code",
   "execution_count": 30,
   "metadata": {},
   "outputs": [],
   "source": [
    "rating_data = rating_data.rename(columns={0:'itemId', 1: 'userId', 2:'rating', 3:'timestamp'})"
   ]
  },
  {
   "cell_type": "code",
   "execution_count": 31,
   "metadata": {},
   "outputs": [
    {
     "data": {
      "text/html": [
       "<div>\n",
       "<style scoped>\n",
       "    .dataframe tbody tr th:only-of-type {\n",
       "        vertical-align: middle;\n",
       "    }\n",
       "\n",
       "    .dataframe tbody tr th {\n",
       "        vertical-align: top;\n",
       "    }\n",
       "\n",
       "    .dataframe thead th {\n",
       "        text-align: right;\n",
       "    }\n",
       "</style>\n",
       "<table border=\"1\" class=\"dataframe\">\n",
       "  <thead>\n",
       "    <tr style=\"text-align: right;\">\n",
       "      <th></th>\n",
       "      <th>itemId</th>\n",
       "      <th>userId</th>\n",
       "      <th>rating</th>\n",
       "      <th>timestamp</th>\n",
       "    </tr>\n",
       "  </thead>\n",
       "  <tbody>\n",
       "    <tr>\n",
       "      <th>0</th>\n",
       "      <td>0176496920</td>\n",
       "      <td>A3FANY5GOT5X0W</td>\n",
       "      <td>5.0</td>\n",
       "      <td>1358899200</td>\n",
       "    </tr>\n",
       "    <tr>\n",
       "      <th>1</th>\n",
       "      <td>0176496920</td>\n",
       "      <td>AT6HRPPYOPHMB</td>\n",
       "      <td>5.0</td>\n",
       "      <td>1352073600</td>\n",
       "    </tr>\n",
       "    <tr>\n",
       "      <th>2</th>\n",
       "      <td>0176496920</td>\n",
       "      <td>A4IX7B38LIN1E</td>\n",
       "      <td>4.0</td>\n",
       "      <td>1350432000</td>\n",
       "    </tr>\n",
       "    <tr>\n",
       "      <th>3</th>\n",
       "      <td>0176496920</td>\n",
       "      <td>A12Q4LR8N17AOZ</td>\n",
       "      <td>5.0</td>\n",
       "      <td>1490745600</td>\n",
       "    </tr>\n",
       "    <tr>\n",
       "      <th>4</th>\n",
       "      <td>0176496920</td>\n",
       "      <td>A1GJXZZPOZ3OD9</td>\n",
       "      <td>1.0</td>\n",
       "      <td>1490054400</td>\n",
       "    </tr>\n",
       "  </tbody>\n",
       "</table>\n",
       "</div>"
      ],
      "text/plain": [
       "       itemId          userId  rating   timestamp\n",
       "0  0176496920  A3FANY5GOT5X0W     5.0  1358899200\n",
       "1  0176496920   AT6HRPPYOPHMB     5.0  1352073600\n",
       "2  0176496920   A4IX7B38LIN1E     4.0  1350432000\n",
       "3  0176496920  A12Q4LR8N17AOZ     5.0  1490745600\n",
       "4  0176496920  A1GJXZZPOZ3OD9     1.0  1490054400"
      ]
     },
     "execution_count": 31,
     "metadata": {},
     "output_type": "execute_result"
    }
   ],
   "source": [
    "rating_data.head()"
   ]
  },
  {
   "cell_type": "code",
   "execution_count": 32,
   "metadata": {},
   "outputs": [],
   "source": [
    "users = list(np.sort(rating_data.userId.unique())) \n",
    "items = list(rating_data.itemId.unique()) \n",
    "rating = list(rating_data.rating)\n",
    "\n",
    "rows = rating_data.userId.astype('category').cat.codes \n",
    "cols = rating_data.itemId.astype('category').cat.codes \n",
    "rating_sparse = sparse.csr_matrix((rating, (rows, cols)), shape=(len(users), len(items)))"
   ]
  },
  {
   "cell_type": "code",
   "execution_count": 33,
   "metadata": {},
   "outputs": [
    {
     "data": {
      "text/plain": [
       "(1246131, 165764)"
      ]
     },
     "execution_count": 33,
     "metadata": {},
     "output_type": "execute_result"
    }
   ],
   "source": [
    "len(users), len(items)"
   ]
  },
  {
   "cell_type": "code",
   "execution_count": 34,
   "metadata": {},
   "outputs": [
    {
     "data": {
      "text/plain": [
       "99.99917120223006"
      ]
     },
     "execution_count": 34,
     "metadata": {},
     "output_type": "execute_result"
    }
   ],
   "source": [
    "matrix_size = rating_sparse.shape[0]*rating_sparse.shape[1] \n",
    "num_ratings = len(rating_sparse.nonzero()[0]) \n",
    "sparsity = 100*(1 - (num_ratings/matrix_size))\n",
    "sparsity"
   ]
  },
  {
   "cell_type": "markdown",
   "metadata": {},
   "source": [
    "Отложим часть данных для тестирования."
   ]
  },
  {
   "cell_type": "code",
   "execution_count": 43,
   "metadata": {},
   "outputs": [],
   "source": [
    "train_set, test_set = cross_validation.random_train_test_split(rating_sparse, test_percentage=0.2)"
   ]
  },
  {
   "cell_type": "code",
   "execution_count": 44,
   "metadata": {},
   "outputs": [
    {
     "data": {
      "text/plain": [
       "((1246131, 165764), (1246131, 165764))"
      ]
     },
     "execution_count": 44,
     "metadata": {},
     "output_type": "execute_result"
    }
   ],
   "source": [
    "train_set.shape, test_set.shape"
   ]
  },
  {
   "cell_type": "markdown",
   "metadata": {},
   "source": [
    "Построим модель и оценим качество с помощью AUC."
   ]
  },
  {
   "cell_type": "code",
   "execution_count": 46,
   "metadata": {},
   "outputs": [
    {
     "name": "stdout",
     "output_type": "stream",
     "text": [
      "AUC: train 1.00, test 0.85.\n"
     ]
    }
   ],
   "source": [
    "model = LightFM(loss='warp')\n",
    "model.fit_partial(train_set, epochs=40, num_threads=2)\n",
    "\n",
    "with open('saved_model','wb') as f:\n",
    "            saved_model={'model':model}\n",
    "            pickle.dump(saved_model, f)\n",
    "\n",
    "\n",
    "train_auc = auc_score(model, train_set).mean()\n",
    "test_auc = auc_score(model, test_set).mean()\n",
    "\n",
    "print('AUC: train %.2f, test %.2f.' % (train_auc, test_auc))\n"
   ]
  }
 ],
 "metadata": {
  "kernelspec": {
   "display_name": "Python 3",
   "language": "python",
   "name": "python3"
  },
  "language_info": {
   "codemirror_mode": {
    "name": "ipython",
    "version": 3
   },
   "file_extension": ".py",
   "mimetype": "text/x-python",
   "name": "python",
   "nbconvert_exporter": "python",
   "pygments_lexer": "ipython3",
   "version": "3.7.6"
  }
 },
 "nbformat": 4,
 "nbformat_minor": 4
}
