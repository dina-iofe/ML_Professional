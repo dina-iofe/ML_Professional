{
 "cells": [
  {
   "cell_type": "markdown",
   "metadata": {},
   "source": [
    "# Car Evaluation. Random Forest "
   ]
  },
  {
   "cell_type": "markdown",
   "metadata": {},
   "source": [
    "## Table of Content"
   ]
  },
  {
   "cell_type": "markdown",
   "metadata": {},
   "source": [
    "1. [Introduction](#Introduction)\n",
    "    1. [Data Description](#Data_Description)\n",
    "    2. [Columns Description](#Columns_Description)\n",
    "    3. [Project Objective](#Project_Objective)\n",
    "2. [Fetching Data](#Fetching_Data)\n",
    "3. [Preprocessing Data](#Preprocessing_Data)\n",
    "4. [Bagging & Decision Tree](#Bagging_DecisionTree)\n",
    "5. [Random Forest](#RandomForest)\n",
    "6. [Extremely Randomized Trees](#Extremely_Randomized_Trees)\n",
    "7. [Hyperparameters tuning](#Hyperparameter_Tuning)\n",
    "    1. [Validation Curves](#Validation_Curves)\n",
    "    2. [Randomized Search CV](#RandomizedSearchCV)\n",
    "    3. [Grid Search CV](#GridSearchCV)\n",
    "8. [Feature importance visualization](#Feature_Importance)\n",
    "9. [Conclusion](#Conclusion)"
   ]
  },
  {
   "cell_type": "markdown",
   "metadata": {},
   "source": [
    "<a id='Introduction'></a>"
   ]
  },
  {
   "cell_type": "markdown",
   "metadata": {},
   "source": [
    "## 1. Introduction"
   ]
  },
  {
   "cell_type": "markdown",
   "metadata": {},
   "source": [
    "<a id='Data_Description'></a>"
   ]
  },
  {
   "cell_type": "markdown",
   "metadata": {},
   "source": [
    "### Data Description"
   ]
  },
  {
   "cell_type": "markdown",
   "metadata": {},
   "source": [
    "[Car Evaluation](https://archive.ics.uci.edu/ml/datasets/Car+Evaluation) Database was derived from a simple hierarchical decision model originally developed for the demonstration of DEX, M. Bohanec, V. Rajkovic: Expert system for decision making. Sistemica 1(1), pp. 145-157, 1990.). The model evaluates cars according to the following concept structure:\n",
    "\n",
    "CAR car acceptability\n",
    "- PRICE overall price\n",
    "    - buying buying price\n",
    "    - maint price of the maintenance\n",
    "- TECH technical characteristics\n",
    "    - COMFORT comfort\n",
    "        - doors number of doors\n",
    "        - persons capacity in terms of persons to carry\n",
    "        - lug_boot the size of luggage boot\n",
    "    - safety estimated safety of the car\n",
    "\n",
    "Input attributes are printed in lowercase. Besides the target concept (CAR), the model includes three intermediate concepts: PRICE, TECH, COMFORT. Every concept is in the original model related to its lower level descendants by a set of examples.\n",
    "\n",
    "The Car Evaluation Database contains examples with the structural information removed, i.e., directly relates CAR to the six input attributes: `buying`, `maint`, `doors`, `persons`, `lug_boot`, `safety`.\n",
    "\n",
    "Because of known underlying concept structure, this database may be particularly useful for testing constructive induction and structure discovery methods."
   ]
  },
  {
   "cell_type": "markdown",
   "metadata": {},
   "source": [
    "<a id='Columns_Description'></a>"
   ]
  },
  {
   "cell_type": "markdown",
   "metadata": {},
   "source": [
    "### Columns Description"
   ]
  },
  {
   "cell_type": "markdown",
   "metadata": {},
   "source": [
    "- *buying* - buying price. Values:\n",
    "    - vhigh\n",
    "    - high\n",
    "    - med\n",
    "    - low\n",
    "- *maint* -  price of the maintenance. Values: \n",
    "    - vhigh\n",
    "    - high\n",
    "    - med\n",
    "    - low\n",
    "- *doors* -  number of doors. Values: \n",
    "    - 2\n",
    "    - 3\n",
    "    - 4\n",
    "    - 5more\n",
    "- *persons* - capacity in terms of persons to carry. Values:\n",
    "    - 2\n",
    "    - 4\n",
    "    - more\n",
    "- *lug_boot* - the size of luggage boot. Values:\n",
    "    - small\n",
    "    - med\n",
    "    - big\n",
    "- *safety* -  estimated safety of the car. Values:\n",
    "    - low\n",
    "    - med\n",
    "    - high\n",
    "- *class* - car acceptability. Target variable. Values:\n",
    "    - unacc\n",
    "    - acc\n",
    "    - good\n",
    "    - vgood"
   ]
  },
  {
   "cell_type": "markdown",
   "metadata": {},
   "source": [
    "<a id='Project_Objective'></a>"
   ]
  },
  {
   "cell_type": "markdown",
   "metadata": {},
   "source": [
    "### Project Objective "
   ]
  },
  {
   "cell_type": "markdown",
   "metadata": {},
   "source": [
    "Random forest model design. Hyperparameters tuning. Feature importance visualization."
   ]
  },
  {
   "cell_type": "markdown",
   "metadata": {},
   "source": [
    "<a id='Fetching_Data'></a>"
   ]
  },
  {
   "cell_type": "markdown",
   "metadata": {},
   "source": [
    "## 2. Fetching Data"
   ]
  },
  {
   "cell_type": "code",
   "execution_count": 1,
   "metadata": {},
   "outputs": [],
   "source": [
    "from __future__ import print_function\n",
    "from collections import defaultdict\n",
    "import pandas as pd\n",
    "import numpy as np\n",
    "import matplotlib\n",
    "import matplotlib.pyplot as plt\n",
    "\n",
    "from sklearn.model_selection import train_test_split, RandomizedSearchCV, GridSearchCV, validation_curve\n",
    "from sklearn.preprocessing import LabelEncoder\n",
    "from sklearn.ensemble import BaggingClassifier, RandomForestClassifier, ExtraTreesClassifier\n",
    "from sklearn.tree import DecisionTreeClassifier\n",
    "from sklearn.metrics import accuracy_score, f1_score, precision_score, recall_score\n",
    "\n",
    "from pprint import pprint\n",
    "\n",
    "%matplotlib inline"
   ]
  },
  {
   "cell_type": "code",
   "execution_count": 2,
   "metadata": {},
   "outputs": [],
   "source": [
    "column_names=['buying', 'maint', 'doors', 'persons', 'lug_boot', 'safety','class']"
   ]
  },
  {
   "cell_type": "code",
   "execution_count": 3,
   "metadata": {},
   "outputs": [],
   "source": [
    "data = pd.read_csv('car.data', header=None, sep=',', names=column_names)"
   ]
  },
  {
   "cell_type": "code",
   "execution_count": 4,
   "metadata": {},
   "outputs": [
    {
     "data": {
      "text/html": [
       "<div>\n",
       "<style scoped>\n",
       "    .dataframe tbody tr th:only-of-type {\n",
       "        vertical-align: middle;\n",
       "    }\n",
       "\n",
       "    .dataframe tbody tr th {\n",
       "        vertical-align: top;\n",
       "    }\n",
       "\n",
       "    .dataframe thead th {\n",
       "        text-align: right;\n",
       "    }\n",
       "</style>\n",
       "<table border=\"1\" class=\"dataframe\">\n",
       "  <thead>\n",
       "    <tr style=\"text-align: right;\">\n",
       "      <th></th>\n",
       "      <th>buying</th>\n",
       "      <th>maint</th>\n",
       "      <th>doors</th>\n",
       "      <th>persons</th>\n",
       "      <th>lug_boot</th>\n",
       "      <th>safety</th>\n",
       "      <th>class</th>\n",
       "    </tr>\n",
       "  </thead>\n",
       "  <tbody>\n",
       "    <tr>\n",
       "      <td>count</td>\n",
       "      <td>1728</td>\n",
       "      <td>1728</td>\n",
       "      <td>1728</td>\n",
       "      <td>1728</td>\n",
       "      <td>1728</td>\n",
       "      <td>1728</td>\n",
       "      <td>1728</td>\n",
       "    </tr>\n",
       "    <tr>\n",
       "      <td>unique</td>\n",
       "      <td>4</td>\n",
       "      <td>4</td>\n",
       "      <td>4</td>\n",
       "      <td>3</td>\n",
       "      <td>3</td>\n",
       "      <td>3</td>\n",
       "      <td>4</td>\n",
       "    </tr>\n",
       "    <tr>\n",
       "      <td>top</td>\n",
       "      <td>med</td>\n",
       "      <td>med</td>\n",
       "      <td>4</td>\n",
       "      <td>4</td>\n",
       "      <td>med</td>\n",
       "      <td>med</td>\n",
       "      <td>unacc</td>\n",
       "    </tr>\n",
       "    <tr>\n",
       "      <td>freq</td>\n",
       "      <td>432</td>\n",
       "      <td>432</td>\n",
       "      <td>432</td>\n",
       "      <td>576</td>\n",
       "      <td>576</td>\n",
       "      <td>576</td>\n",
       "      <td>1210</td>\n",
       "    </tr>\n",
       "  </tbody>\n",
       "</table>\n",
       "</div>"
      ],
      "text/plain": [
       "       buying maint doors persons lug_boot safety  class\n",
       "count    1728  1728  1728    1728     1728   1728   1728\n",
       "unique      4     4     4       3        3      3      4\n",
       "top       med   med     4       4      med    med  unacc\n",
       "freq      432   432   432     576      576    576   1210"
      ]
     },
     "execution_count": 4,
     "metadata": {},
     "output_type": "execute_result"
    }
   ],
   "source": [
    "data.describe()"
   ]
  },
  {
   "cell_type": "code",
   "execution_count": 5,
   "metadata": {},
   "outputs": [
    {
     "data": {
      "text/plain": [
       "unacc    1210\n",
       "acc       384\n",
       "good       69\n",
       "vgood      65\n",
       "Name: class, dtype: int64"
      ]
     },
     "execution_count": 5,
     "metadata": {},
     "output_type": "execute_result"
    }
   ],
   "source": [
    "data['class'].value_counts()"
   ]
  },
  {
   "cell_type": "markdown",
   "metadata": {},
   "source": [
    "The dataset is highly imbalanced."
   ]
  },
  {
   "cell_type": "markdown",
   "metadata": {},
   "source": [
    "<a id='Preprocessing_Data'></a>"
   ]
  },
  {
   "cell_type": "markdown",
   "metadata": {},
   "source": [
    "## 3. Preprocessing Data"
   ]
  },
  {
   "cell_type": "code",
   "execution_count": 6,
   "metadata": {},
   "outputs": [],
   "source": [
    "X = data.drop(columns='class')\n",
    "y = data['class']"
   ]
  },
  {
   "cell_type": "code",
   "execution_count": 7,
   "metadata": {},
   "outputs": [],
   "source": [
    "X_train, X_test, y_train, y_test = train_test_split(X, y, test_size=0.3)"
   ]
  },
  {
   "cell_type": "code",
   "execution_count": 8,
   "metadata": {},
   "outputs": [
    {
     "data": {
      "text/html": [
       "<div>\n",
       "<style scoped>\n",
       "    .dataframe tbody tr th:only-of-type {\n",
       "        vertical-align: middle;\n",
       "    }\n",
       "\n",
       "    .dataframe tbody tr th {\n",
       "        vertical-align: top;\n",
       "    }\n",
       "\n",
       "    .dataframe thead th {\n",
       "        text-align: right;\n",
       "    }\n",
       "</style>\n",
       "<table border=\"1\" class=\"dataframe\">\n",
       "  <thead>\n",
       "    <tr style=\"text-align: right;\">\n",
       "      <th></th>\n",
       "      <th>buying</th>\n",
       "      <th>maint</th>\n",
       "      <th>doors</th>\n",
       "      <th>persons</th>\n",
       "      <th>lug_boot</th>\n",
       "      <th>safety</th>\n",
       "    </tr>\n",
       "  </thead>\n",
       "  <tbody>\n",
       "    <tr>\n",
       "      <td>233</td>\n",
       "      <td>vhigh</td>\n",
       "      <td>med</td>\n",
       "      <td>2</td>\n",
       "      <td>4</td>\n",
       "      <td>big</td>\n",
       "      <td>high</td>\n",
       "    </tr>\n",
       "    <tr>\n",
       "      <td>212</td>\n",
       "      <td>vhigh</td>\n",
       "      <td>high</td>\n",
       "      <td>5more</td>\n",
       "      <td>more</td>\n",
       "      <td>med</td>\n",
       "      <td>high</td>\n",
       "    </tr>\n",
       "    <tr>\n",
       "      <td>1273</td>\n",
       "      <td>med</td>\n",
       "      <td>low</td>\n",
       "      <td>5more</td>\n",
       "      <td>2</td>\n",
       "      <td>med</td>\n",
       "      <td>med</td>\n",
       "    </tr>\n",
       "    <tr>\n",
       "      <td>117</td>\n",
       "      <td>vhigh</td>\n",
       "      <td>high</td>\n",
       "      <td>2</td>\n",
       "      <td>4</td>\n",
       "      <td>small</td>\n",
       "      <td>low</td>\n",
       "    </tr>\n",
       "    <tr>\n",
       "      <td>848</td>\n",
       "      <td>high</td>\n",
       "      <td>low</td>\n",
       "      <td>5more</td>\n",
       "      <td>4</td>\n",
       "      <td>small</td>\n",
       "      <td>high</td>\n",
       "    </tr>\n",
       "  </tbody>\n",
       "</table>\n",
       "</div>"
      ],
      "text/plain": [
       "     buying maint  doors persons lug_boot safety\n",
       "233   vhigh   med      2       4      big   high\n",
       "212   vhigh  high  5more    more      med   high\n",
       "1273    med   low  5more       2      med    med\n",
       "117   vhigh  high      2       4    small    low\n",
       "848    high   low  5more       4    small   high"
      ]
     },
     "execution_count": 8,
     "metadata": {},
     "output_type": "execute_result"
    }
   ],
   "source": [
    "X_train.head()"
   ]
  },
  {
   "cell_type": "code",
   "execution_count": 9,
   "metadata": {},
   "outputs": [
    {
     "data": {
      "text/plain": [
       "unacc    370\n",
       "acc      112\n",
       "good      19\n",
       "vgood     18\n",
       "Name: class, dtype: int64"
      ]
     },
     "execution_count": 9,
     "metadata": {},
     "output_type": "execute_result"
    }
   ],
   "source": [
    "y_test.value_counts()"
   ]
  },
  {
   "cell_type": "code",
   "execution_count": 10,
   "metadata": {},
   "outputs": [],
   "source": [
    "def encode_column(X_train, X_test, col_name = None):\n",
    "    #col_name = None for Series\n",
    "    enc = LabelEncoder()\n",
    "    \n",
    "    if col_name: \n",
    "        enc.fit(X_train[col_name])\n",
    "        X_train[col_name] = enc.transform(X_train[col_name])\n",
    "        X_test[col_name] = enc.transform(X_test[col_name])\n",
    "    else:\n",
    "        # for y_train and y_test Series\n",
    "        enc.fit(X_train)\n",
    "        X_train = enc.transform(X_train)\n",
    "        X_test = enc.transform(X_test)        \n",
    "    return enc.classes_    "
   ]
  },
  {
   "cell_type": "code",
   "execution_count": 11,
   "metadata": {},
   "outputs": [],
   "source": [
    "# dict for decoding\n",
    "column_classes = {}"
   ]
  },
  {
   "cell_type": "code",
   "execution_count": 12,
   "metadata": {},
   "outputs": [
    {
     "name": "stderr",
     "output_type": "stream",
     "text": [
      "C:\\Users\\dinak\\Anaconda3\\lib\\site-packages\\ipykernel_launcher.py:7: SettingWithCopyWarning: \n",
      "A value is trying to be set on a copy of a slice from a DataFrame.\n",
      "Try using .loc[row_indexer,col_indexer] = value instead\n",
      "\n",
      "See the caveats in the documentation: http://pandas.pydata.org/pandas-docs/stable/user_guide/indexing.html#returning-a-view-versus-a-copy\n",
      "  import sys\n",
      "C:\\Users\\dinak\\Anaconda3\\lib\\site-packages\\ipykernel_launcher.py:8: SettingWithCopyWarning: \n",
      "A value is trying to be set on a copy of a slice from a DataFrame.\n",
      "Try using .loc[row_indexer,col_indexer] = value instead\n",
      "\n",
      "See the caveats in the documentation: http://pandas.pydata.org/pandas-docs/stable/user_guide/indexing.html#returning-a-view-versus-a-copy\n",
      "  \n"
     ]
    }
   ],
   "source": [
    "for col in column_names:\n",
    "    if col == 'class':\n",
    "        column_classes[col] = encode_column(y_train, y_test)\n",
    "        continue            \n",
    "    column_classes[col] = encode_column(X_train, X_test, col)"
   ]
  },
  {
   "cell_type": "code",
   "execution_count": 13,
   "metadata": {},
   "outputs": [
    {
     "data": {
      "text/html": [
       "<div>\n",
       "<style scoped>\n",
       "    .dataframe tbody tr th:only-of-type {\n",
       "        vertical-align: middle;\n",
       "    }\n",
       "\n",
       "    .dataframe tbody tr th {\n",
       "        vertical-align: top;\n",
       "    }\n",
       "\n",
       "    .dataframe thead th {\n",
       "        text-align: right;\n",
       "    }\n",
       "</style>\n",
       "<table border=\"1\" class=\"dataframe\">\n",
       "  <thead>\n",
       "    <tr style=\"text-align: right;\">\n",
       "      <th></th>\n",
       "      <th>buying</th>\n",
       "      <th>maint</th>\n",
       "      <th>doors</th>\n",
       "      <th>persons</th>\n",
       "      <th>lug_boot</th>\n",
       "      <th>safety</th>\n",
       "    </tr>\n",
       "  </thead>\n",
       "  <tbody>\n",
       "    <tr>\n",
       "      <td>233</td>\n",
       "      <td>3</td>\n",
       "      <td>2</td>\n",
       "      <td>0</td>\n",
       "      <td>1</td>\n",
       "      <td>0</td>\n",
       "      <td>0</td>\n",
       "    </tr>\n",
       "    <tr>\n",
       "      <td>212</td>\n",
       "      <td>3</td>\n",
       "      <td>0</td>\n",
       "      <td>3</td>\n",
       "      <td>2</td>\n",
       "      <td>1</td>\n",
       "      <td>0</td>\n",
       "    </tr>\n",
       "    <tr>\n",
       "      <td>1273</td>\n",
       "      <td>2</td>\n",
       "      <td>1</td>\n",
       "      <td>3</td>\n",
       "      <td>0</td>\n",
       "      <td>1</td>\n",
       "      <td>2</td>\n",
       "    </tr>\n",
       "    <tr>\n",
       "      <td>117</td>\n",
       "      <td>3</td>\n",
       "      <td>0</td>\n",
       "      <td>0</td>\n",
       "      <td>1</td>\n",
       "      <td>2</td>\n",
       "      <td>1</td>\n",
       "    </tr>\n",
       "    <tr>\n",
       "      <td>848</td>\n",
       "      <td>0</td>\n",
       "      <td>1</td>\n",
       "      <td>3</td>\n",
       "      <td>1</td>\n",
       "      <td>2</td>\n",
       "      <td>0</td>\n",
       "    </tr>\n",
       "  </tbody>\n",
       "</table>\n",
       "</div>"
      ],
      "text/plain": [
       "      buying  maint  doors  persons  lug_boot  safety\n",
       "233        3      2      0        1         0       0\n",
       "212        3      0      3        2         1       0\n",
       "1273       2      1      3        0         1       2\n",
       "117        3      0      0        1         2       1\n",
       "848        0      1      3        1         2       0"
      ]
     },
     "execution_count": 13,
     "metadata": {},
     "output_type": "execute_result"
    }
   ],
   "source": [
    "X_train.head()"
   ]
  },
  {
   "cell_type": "code",
   "execution_count": 14,
   "metadata": {},
   "outputs": [],
   "source": [
    "def quality_report(prediction, actual, verbose=True):\n",
    "    report_str = \"Accuracy: \\t {:.3f}\\n\" +\\\n",
    "                 \"Precision micro: \\t {:.3f}\\n\" +\\\n",
    "                \"Precision macro: \\t {:.3f}\\n\" +\\\n",
    "                 \"Recall micro: \\t {:.3f}\\n\" +\\\n",
    "                \"Recall macro: \\t {:.3f}\\n\" +\\\n",
    "                 \"f1_score micro: \\t {:.3f}\\n\" +\\\n",
    "                \"f1_score macro: \\t {:.3f}\\n\"\n",
    "    \n",
    "    acc = accuracy_score(prediction, actual)\n",
    "    precision_micro = precision_score(prediction, actual, average='micro')\n",
    "    precision_macro = precision_score(prediction, actual, average='macro')\n",
    "    recall_micro = recall_score(prediction, actual, average='micro')\n",
    "    recall_macro = recall_score(prediction, actual, average='macro')\n",
    "    f1_micro = f1_score(prediction, actual, average='micro')\n",
    "    f1_macro = f1_score(prediction, actual, average='macro')    \n",
    "    \n",
    "    quality_list = [acc, precision_micro, precision_macro, recall_micro, recall_macro, f1_micro, f1_macro]\n",
    "    \n",
    "    if verbose:\n",
    "        print(\"\\n=== Quality Report ===\")\n",
    "        print(report_str.format(\n",
    "            accuracy_score(prediction, actual),\n",
    "            precision_score(prediction, actual, average='micro'),\n",
    "            precision_score(prediction, actual, average='macro'),\n",
    "            recall_score(prediction, actual, average='micro'),\n",
    "            recall_score(prediction, actual, average='macro'),\n",
    "            f1_score(prediction, actual, average='micro'),\n",
    "            f1_score(prediction, actual, average='macro')\n",
    "        ))\n",
    "        print(\"======================\\n\")\n",
    "    \n",
    "    return quality_list"
   ]
  },
  {
   "cell_type": "markdown",
   "metadata": {},
   "source": [
    "<a id='Bagging_DecisionTree'></a>"
   ]
  },
  {
   "cell_type": "markdown",
   "metadata": {},
   "source": [
    "## 4. Bagging & Decision Tree"
   ]
  },
  {
   "cell_type": "code",
   "execution_count": 15,
   "metadata": {},
   "outputs": [
    {
     "name": "stdout",
     "output_type": "stream",
     "text": [
      "\n",
      "=== Quality Report ===\n",
      "Accuracy: \t 0.906\n",
      "Precision micro: \t 0.906\n",
      "Precision macro: \t 0.703\n",
      "Recall micro: \t 0.906\n",
      "Recall macro: \t 0.650\n",
      "f1_score micro: \t 0.906\n",
      "f1_score macro: \t 0.673\n",
      "\n",
      "======================\n",
      "\n"
     ]
    },
    {
     "name": "stderr",
     "output_type": "stream",
     "text": [
      "C:\\Users\\dinak\\Anaconda3\\lib\\site-packages\\sklearn\\metrics\\classification.py:1439: UndefinedMetricWarning: Recall is ill-defined and being set to 0.0 in labels with no true samples.\n",
      "  'recall', 'true', average, warn_for)\n",
      "C:\\Users\\dinak\\Anaconda3\\lib\\site-packages\\sklearn\\metrics\\classification.py:1439: UndefinedMetricWarning: F-score is ill-defined and being set to 0.0 in labels with no true samples.\n",
      "  'recall', 'true', average, warn_for)\n"
     ]
    },
    {
     "data": {
      "text/html": [
       "<div>\n",
       "<style scoped>\n",
       "    .dataframe tbody tr th:only-of-type {\n",
       "        vertical-align: middle;\n",
       "    }\n",
       "\n",
       "    .dataframe tbody tr th {\n",
       "        vertical-align: top;\n",
       "    }\n",
       "\n",
       "    .dataframe thead th {\n",
       "        text-align: right;\n",
       "    }\n",
       "</style>\n",
       "<table border=\"1\" class=\"dataframe\">\n",
       "  <thead>\n",
       "    <tr style=\"text-align: right;\">\n",
       "      <th></th>\n",
       "      <th>Accuracy</th>\n",
       "      <th>Precision micro</th>\n",
       "      <th>Precision macro</th>\n",
       "      <th>Recall micro</th>\n",
       "      <th>Recall macro</th>\n",
       "      <th>F1_micro</th>\n",
       "      <th>F1_macro</th>\n",
       "    </tr>\n",
       "  </thead>\n",
       "  <tbody>\n",
       "    <tr>\n",
       "      <td>bagging_500</td>\n",
       "      <td>0.906</td>\n",
       "      <td>0.906</td>\n",
       "      <td>0.703</td>\n",
       "      <td>0.906</td>\n",
       "      <td>0.65</td>\n",
       "      <td>0.906</td>\n",
       "      <td>0.673</td>\n",
       "    </tr>\n",
       "  </tbody>\n",
       "</table>\n",
       "</div>"
      ],
      "text/plain": [
       "             Accuracy  Precision micro  Precision macro  Recall micro  \\\n",
       "bagging_500     0.906            0.906            0.703         0.906   \n",
       "\n",
       "             Recall macro  F1_micro  F1_macro  \n",
       "bagging_500          0.65     0.906     0.673  "
      ]
     },
     "execution_count": 15,
     "metadata": {},
     "output_type": "execute_result"
    }
   ],
   "source": [
    "bag_clf = BaggingClassifier(\n",
    "    DecisionTreeClassifier(splitter=\"random\", max_leaf_nodes=16, random_state=42),\n",
    "    n_estimators=500, max_samples=1.0, bootstrap=True, n_jobs=-1, random_state=42)\n",
    "bag_clf.fit(X_train, y_train)\n",
    "y_pred = bag_clf.predict(X_test)\n",
    "\n",
    "quality_list_baseline = quality_report(y_pred, y_test)\n",
    "df_quality = pd.DataFrame(\n",
    "    [quality_list_baseline],\n",
    "    columns=[\"Accuracy\", \"Precision micro\", \"Precision macro\",\"Recall micro\",\"Recall macro\", \"F1_micro\", \"F1_macro\"],\n",
    "    index=[\"bagging_500\"]\n",
    ")\n",
    "df_quality.round(3)"
   ]
  },
  {
   "cell_type": "markdown",
   "metadata": {},
   "source": [
    "What if we reduce estimators count?"
   ]
  },
  {
   "cell_type": "code",
   "execution_count": 16,
   "metadata": {},
   "outputs": [
    {
     "name": "stdout",
     "output_type": "stream",
     "text": [
      "\n",
      "=== Quality Report ===\n",
      "Accuracy: \t 0.904\n",
      "Precision micro: \t 0.904\n",
      "Precision macro: \t 0.702\n",
      "Recall micro: \t 0.904\n",
      "Recall macro: \t 0.649\n",
      "f1_score micro: \t 0.904\n",
      "f1_score macro: \t 0.672\n",
      "\n",
      "======================\n",
      "\n"
     ]
    },
    {
     "name": "stderr",
     "output_type": "stream",
     "text": [
      "C:\\Users\\dinak\\Anaconda3\\lib\\site-packages\\sklearn\\metrics\\classification.py:1439: UndefinedMetricWarning: Recall is ill-defined and being set to 0.0 in labels with no true samples.\n",
      "  'recall', 'true', average, warn_for)\n",
      "C:\\Users\\dinak\\Anaconda3\\lib\\site-packages\\sklearn\\metrics\\classification.py:1439: UndefinedMetricWarning: F-score is ill-defined and being set to 0.0 in labels with no true samples.\n",
      "  'recall', 'true', average, warn_for)\n"
     ]
    },
    {
     "data": {
      "text/html": [
       "<div>\n",
       "<style scoped>\n",
       "    .dataframe tbody tr th:only-of-type {\n",
       "        vertical-align: middle;\n",
       "    }\n",
       "\n",
       "    .dataframe tbody tr th {\n",
       "        vertical-align: top;\n",
       "    }\n",
       "\n",
       "    .dataframe thead th {\n",
       "        text-align: right;\n",
       "    }\n",
       "</style>\n",
       "<table border=\"1\" class=\"dataframe\">\n",
       "  <thead>\n",
       "    <tr style=\"text-align: right;\">\n",
       "      <th></th>\n",
       "      <th>Accuracy</th>\n",
       "      <th>Precision micro</th>\n",
       "      <th>Precision macro</th>\n",
       "      <th>Recall micro</th>\n",
       "      <th>Recall macro</th>\n",
       "      <th>F1_micro</th>\n",
       "      <th>F1_macro</th>\n",
       "    </tr>\n",
       "  </thead>\n",
       "  <tbody>\n",
       "    <tr>\n",
       "      <td>bagging_500</td>\n",
       "      <td>0.906</td>\n",
       "      <td>0.906</td>\n",
       "      <td>0.703</td>\n",
       "      <td>0.906</td>\n",
       "      <td>0.650</td>\n",
       "      <td>0.906</td>\n",
       "      <td>0.673</td>\n",
       "    </tr>\n",
       "    <tr>\n",
       "      <td>bagging_150</td>\n",
       "      <td>0.904</td>\n",
       "      <td>0.904</td>\n",
       "      <td>0.702</td>\n",
       "      <td>0.904</td>\n",
       "      <td>0.649</td>\n",
       "      <td>0.904</td>\n",
       "      <td>0.672</td>\n",
       "    </tr>\n",
       "  </tbody>\n",
       "</table>\n",
       "</div>"
      ],
      "text/plain": [
       "             Accuracy  Precision micro  Precision macro  Recall micro  \\\n",
       "bagging_500     0.906            0.906            0.703         0.906   \n",
       "bagging_150     0.904            0.904            0.702         0.904   \n",
       "\n",
       "             Recall macro  F1_micro  F1_macro  \n",
       "bagging_500         0.650     0.906     0.673  \n",
       "bagging_150         0.649     0.904     0.672  "
      ]
     },
     "execution_count": 16,
     "metadata": {},
     "output_type": "execute_result"
    }
   ],
   "source": [
    "bag_clf = BaggingClassifier(\n",
    "    DecisionTreeClassifier(splitter=\"random\", max_leaf_nodes=16, random_state=42),\n",
    "    n_estimators=150, max_samples=1.0, bootstrap=True, n_jobs=-1, random_state=42)\n",
    "bag_clf.fit(X_train, y_train)\n",
    "y_pred = bag_clf.predict(X_test)\n",
    "\n",
    "df_quality.loc[\"bagging_150\", :] = quality_report(y_pred, y_test)\n",
    "df_quality.round(3)"
   ]
  },
  {
   "cell_type": "markdown",
   "metadata": {},
   "source": [
    "What if we reduce max_features count?"
   ]
  },
  {
   "cell_type": "code",
   "execution_count": 17,
   "metadata": {},
   "outputs": [
    {
     "name": "stdout",
     "output_type": "stream",
     "text": [
      "\n",
      "=== Quality Report ===\n",
      "Accuracy: \t 0.898\n",
      "Precision micro: \t 0.898\n",
      "Precision macro: \t 0.659\n",
      "Recall micro: \t 0.898\n",
      "Recall macro: \t 0.669\n",
      "f1_score micro: \t 0.898\n",
      "f1_score macro: \t 0.657\n",
      "\n",
      "======================\n",
      "\n"
     ]
    },
    {
     "name": "stderr",
     "output_type": "stream",
     "text": [
      "C:\\Users\\dinak\\Anaconda3\\lib\\site-packages\\sklearn\\metrics\\classification.py:1439: UndefinedMetricWarning: Recall is ill-defined and being set to 0.0 in labels with no true samples.\n",
      "  'recall', 'true', average, warn_for)\n",
      "C:\\Users\\dinak\\Anaconda3\\lib\\site-packages\\sklearn\\metrics\\classification.py:1439: UndefinedMetricWarning: F-score is ill-defined and being set to 0.0 in labels with no true samples.\n",
      "  'recall', 'true', average, warn_for)\n"
     ]
    },
    {
     "data": {
      "text/html": [
       "<div>\n",
       "<style scoped>\n",
       "    .dataframe tbody tr th:only-of-type {\n",
       "        vertical-align: middle;\n",
       "    }\n",
       "\n",
       "    .dataframe tbody tr th {\n",
       "        vertical-align: top;\n",
       "    }\n",
       "\n",
       "    .dataframe thead th {\n",
       "        text-align: right;\n",
       "    }\n",
       "</style>\n",
       "<table border=\"1\" class=\"dataframe\">\n",
       "  <thead>\n",
       "    <tr style=\"text-align: right;\">\n",
       "      <th></th>\n",
       "      <th>Accuracy</th>\n",
       "      <th>Precision micro</th>\n",
       "      <th>Precision macro</th>\n",
       "      <th>Recall micro</th>\n",
       "      <th>Recall macro</th>\n",
       "      <th>F1_micro</th>\n",
       "      <th>F1_macro</th>\n",
       "    </tr>\n",
       "  </thead>\n",
       "  <tbody>\n",
       "    <tr>\n",
       "      <td>bagging_500</td>\n",
       "      <td>0.906</td>\n",
       "      <td>0.906</td>\n",
       "      <td>0.703</td>\n",
       "      <td>0.906</td>\n",
       "      <td>0.650</td>\n",
       "      <td>0.906</td>\n",
       "      <td>0.673</td>\n",
       "    </tr>\n",
       "    <tr>\n",
       "      <td>bagging_150</td>\n",
       "      <td>0.904</td>\n",
       "      <td>0.904</td>\n",
       "      <td>0.702</td>\n",
       "      <td>0.904</td>\n",
       "      <td>0.649</td>\n",
       "      <td>0.904</td>\n",
       "      <td>0.672</td>\n",
       "    </tr>\n",
       "    <tr>\n",
       "      <td>bagging_400_max_features_5</td>\n",
       "      <td>0.898</td>\n",
       "      <td>0.898</td>\n",
       "      <td>0.659</td>\n",
       "      <td>0.898</td>\n",
       "      <td>0.669</td>\n",
       "      <td>0.898</td>\n",
       "      <td>0.657</td>\n",
       "    </tr>\n",
       "  </tbody>\n",
       "</table>\n",
       "</div>"
      ],
      "text/plain": [
       "                            Accuracy  Precision micro  Precision macro  \\\n",
       "bagging_500                    0.906            0.906            0.703   \n",
       "bagging_150                    0.904            0.904            0.702   \n",
       "bagging_400_max_features_5     0.898            0.898            0.659   \n",
       "\n",
       "                            Recall micro  Recall macro  F1_micro  F1_macro  \n",
       "bagging_500                        0.906         0.650     0.906     0.673  \n",
       "bagging_150                        0.904         0.649     0.904     0.672  \n",
       "bagging_400_max_features_5         0.898         0.669     0.898     0.657  "
      ]
     },
     "execution_count": 17,
     "metadata": {},
     "output_type": "execute_result"
    }
   ],
   "source": [
    "bag_clf = BaggingClassifier(\n",
    "    DecisionTreeClassifier(splitter=\"random\", max_leaf_nodes=16, random_state=42, max_features = 5),\n",
    "    n_estimators=400, max_samples=1.0, bootstrap=True, n_jobs=-1, random_state=42)\n",
    "bag_clf.fit(X_train, y_train)\n",
    "y_pred = bag_clf.predict(X_test)\n",
    "\n",
    "df_quality.loc[\"bagging_400_max_features_5\", :] = quality_report(y_pred, y_test)\n",
    "df_quality.round(3)"
   ]
  },
  {
   "cell_type": "markdown",
   "metadata": {},
   "source": [
    "What if we apply balanced class weight?"
   ]
  },
  {
   "cell_type": "code",
   "execution_count": 18,
   "metadata": {},
   "outputs": [
    {
     "name": "stdout",
     "output_type": "stream",
     "text": [
      "\n",
      "=== Quality Report ===\n",
      "Accuracy: \t 0.802\n",
      "Precision micro: \t 0.802\n",
      "Precision macro: \t 0.882\n",
      "Recall micro: \t 0.802\n",
      "Recall macro: \t 0.686\n",
      "f1_score micro: \t 0.802\n",
      "f1_score macro: \t 0.750\n",
      "\n",
      "======================\n",
      "\n"
     ]
    },
    {
     "data": {
      "text/html": [
       "<div>\n",
       "<style scoped>\n",
       "    .dataframe tbody tr th:only-of-type {\n",
       "        vertical-align: middle;\n",
       "    }\n",
       "\n",
       "    .dataframe tbody tr th {\n",
       "        vertical-align: top;\n",
       "    }\n",
       "\n",
       "    .dataframe thead th {\n",
       "        text-align: right;\n",
       "    }\n",
       "</style>\n",
       "<table border=\"1\" class=\"dataframe\">\n",
       "  <thead>\n",
       "    <tr style=\"text-align: right;\">\n",
       "      <th></th>\n",
       "      <th>Accuracy</th>\n",
       "      <th>Precision micro</th>\n",
       "      <th>Precision macro</th>\n",
       "      <th>Recall micro</th>\n",
       "      <th>Recall macro</th>\n",
       "      <th>F1_micro</th>\n",
       "      <th>F1_macro</th>\n",
       "    </tr>\n",
       "  </thead>\n",
       "  <tbody>\n",
       "    <tr>\n",
       "      <td>bagging_500</td>\n",
       "      <td>0.906</td>\n",
       "      <td>0.906</td>\n",
       "      <td>0.703</td>\n",
       "      <td>0.906</td>\n",
       "      <td>0.650</td>\n",
       "      <td>0.906</td>\n",
       "      <td>0.673</td>\n",
       "    </tr>\n",
       "    <tr>\n",
       "      <td>bagging_150</td>\n",
       "      <td>0.904</td>\n",
       "      <td>0.904</td>\n",
       "      <td>0.702</td>\n",
       "      <td>0.904</td>\n",
       "      <td>0.649</td>\n",
       "      <td>0.904</td>\n",
       "      <td>0.672</td>\n",
       "    </tr>\n",
       "    <tr>\n",
       "      <td>bagging_400_max_features_5</td>\n",
       "      <td>0.898</td>\n",
       "      <td>0.898</td>\n",
       "      <td>0.659</td>\n",
       "      <td>0.898</td>\n",
       "      <td>0.669</td>\n",
       "      <td>0.898</td>\n",
       "      <td>0.657</td>\n",
       "    </tr>\n",
       "    <tr>\n",
       "      <td>bagging_500_balanced_class</td>\n",
       "      <td>0.802</td>\n",
       "      <td>0.802</td>\n",
       "      <td>0.882</td>\n",
       "      <td>0.802</td>\n",
       "      <td>0.686</td>\n",
       "      <td>0.802</td>\n",
       "      <td>0.750</td>\n",
       "    </tr>\n",
       "  </tbody>\n",
       "</table>\n",
       "</div>"
      ],
      "text/plain": [
       "                            Accuracy  Precision micro  Precision macro  \\\n",
       "bagging_500                    0.906            0.906            0.703   \n",
       "bagging_150                    0.904            0.904            0.702   \n",
       "bagging_400_max_features_5     0.898            0.898            0.659   \n",
       "bagging_500_balanced_class     0.802            0.802            0.882   \n",
       "\n",
       "                            Recall micro  Recall macro  F1_micro  F1_macro  \n",
       "bagging_500                        0.906         0.650     0.906     0.673  \n",
       "bagging_150                        0.904         0.649     0.904     0.672  \n",
       "bagging_400_max_features_5         0.898         0.669     0.898     0.657  \n",
       "bagging_500_balanced_class         0.802         0.686     0.802     0.750  "
      ]
     },
     "execution_count": 18,
     "metadata": {},
     "output_type": "execute_result"
    }
   ],
   "source": [
    "bag_clf = BaggingClassifier(\n",
    "    DecisionTreeClassifier(splitter=\"random\", max_leaf_nodes=16, random_state=42, class_weight='balanced'),\n",
    "    n_estimators=500, max_samples=1.0, bootstrap=True, n_jobs=-1, random_state=42)\n",
    "bag_clf.fit(X_train, y_train)\n",
    "y_pred = bag_clf.predict(X_test)\n",
    "\n",
    "df_quality.loc[\"bagging_500_balanced_class\", :] = quality_report(y_pred, y_test)\n",
    "df_quality.round(3)"
   ]
  },
  {
   "cell_type": "markdown",
   "metadata": {},
   "source": [
    "<a id='RandomForest'></a>"
   ]
  },
  {
   "cell_type": "markdown",
   "metadata": {},
   "source": [
    "## 5. Random forest"
   ]
  },
  {
   "cell_type": "markdown",
   "metadata": {},
   "source": [
    "Let it be baseline random forest model."
   ]
  },
  {
   "cell_type": "code",
   "execution_count": 19,
   "metadata": {},
   "outputs": [
    {
     "name": "stdout",
     "output_type": "stream",
     "text": [
      "\n",
      "=== Quality Report ===\n",
      "Accuracy: \t 0.894\n",
      "Precision micro: \t 0.894\n",
      "Precision macro: \t 0.641\n",
      "Recall micro: \t 0.894\n",
      "Recall macro: \t 0.658\n",
      "f1_score micro: \t 0.894\n",
      "f1_score macro: \t 0.648\n",
      "\n",
      "======================\n",
      "\n"
     ]
    },
    {
     "name": "stderr",
     "output_type": "stream",
     "text": [
      "C:\\Users\\dinak\\Anaconda3\\lib\\site-packages\\sklearn\\metrics\\classification.py:1439: UndefinedMetricWarning: Recall is ill-defined and being set to 0.0 in labels with no true samples.\n",
      "  'recall', 'true', average, warn_for)\n",
      "C:\\Users\\dinak\\Anaconda3\\lib\\site-packages\\sklearn\\metrics\\classification.py:1439: UndefinedMetricWarning: F-score is ill-defined and being set to 0.0 in labels with no true samples.\n",
      "  'recall', 'true', average, warn_for)\n"
     ]
    },
    {
     "data": {
      "text/html": [
       "<div>\n",
       "<style scoped>\n",
       "    .dataframe tbody tr th:only-of-type {\n",
       "        vertical-align: middle;\n",
       "    }\n",
       "\n",
       "    .dataframe tbody tr th {\n",
       "        vertical-align: top;\n",
       "    }\n",
       "\n",
       "    .dataframe thead th {\n",
       "        text-align: right;\n",
       "    }\n",
       "</style>\n",
       "<table border=\"1\" class=\"dataframe\">\n",
       "  <thead>\n",
       "    <tr style=\"text-align: right;\">\n",
       "      <th></th>\n",
       "      <th>Accuracy</th>\n",
       "      <th>Precision micro</th>\n",
       "      <th>Precision macro</th>\n",
       "      <th>Recall micro</th>\n",
       "      <th>Recall macro</th>\n",
       "      <th>F1_micro</th>\n",
       "      <th>F1_macro</th>\n",
       "    </tr>\n",
       "  </thead>\n",
       "  <tbody>\n",
       "    <tr>\n",
       "      <td>bagging_500</td>\n",
       "      <td>0.906</td>\n",
       "      <td>0.906</td>\n",
       "      <td>0.703</td>\n",
       "      <td>0.906</td>\n",
       "      <td>0.650</td>\n",
       "      <td>0.906</td>\n",
       "      <td>0.673</td>\n",
       "    </tr>\n",
       "    <tr>\n",
       "      <td>bagging_150</td>\n",
       "      <td>0.904</td>\n",
       "      <td>0.904</td>\n",
       "      <td>0.702</td>\n",
       "      <td>0.904</td>\n",
       "      <td>0.649</td>\n",
       "      <td>0.904</td>\n",
       "      <td>0.672</td>\n",
       "    </tr>\n",
       "    <tr>\n",
       "      <td>bagging_400_max_features_5</td>\n",
       "      <td>0.898</td>\n",
       "      <td>0.898</td>\n",
       "      <td>0.659</td>\n",
       "      <td>0.898</td>\n",
       "      <td>0.669</td>\n",
       "      <td>0.898</td>\n",
       "      <td>0.657</td>\n",
       "    </tr>\n",
       "    <tr>\n",
       "      <td>bagging_500_balanced_class</td>\n",
       "      <td>0.802</td>\n",
       "      <td>0.802</td>\n",
       "      <td>0.882</td>\n",
       "      <td>0.802</td>\n",
       "      <td>0.686</td>\n",
       "      <td>0.802</td>\n",
       "      <td>0.750</td>\n",
       "    </tr>\n",
       "    <tr>\n",
       "      <td>rf_500</td>\n",
       "      <td>0.894</td>\n",
       "      <td>0.894</td>\n",
       "      <td>0.641</td>\n",
       "      <td>0.894</td>\n",
       "      <td>0.658</td>\n",
       "      <td>0.894</td>\n",
       "      <td>0.648</td>\n",
       "    </tr>\n",
       "  </tbody>\n",
       "</table>\n",
       "</div>"
      ],
      "text/plain": [
       "                            Accuracy  Precision micro  Precision macro  \\\n",
       "bagging_500                    0.906            0.906            0.703   \n",
       "bagging_150                    0.904            0.904            0.702   \n",
       "bagging_400_max_features_5     0.898            0.898            0.659   \n",
       "bagging_500_balanced_class     0.802            0.802            0.882   \n",
       "rf_500                         0.894            0.894            0.641   \n",
       "\n",
       "                            Recall micro  Recall macro  F1_micro  F1_macro  \n",
       "bagging_500                        0.906         0.650     0.906     0.673  \n",
       "bagging_150                        0.904         0.649     0.904     0.672  \n",
       "bagging_400_max_features_5         0.898         0.669     0.898     0.657  \n",
       "bagging_500_balanced_class         0.802         0.686     0.802     0.750  \n",
       "rf_500                             0.894         0.658     0.894     0.648  "
      ]
     },
     "execution_count": 19,
     "metadata": {},
     "output_type": "execute_result"
    }
   ],
   "source": [
    "rnd_clf = RandomForestClassifier(n_estimators=500, max_leaf_nodes=16, n_jobs=-1, random_state=42)\n",
    "rnd_clf.fit(X_train, y_train)\n",
    "\n",
    "y_pred = rnd_clf.predict(X_test)\n",
    "\n",
    "df_quality.loc[\"rf_500\", :] = quality_report(y_pred, y_test)\n",
    "df_quality.round(3)"
   ]
  },
  {
   "cell_type": "markdown",
   "metadata": {},
   "source": [
    "Let's reduce estimators count to 200."
   ]
  },
  {
   "cell_type": "code",
   "execution_count": 20,
   "metadata": {},
   "outputs": [
    {
     "name": "stdout",
     "output_type": "stream",
     "text": [
      "\n",
      "=== Quality Report ===\n",
      "Accuracy: \t 0.894\n",
      "Precision micro: \t 0.894\n",
      "Precision macro: \t 0.641\n",
      "Recall micro: \t 0.894\n",
      "Recall macro: \t 0.658\n",
      "f1_score micro: \t 0.894\n",
      "f1_score macro: \t 0.648\n",
      "\n",
      "======================\n",
      "\n"
     ]
    },
    {
     "name": "stderr",
     "output_type": "stream",
     "text": [
      "C:\\Users\\dinak\\Anaconda3\\lib\\site-packages\\sklearn\\metrics\\classification.py:1439: UndefinedMetricWarning: Recall is ill-defined and being set to 0.0 in labels with no true samples.\n",
      "  'recall', 'true', average, warn_for)\n",
      "C:\\Users\\dinak\\Anaconda3\\lib\\site-packages\\sklearn\\metrics\\classification.py:1439: UndefinedMetricWarning: F-score is ill-defined and being set to 0.0 in labels with no true samples.\n",
      "  'recall', 'true', average, warn_for)\n"
     ]
    },
    {
     "data": {
      "text/html": [
       "<div>\n",
       "<style scoped>\n",
       "    .dataframe tbody tr th:only-of-type {\n",
       "        vertical-align: middle;\n",
       "    }\n",
       "\n",
       "    .dataframe tbody tr th {\n",
       "        vertical-align: top;\n",
       "    }\n",
       "\n",
       "    .dataframe thead th {\n",
       "        text-align: right;\n",
       "    }\n",
       "</style>\n",
       "<table border=\"1\" class=\"dataframe\">\n",
       "  <thead>\n",
       "    <tr style=\"text-align: right;\">\n",
       "      <th></th>\n",
       "      <th>Accuracy</th>\n",
       "      <th>Precision micro</th>\n",
       "      <th>Precision macro</th>\n",
       "      <th>Recall micro</th>\n",
       "      <th>Recall macro</th>\n",
       "      <th>F1_micro</th>\n",
       "      <th>F1_macro</th>\n",
       "    </tr>\n",
       "  </thead>\n",
       "  <tbody>\n",
       "    <tr>\n",
       "      <td>bagging_500</td>\n",
       "      <td>0.906</td>\n",
       "      <td>0.906</td>\n",
       "      <td>0.703</td>\n",
       "      <td>0.906</td>\n",
       "      <td>0.650</td>\n",
       "      <td>0.906</td>\n",
       "      <td>0.673</td>\n",
       "    </tr>\n",
       "    <tr>\n",
       "      <td>bagging_150</td>\n",
       "      <td>0.904</td>\n",
       "      <td>0.904</td>\n",
       "      <td>0.702</td>\n",
       "      <td>0.904</td>\n",
       "      <td>0.649</td>\n",
       "      <td>0.904</td>\n",
       "      <td>0.672</td>\n",
       "    </tr>\n",
       "    <tr>\n",
       "      <td>bagging_400_max_features_5</td>\n",
       "      <td>0.898</td>\n",
       "      <td>0.898</td>\n",
       "      <td>0.659</td>\n",
       "      <td>0.898</td>\n",
       "      <td>0.669</td>\n",
       "      <td>0.898</td>\n",
       "      <td>0.657</td>\n",
       "    </tr>\n",
       "    <tr>\n",
       "      <td>bagging_500_balanced_class</td>\n",
       "      <td>0.802</td>\n",
       "      <td>0.802</td>\n",
       "      <td>0.882</td>\n",
       "      <td>0.802</td>\n",
       "      <td>0.686</td>\n",
       "      <td>0.802</td>\n",
       "      <td>0.750</td>\n",
       "    </tr>\n",
       "    <tr>\n",
       "      <td>rf_500</td>\n",
       "      <td>0.894</td>\n",
       "      <td>0.894</td>\n",
       "      <td>0.641</td>\n",
       "      <td>0.894</td>\n",
       "      <td>0.658</td>\n",
       "      <td>0.894</td>\n",
       "      <td>0.648</td>\n",
       "    </tr>\n",
       "    <tr>\n",
       "      <td>rf_200</td>\n",
       "      <td>0.894</td>\n",
       "      <td>0.894</td>\n",
       "      <td>0.641</td>\n",
       "      <td>0.894</td>\n",
       "      <td>0.658</td>\n",
       "      <td>0.894</td>\n",
       "      <td>0.648</td>\n",
       "    </tr>\n",
       "  </tbody>\n",
       "</table>\n",
       "</div>"
      ],
      "text/plain": [
       "                            Accuracy  Precision micro  Precision macro  \\\n",
       "bagging_500                    0.906            0.906            0.703   \n",
       "bagging_150                    0.904            0.904            0.702   \n",
       "bagging_400_max_features_5     0.898            0.898            0.659   \n",
       "bagging_500_balanced_class     0.802            0.802            0.882   \n",
       "rf_500                         0.894            0.894            0.641   \n",
       "rf_200                         0.894            0.894            0.641   \n",
       "\n",
       "                            Recall micro  Recall macro  F1_micro  F1_macro  \n",
       "bagging_500                        0.906         0.650     0.906     0.673  \n",
       "bagging_150                        0.904         0.649     0.904     0.672  \n",
       "bagging_400_max_features_5         0.898         0.669     0.898     0.657  \n",
       "bagging_500_balanced_class         0.802         0.686     0.802     0.750  \n",
       "rf_500                             0.894         0.658     0.894     0.648  \n",
       "rf_200                             0.894         0.658     0.894     0.648  "
      ]
     },
     "execution_count": 20,
     "metadata": {},
     "output_type": "execute_result"
    }
   ],
   "source": [
    "rnd_clf = RandomForestClassifier(n_estimators=200, max_leaf_nodes=16, n_jobs=-1, random_state=42)\n",
    "rnd_clf.fit(X_train, y_train)\n",
    "\n",
    "y_pred = rnd_clf.predict(X_test)\n",
    "\n",
    "df_quality.loc[\"rf_200\", :] = quality_report(y_pred, y_test)\n",
    "df_quality.round(3)"
   ]
  },
  {
   "cell_type": "markdown",
   "metadata": {},
   "source": [
    "Let's reduce estimators count to 100."
   ]
  },
  {
   "cell_type": "code",
   "execution_count": 21,
   "metadata": {},
   "outputs": [
    {
     "name": "stdout",
     "output_type": "stream",
     "text": [
      "\n",
      "=== Quality Report ===\n",
      "Accuracy: \t 0.894\n",
      "Precision micro: \t 0.894\n",
      "Precision macro: \t 0.641\n",
      "Recall micro: \t 0.894\n",
      "Recall macro: \t 0.646\n",
      "f1_score micro: \t 0.894\n",
      "f1_score macro: \t 0.643\n",
      "\n",
      "======================\n",
      "\n"
     ]
    },
    {
     "name": "stderr",
     "output_type": "stream",
     "text": [
      "C:\\Users\\dinak\\Anaconda3\\lib\\site-packages\\sklearn\\metrics\\classification.py:1439: UndefinedMetricWarning: Recall is ill-defined and being set to 0.0 in labels with no true samples.\n",
      "  'recall', 'true', average, warn_for)\n",
      "C:\\Users\\dinak\\Anaconda3\\lib\\site-packages\\sklearn\\metrics\\classification.py:1439: UndefinedMetricWarning: F-score is ill-defined and being set to 0.0 in labels with no true samples.\n",
      "  'recall', 'true', average, warn_for)\n"
     ]
    },
    {
     "data": {
      "text/html": [
       "<div>\n",
       "<style scoped>\n",
       "    .dataframe tbody tr th:only-of-type {\n",
       "        vertical-align: middle;\n",
       "    }\n",
       "\n",
       "    .dataframe tbody tr th {\n",
       "        vertical-align: top;\n",
       "    }\n",
       "\n",
       "    .dataframe thead th {\n",
       "        text-align: right;\n",
       "    }\n",
       "</style>\n",
       "<table border=\"1\" class=\"dataframe\">\n",
       "  <thead>\n",
       "    <tr style=\"text-align: right;\">\n",
       "      <th></th>\n",
       "      <th>Accuracy</th>\n",
       "      <th>Precision micro</th>\n",
       "      <th>Precision macro</th>\n",
       "      <th>Recall micro</th>\n",
       "      <th>Recall macro</th>\n",
       "      <th>F1_micro</th>\n",
       "      <th>F1_macro</th>\n",
       "    </tr>\n",
       "  </thead>\n",
       "  <tbody>\n",
       "    <tr>\n",
       "      <td>bagging_500</td>\n",
       "      <td>0.906</td>\n",
       "      <td>0.906</td>\n",
       "      <td>0.703</td>\n",
       "      <td>0.906</td>\n",
       "      <td>0.650</td>\n",
       "      <td>0.906</td>\n",
       "      <td>0.673</td>\n",
       "    </tr>\n",
       "    <tr>\n",
       "      <td>bagging_150</td>\n",
       "      <td>0.904</td>\n",
       "      <td>0.904</td>\n",
       "      <td>0.702</td>\n",
       "      <td>0.904</td>\n",
       "      <td>0.649</td>\n",
       "      <td>0.904</td>\n",
       "      <td>0.672</td>\n",
       "    </tr>\n",
       "    <tr>\n",
       "      <td>bagging_400_max_features_5</td>\n",
       "      <td>0.898</td>\n",
       "      <td>0.898</td>\n",
       "      <td>0.659</td>\n",
       "      <td>0.898</td>\n",
       "      <td>0.669</td>\n",
       "      <td>0.898</td>\n",
       "      <td>0.657</td>\n",
       "    </tr>\n",
       "    <tr>\n",
       "      <td>bagging_500_balanced_class</td>\n",
       "      <td>0.802</td>\n",
       "      <td>0.802</td>\n",
       "      <td>0.882</td>\n",
       "      <td>0.802</td>\n",
       "      <td>0.686</td>\n",
       "      <td>0.802</td>\n",
       "      <td>0.750</td>\n",
       "    </tr>\n",
       "    <tr>\n",
       "      <td>rf_500</td>\n",
       "      <td>0.894</td>\n",
       "      <td>0.894</td>\n",
       "      <td>0.641</td>\n",
       "      <td>0.894</td>\n",
       "      <td>0.658</td>\n",
       "      <td>0.894</td>\n",
       "      <td>0.648</td>\n",
       "    </tr>\n",
       "    <tr>\n",
       "      <td>rf_200</td>\n",
       "      <td>0.894</td>\n",
       "      <td>0.894</td>\n",
       "      <td>0.641</td>\n",
       "      <td>0.894</td>\n",
       "      <td>0.658</td>\n",
       "      <td>0.894</td>\n",
       "      <td>0.648</td>\n",
       "    </tr>\n",
       "    <tr>\n",
       "      <td>rf_100</td>\n",
       "      <td>0.894</td>\n",
       "      <td>0.894</td>\n",
       "      <td>0.641</td>\n",
       "      <td>0.894</td>\n",
       "      <td>0.646</td>\n",
       "      <td>0.894</td>\n",
       "      <td>0.643</td>\n",
       "    </tr>\n",
       "  </tbody>\n",
       "</table>\n",
       "</div>"
      ],
      "text/plain": [
       "                            Accuracy  Precision micro  Precision macro  \\\n",
       "bagging_500                    0.906            0.906            0.703   \n",
       "bagging_150                    0.904            0.904            0.702   \n",
       "bagging_400_max_features_5     0.898            0.898            0.659   \n",
       "bagging_500_balanced_class     0.802            0.802            0.882   \n",
       "rf_500                         0.894            0.894            0.641   \n",
       "rf_200                         0.894            0.894            0.641   \n",
       "rf_100                         0.894            0.894            0.641   \n",
       "\n",
       "                            Recall micro  Recall macro  F1_micro  F1_macro  \n",
       "bagging_500                        0.906         0.650     0.906     0.673  \n",
       "bagging_150                        0.904         0.649     0.904     0.672  \n",
       "bagging_400_max_features_5         0.898         0.669     0.898     0.657  \n",
       "bagging_500_balanced_class         0.802         0.686     0.802     0.750  \n",
       "rf_500                             0.894         0.658     0.894     0.648  \n",
       "rf_200                             0.894         0.658     0.894     0.648  \n",
       "rf_100                             0.894         0.646     0.894     0.643  "
      ]
     },
     "execution_count": 21,
     "metadata": {},
     "output_type": "execute_result"
    }
   ],
   "source": [
    "rnd_clf = RandomForestClassifier(n_estimators=100, max_leaf_nodes=16, n_jobs=-1, random_state=42)\n",
    "rnd_clf.fit(X_train, y_train)\n",
    "\n",
    "y_pred = rnd_clf.predict(X_test)\n",
    "\n",
    "df_quality.loc[\"rf_100\", :] = quality_report(y_pred, y_test)\n",
    "df_quality.round(3)"
   ]
  },
  {
   "cell_type": "markdown",
   "metadata": {},
   "source": [
    "Let's build more trees with less depth."
   ]
  },
  {
   "cell_type": "code",
   "execution_count": 22,
   "metadata": {},
   "outputs": [
    {
     "name": "stdout",
     "output_type": "stream",
     "text": [
      "\n",
      "=== Quality Report ===\n",
      "Accuracy: \t 0.846\n",
      "Precision micro: \t 0.846\n",
      "Precision macro: \t 0.412\n",
      "Recall micro: \t 0.846\n",
      "Recall macro: \t 0.386\n",
      "f1_score micro: \t 0.846\n",
      "f1_score macro: \t 0.398\n",
      "\n",
      "======================\n",
      "\n"
     ]
    },
    {
     "name": "stderr",
     "output_type": "stream",
     "text": [
      "C:\\Users\\dinak\\Anaconda3\\lib\\site-packages\\sklearn\\metrics\\classification.py:1439: UndefinedMetricWarning: Recall is ill-defined and being set to 0.0 in labels with no true samples.\n",
      "  'recall', 'true', average, warn_for)\n",
      "C:\\Users\\dinak\\Anaconda3\\lib\\site-packages\\sklearn\\metrics\\classification.py:1439: UndefinedMetricWarning: F-score is ill-defined and being set to 0.0 in labels with no true samples.\n",
      "  'recall', 'true', average, warn_for)\n"
     ]
    },
    {
     "data": {
      "text/html": [
       "<div>\n",
       "<style scoped>\n",
       "    .dataframe tbody tr th:only-of-type {\n",
       "        vertical-align: middle;\n",
       "    }\n",
       "\n",
       "    .dataframe tbody tr th {\n",
       "        vertical-align: top;\n",
       "    }\n",
       "\n",
       "    .dataframe thead th {\n",
       "        text-align: right;\n",
       "    }\n",
       "</style>\n",
       "<table border=\"1\" class=\"dataframe\">\n",
       "  <thead>\n",
       "    <tr style=\"text-align: right;\">\n",
       "      <th></th>\n",
       "      <th>Accuracy</th>\n",
       "      <th>Precision micro</th>\n",
       "      <th>Precision macro</th>\n",
       "      <th>Recall micro</th>\n",
       "      <th>Recall macro</th>\n",
       "      <th>F1_micro</th>\n",
       "      <th>F1_macro</th>\n",
       "    </tr>\n",
       "  </thead>\n",
       "  <tbody>\n",
       "    <tr>\n",
       "      <td>bagging_500</td>\n",
       "      <td>0.906</td>\n",
       "      <td>0.906</td>\n",
       "      <td>0.703</td>\n",
       "      <td>0.906</td>\n",
       "      <td>0.650</td>\n",
       "      <td>0.906</td>\n",
       "      <td>0.673</td>\n",
       "    </tr>\n",
       "    <tr>\n",
       "      <td>bagging_150</td>\n",
       "      <td>0.904</td>\n",
       "      <td>0.904</td>\n",
       "      <td>0.702</td>\n",
       "      <td>0.904</td>\n",
       "      <td>0.649</td>\n",
       "      <td>0.904</td>\n",
       "      <td>0.672</td>\n",
       "    </tr>\n",
       "    <tr>\n",
       "      <td>bagging_400_max_features_5</td>\n",
       "      <td>0.898</td>\n",
       "      <td>0.898</td>\n",
       "      <td>0.659</td>\n",
       "      <td>0.898</td>\n",
       "      <td>0.669</td>\n",
       "      <td>0.898</td>\n",
       "      <td>0.657</td>\n",
       "    </tr>\n",
       "    <tr>\n",
       "      <td>bagging_500_balanced_class</td>\n",
       "      <td>0.802</td>\n",
       "      <td>0.802</td>\n",
       "      <td>0.882</td>\n",
       "      <td>0.802</td>\n",
       "      <td>0.686</td>\n",
       "      <td>0.802</td>\n",
       "      <td>0.750</td>\n",
       "    </tr>\n",
       "    <tr>\n",
       "      <td>rf_500</td>\n",
       "      <td>0.894</td>\n",
       "      <td>0.894</td>\n",
       "      <td>0.641</td>\n",
       "      <td>0.894</td>\n",
       "      <td>0.658</td>\n",
       "      <td>0.894</td>\n",
       "      <td>0.648</td>\n",
       "    </tr>\n",
       "    <tr>\n",
       "      <td>rf_200</td>\n",
       "      <td>0.894</td>\n",
       "      <td>0.894</td>\n",
       "      <td>0.641</td>\n",
       "      <td>0.894</td>\n",
       "      <td>0.658</td>\n",
       "      <td>0.894</td>\n",
       "      <td>0.648</td>\n",
       "    </tr>\n",
       "    <tr>\n",
       "      <td>rf_100</td>\n",
       "      <td>0.894</td>\n",
       "      <td>0.894</td>\n",
       "      <td>0.641</td>\n",
       "      <td>0.894</td>\n",
       "      <td>0.646</td>\n",
       "      <td>0.894</td>\n",
       "      <td>0.643</td>\n",
       "    </tr>\n",
       "    <tr>\n",
       "      <td>rf_400_max_depth_5</td>\n",
       "      <td>0.846</td>\n",
       "      <td>0.846</td>\n",
       "      <td>0.412</td>\n",
       "      <td>0.846</td>\n",
       "      <td>0.386</td>\n",
       "      <td>0.846</td>\n",
       "      <td>0.398</td>\n",
       "    </tr>\n",
       "  </tbody>\n",
       "</table>\n",
       "</div>"
      ],
      "text/plain": [
       "                            Accuracy  Precision micro  Precision macro  \\\n",
       "bagging_500                    0.906            0.906            0.703   \n",
       "bagging_150                    0.904            0.904            0.702   \n",
       "bagging_400_max_features_5     0.898            0.898            0.659   \n",
       "bagging_500_balanced_class     0.802            0.802            0.882   \n",
       "rf_500                         0.894            0.894            0.641   \n",
       "rf_200                         0.894            0.894            0.641   \n",
       "rf_100                         0.894            0.894            0.641   \n",
       "rf_400_max_depth_5             0.846            0.846            0.412   \n",
       "\n",
       "                            Recall micro  Recall macro  F1_micro  F1_macro  \n",
       "bagging_500                        0.906         0.650     0.906     0.673  \n",
       "bagging_150                        0.904         0.649     0.904     0.672  \n",
       "bagging_400_max_features_5         0.898         0.669     0.898     0.657  \n",
       "bagging_500_balanced_class         0.802         0.686     0.802     0.750  \n",
       "rf_500                             0.894         0.658     0.894     0.648  \n",
       "rf_200                             0.894         0.658     0.894     0.648  \n",
       "rf_100                             0.894         0.646     0.894     0.643  \n",
       "rf_400_max_depth_5                 0.846         0.386     0.846     0.398  "
      ]
     },
     "execution_count": 22,
     "metadata": {},
     "output_type": "execute_result"
    }
   ],
   "source": [
    "rnd_clf = RandomForestClassifier(n_estimators=400, max_depth=5,  max_leaf_nodes=16, n_jobs=-1, random_state=42)\n",
    "rnd_clf.fit(X_train, y_train)\n",
    "\n",
    "y_pred = rnd_clf.predict(X_test)\n",
    "\n",
    "df_quality.loc[\"rf_400_max_depth_5\", :] = quality_report(y_pred, y_test)\n",
    "df_quality.round(3)"
   ]
  },
  {
   "cell_type": "markdown",
   "metadata": {},
   "source": [
    "Let's build random forest with balanced class weight."
   ]
  },
  {
   "cell_type": "code",
   "execution_count": 23,
   "metadata": {},
   "outputs": [
    {
     "name": "stdout",
     "output_type": "stream",
     "text": [
      "\n",
      "=== Quality Report ===\n",
      "Accuracy: \t 0.871\n",
      "Precision micro: \t 0.871\n",
      "Precision macro: \t 0.900\n",
      "Recall micro: \t 0.871\n",
      "Recall macro: \t 0.728\n",
      "f1_score micro: \t 0.871\n",
      "f1_score macro: \t 0.793\n",
      "\n",
      "======================\n",
      "\n"
     ]
    },
    {
     "data": {
      "text/html": [
       "<div>\n",
       "<style scoped>\n",
       "    .dataframe tbody tr th:only-of-type {\n",
       "        vertical-align: middle;\n",
       "    }\n",
       "\n",
       "    .dataframe tbody tr th {\n",
       "        vertical-align: top;\n",
       "    }\n",
       "\n",
       "    .dataframe thead th {\n",
       "        text-align: right;\n",
       "    }\n",
       "</style>\n",
       "<table border=\"1\" class=\"dataframe\">\n",
       "  <thead>\n",
       "    <tr style=\"text-align: right;\">\n",
       "      <th></th>\n",
       "      <th>Accuracy</th>\n",
       "      <th>Precision micro</th>\n",
       "      <th>Precision macro</th>\n",
       "      <th>Recall micro</th>\n",
       "      <th>Recall macro</th>\n",
       "      <th>F1_micro</th>\n",
       "      <th>F1_macro</th>\n",
       "    </tr>\n",
       "  </thead>\n",
       "  <tbody>\n",
       "    <tr>\n",
       "      <td>bagging_500</td>\n",
       "      <td>0.906</td>\n",
       "      <td>0.906</td>\n",
       "      <td>0.703</td>\n",
       "      <td>0.906</td>\n",
       "      <td>0.650</td>\n",
       "      <td>0.906</td>\n",
       "      <td>0.673</td>\n",
       "    </tr>\n",
       "    <tr>\n",
       "      <td>bagging_150</td>\n",
       "      <td>0.904</td>\n",
       "      <td>0.904</td>\n",
       "      <td>0.702</td>\n",
       "      <td>0.904</td>\n",
       "      <td>0.649</td>\n",
       "      <td>0.904</td>\n",
       "      <td>0.672</td>\n",
       "    </tr>\n",
       "    <tr>\n",
       "      <td>bagging_400_max_features_5</td>\n",
       "      <td>0.898</td>\n",
       "      <td>0.898</td>\n",
       "      <td>0.659</td>\n",
       "      <td>0.898</td>\n",
       "      <td>0.669</td>\n",
       "      <td>0.898</td>\n",
       "      <td>0.657</td>\n",
       "    </tr>\n",
       "    <tr>\n",
       "      <td>bagging_500_balanced_class</td>\n",
       "      <td>0.802</td>\n",
       "      <td>0.802</td>\n",
       "      <td>0.882</td>\n",
       "      <td>0.802</td>\n",
       "      <td>0.686</td>\n",
       "      <td>0.802</td>\n",
       "      <td>0.750</td>\n",
       "    </tr>\n",
       "    <tr>\n",
       "      <td>rf_500</td>\n",
       "      <td>0.894</td>\n",
       "      <td>0.894</td>\n",
       "      <td>0.641</td>\n",
       "      <td>0.894</td>\n",
       "      <td>0.658</td>\n",
       "      <td>0.894</td>\n",
       "      <td>0.648</td>\n",
       "    </tr>\n",
       "    <tr>\n",
       "      <td>rf_200</td>\n",
       "      <td>0.894</td>\n",
       "      <td>0.894</td>\n",
       "      <td>0.641</td>\n",
       "      <td>0.894</td>\n",
       "      <td>0.658</td>\n",
       "      <td>0.894</td>\n",
       "      <td>0.648</td>\n",
       "    </tr>\n",
       "    <tr>\n",
       "      <td>rf_100</td>\n",
       "      <td>0.894</td>\n",
       "      <td>0.894</td>\n",
       "      <td>0.641</td>\n",
       "      <td>0.894</td>\n",
       "      <td>0.646</td>\n",
       "      <td>0.894</td>\n",
       "      <td>0.643</td>\n",
       "    </tr>\n",
       "    <tr>\n",
       "      <td>rf_400_max_depth_5</td>\n",
       "      <td>0.846</td>\n",
       "      <td>0.846</td>\n",
       "      <td>0.412</td>\n",
       "      <td>0.846</td>\n",
       "      <td>0.386</td>\n",
       "      <td>0.846</td>\n",
       "      <td>0.398</td>\n",
       "    </tr>\n",
       "    <tr>\n",
       "      <td>rf_100_balanced_class</td>\n",
       "      <td>0.871</td>\n",
       "      <td>0.871</td>\n",
       "      <td>0.900</td>\n",
       "      <td>0.871</td>\n",
       "      <td>0.728</td>\n",
       "      <td>0.871</td>\n",
       "      <td>0.793</td>\n",
       "    </tr>\n",
       "  </tbody>\n",
       "</table>\n",
       "</div>"
      ],
      "text/plain": [
       "                            Accuracy  Precision micro  Precision macro  \\\n",
       "bagging_500                    0.906            0.906            0.703   \n",
       "bagging_150                    0.904            0.904            0.702   \n",
       "bagging_400_max_features_5     0.898            0.898            0.659   \n",
       "bagging_500_balanced_class     0.802            0.802            0.882   \n",
       "rf_500                         0.894            0.894            0.641   \n",
       "rf_200                         0.894            0.894            0.641   \n",
       "rf_100                         0.894            0.894            0.641   \n",
       "rf_400_max_depth_5             0.846            0.846            0.412   \n",
       "rf_100_balanced_class          0.871            0.871            0.900   \n",
       "\n",
       "                            Recall micro  Recall macro  F1_micro  F1_macro  \n",
       "bagging_500                        0.906         0.650     0.906     0.673  \n",
       "bagging_150                        0.904         0.649     0.904     0.672  \n",
       "bagging_400_max_features_5         0.898         0.669     0.898     0.657  \n",
       "bagging_500_balanced_class         0.802         0.686     0.802     0.750  \n",
       "rf_500                             0.894         0.658     0.894     0.648  \n",
       "rf_200                             0.894         0.658     0.894     0.648  \n",
       "rf_100                             0.894         0.646     0.894     0.643  \n",
       "rf_400_max_depth_5                 0.846         0.386     0.846     0.398  \n",
       "rf_100_balanced_class              0.871         0.728     0.871     0.793  "
      ]
     },
     "execution_count": 23,
     "metadata": {},
     "output_type": "execute_result"
    }
   ],
   "source": [
    "rnd_clf = RandomForestClassifier(n_estimators=100, max_leaf_nodes=16, n_jobs=-1, \n",
    "                                     random_state=42, class_weight='balanced')\n",
    "rnd_clf.fit(X_train, y_train)\n",
    "\n",
    "y_pred = rnd_clf.predict(X_test)\n",
    "\n",
    "df_quality.loc[\"rf_100_balanced_class\", :] = quality_report(y_pred, y_test)\n",
    "df_quality.round(3)"
   ]
  },
  {
   "cell_type": "code",
   "execution_count": 24,
   "metadata": {},
   "outputs": [
    {
     "data": {
      "text/plain": [
       "array([0.18065221, 0.13536015, 0.03245089, 0.1938761 , 0.16167905,\n",
       "       0.29598161])"
      ]
     },
     "execution_count": 24,
     "metadata": {},
     "output_type": "execute_result"
    }
   ],
   "source": [
    "rnd_clf.feature_importances_"
   ]
  },
  {
   "cell_type": "markdown",
   "metadata": {},
   "source": [
    "Making class weights balanced improves random forest quality significantly. Decreasing estimators count didn't improve model quality in our case."
   ]
  },
  {
   "cell_type": "markdown",
   "metadata": {},
   "source": [
    "<a id='Extremely_Randomized_Trees'></a>"
   ]
  },
  {
   "cell_type": "markdown",
   "metadata": {},
   "source": [
    "## 6. Extremely Randomized Trees"
   ]
  },
  {
   "cell_type": "code",
   "execution_count": 25,
   "metadata": {},
   "outputs": [
    {
     "name": "stdout",
     "output_type": "stream",
     "text": [
      "0.8940269749518305\n",
      "0.8131021194605009\n",
      "\n",
      "=== Quality Report ===\n",
      "Accuracy: \t 0.813\n",
      "Precision micro: \t 0.813\n",
      "Precision macro: \t 0.366\n",
      "Recall micro: \t 0.813\n",
      "Recall macro: \t 0.375\n",
      "f1_score micro: \t 0.813\n",
      "f1_score macro: \t 0.365\n",
      "\n",
      "======================\n",
      "\n"
     ]
    },
    {
     "name": "stderr",
     "output_type": "stream",
     "text": [
      "C:\\Users\\dinak\\Anaconda3\\lib\\site-packages\\sklearn\\metrics\\classification.py:1439: UndefinedMetricWarning: Recall is ill-defined and being set to 0.0 in labels with no true samples.\n",
      "  'recall', 'true', average, warn_for)\n",
      "C:\\Users\\dinak\\Anaconda3\\lib\\site-packages\\sklearn\\metrics\\classification.py:1439: UndefinedMetricWarning: F-score is ill-defined and being set to 0.0 in labels with no true samples.\n",
      "  'recall', 'true', average, warn_for)\n"
     ]
    },
    {
     "data": {
      "text/html": [
       "<div>\n",
       "<style scoped>\n",
       "    .dataframe tbody tr th:only-of-type {\n",
       "        vertical-align: middle;\n",
       "    }\n",
       "\n",
       "    .dataframe tbody tr th {\n",
       "        vertical-align: top;\n",
       "    }\n",
       "\n",
       "    .dataframe thead th {\n",
       "        text-align: right;\n",
       "    }\n",
       "</style>\n",
       "<table border=\"1\" class=\"dataframe\">\n",
       "  <thead>\n",
       "    <tr style=\"text-align: right;\">\n",
       "      <th></th>\n",
       "      <th>Accuracy</th>\n",
       "      <th>Precision micro</th>\n",
       "      <th>Precision macro</th>\n",
       "      <th>Recall micro</th>\n",
       "      <th>Recall macro</th>\n",
       "      <th>F1_micro</th>\n",
       "      <th>F1_macro</th>\n",
       "    </tr>\n",
       "  </thead>\n",
       "  <tbody>\n",
       "    <tr>\n",
       "      <td>bagging_500</td>\n",
       "      <td>0.906</td>\n",
       "      <td>0.906</td>\n",
       "      <td>0.703</td>\n",
       "      <td>0.906</td>\n",
       "      <td>0.650</td>\n",
       "      <td>0.906</td>\n",
       "      <td>0.673</td>\n",
       "    </tr>\n",
       "    <tr>\n",
       "      <td>bagging_150</td>\n",
       "      <td>0.904</td>\n",
       "      <td>0.904</td>\n",
       "      <td>0.702</td>\n",
       "      <td>0.904</td>\n",
       "      <td>0.649</td>\n",
       "      <td>0.904</td>\n",
       "      <td>0.672</td>\n",
       "    </tr>\n",
       "    <tr>\n",
       "      <td>bagging_400_max_features_5</td>\n",
       "      <td>0.898</td>\n",
       "      <td>0.898</td>\n",
       "      <td>0.659</td>\n",
       "      <td>0.898</td>\n",
       "      <td>0.669</td>\n",
       "      <td>0.898</td>\n",
       "      <td>0.657</td>\n",
       "    </tr>\n",
       "    <tr>\n",
       "      <td>bagging_500_balanced_class</td>\n",
       "      <td>0.802</td>\n",
       "      <td>0.802</td>\n",
       "      <td>0.882</td>\n",
       "      <td>0.802</td>\n",
       "      <td>0.686</td>\n",
       "      <td>0.802</td>\n",
       "      <td>0.750</td>\n",
       "    </tr>\n",
       "    <tr>\n",
       "      <td>rf_500</td>\n",
       "      <td>0.894</td>\n",
       "      <td>0.894</td>\n",
       "      <td>0.641</td>\n",
       "      <td>0.894</td>\n",
       "      <td>0.658</td>\n",
       "      <td>0.894</td>\n",
       "      <td>0.648</td>\n",
       "    </tr>\n",
       "    <tr>\n",
       "      <td>rf_200</td>\n",
       "      <td>0.894</td>\n",
       "      <td>0.894</td>\n",
       "      <td>0.641</td>\n",
       "      <td>0.894</td>\n",
       "      <td>0.658</td>\n",
       "      <td>0.894</td>\n",
       "      <td>0.648</td>\n",
       "    </tr>\n",
       "    <tr>\n",
       "      <td>rf_100</td>\n",
       "      <td>0.894</td>\n",
       "      <td>0.894</td>\n",
       "      <td>0.641</td>\n",
       "      <td>0.894</td>\n",
       "      <td>0.646</td>\n",
       "      <td>0.894</td>\n",
       "      <td>0.643</td>\n",
       "    </tr>\n",
       "    <tr>\n",
       "      <td>rf_400_max_depth_5</td>\n",
       "      <td>0.846</td>\n",
       "      <td>0.846</td>\n",
       "      <td>0.412</td>\n",
       "      <td>0.846</td>\n",
       "      <td>0.386</td>\n",
       "      <td>0.846</td>\n",
       "      <td>0.398</td>\n",
       "    </tr>\n",
       "    <tr>\n",
       "      <td>rf_100_balanced_class</td>\n",
       "      <td>0.871</td>\n",
       "      <td>0.871</td>\n",
       "      <td>0.900</td>\n",
       "      <td>0.871</td>\n",
       "      <td>0.728</td>\n",
       "      <td>0.871</td>\n",
       "      <td>0.793</td>\n",
       "    </tr>\n",
       "    <tr>\n",
       "      <td>extra_rand_tree_500</td>\n",
       "      <td>0.813</td>\n",
       "      <td>0.813</td>\n",
       "      <td>0.366</td>\n",
       "      <td>0.813</td>\n",
       "      <td>0.375</td>\n",
       "      <td>0.813</td>\n",
       "      <td>0.365</td>\n",
       "    </tr>\n",
       "  </tbody>\n",
       "</table>\n",
       "</div>"
      ],
      "text/plain": [
       "                            Accuracy  Precision micro  Precision macro  \\\n",
       "bagging_500                    0.906            0.906            0.703   \n",
       "bagging_150                    0.904            0.904            0.702   \n",
       "bagging_400_max_features_5     0.898            0.898            0.659   \n",
       "bagging_500_balanced_class     0.802            0.802            0.882   \n",
       "rf_500                         0.894            0.894            0.641   \n",
       "rf_200                         0.894            0.894            0.641   \n",
       "rf_100                         0.894            0.894            0.641   \n",
       "rf_400_max_depth_5             0.846            0.846            0.412   \n",
       "rf_100_balanced_class          0.871            0.871            0.900   \n",
       "extra_rand_tree_500            0.813            0.813            0.366   \n",
       "\n",
       "                            Recall micro  Recall macro  F1_micro  F1_macro  \n",
       "bagging_500                        0.906         0.650     0.906     0.673  \n",
       "bagging_150                        0.904         0.649     0.904     0.672  \n",
       "bagging_400_max_features_5         0.898         0.669     0.898     0.657  \n",
       "bagging_500_balanced_class         0.802         0.686     0.802     0.750  \n",
       "rf_500                             0.894         0.658     0.894     0.648  \n",
       "rf_200                             0.894         0.658     0.894     0.648  \n",
       "rf_100                             0.894         0.646     0.894     0.643  \n",
       "rf_400_max_depth_5                 0.846         0.386     0.846     0.398  \n",
       "rf_100_balanced_class              0.871         0.728     0.871     0.793  \n",
       "extra_rand_tree_500                0.813         0.375     0.813     0.365  "
      ]
     },
     "execution_count": 25,
     "metadata": {},
     "output_type": "execute_result"
    }
   ],
   "source": [
    "rnd_clf = RandomForestClassifier(n_estimators=500, max_leaf_nodes=16, n_jobs=-1, random_state=42)\n",
    "rnd_clf.fit(X_train, y_train)\n",
    "\n",
    "y_pred_rf = rnd_clf.predict(X_test)\n",
    "print(accuracy_score(y_test, y_pred_rf))\n",
    "\n",
    "ex_clf = ExtraTreesClassifier(n_estimators=500, max_leaf_nodes=16, n_jobs=-1, random_state=42)\n",
    "ex_clf.fit(X_train, y_train)\n",
    "\n",
    "y_pred_ex = ex_clf.predict(X_test)\n",
    "print(accuracy_score(y_test, y_pred_ex))\n",
    "\n",
    "df_quality.loc[\"extra_rand_tree_500\", :] = quality_report(y_pred_ex, y_test)\n",
    "df_quality.round(3)"
   ]
  },
  {
   "cell_type": "markdown",
   "metadata": {},
   "source": [
    "`RandomForestClassifier` has better result than `ExtraTreesClassifier`."
   ]
  },
  {
   "cell_type": "markdown",
   "metadata": {},
   "source": [
    "<a id = 'Hyperparameter_Tuning'></a>"
   ]
  },
  {
   "cell_type": "markdown",
   "metadata": {},
   "source": [
    "## 7. Hyperparameters tuning"
   ]
  },
  {
   "cell_type": "markdown",
   "metadata": {},
   "source": [
    "<a id='Validation_Curves'></a>"
   ]
  },
  {
   "cell_type": "markdown",
   "metadata": {},
   "source": [
    "### Validation curves"
   ]
  },
  {
   "cell_type": "code",
   "execution_count": 26,
   "metadata": {},
   "outputs": [],
   "source": [
    "# https://scikit-learn.org/stable/auto_examples/model_selection/plot_validation_curve.html\n",
    "def plot_validation_curve(X_train, y_train, param_name, param_range):\n",
    "    train_scoreNum, test_scoreNum = validation_curve(\n",
    "                                RandomForestClassifier(random_state=42),\n",
    "                                X = X_train, y = y_train, \n",
    "                                param_name = param_name, \n",
    "                                param_range = param_range, cv = 3)\n",
    "    train_scores_mean = np.mean(train_scoreNum, axis=1)\n",
    "    train_scores_std = np.std(train_scoreNum, axis=1)\n",
    "    test_scores_mean = np.mean(test_scoreNum, axis=1)\n",
    "    test_scores_std = np.std(test_scoreNum, axis=1)\n",
    "\n",
    "    plt.title(\"Validation Curve\")\n",
    "    plt.xlabel(param_name)\n",
    "    plt.ylabel(\"Score\")\n",
    "    plt.ylim(0.0, 1.1)\n",
    "    lw = 2\n",
    "    plt.semilogx(param_range, train_scores_mean, label=\"Training score\",\n",
    "             color=\"darkorange\", lw=lw)\n",
    "    plt.fill_between(param_range, train_scores_mean - train_scores_std,\n",
    "                 train_scores_mean + train_scores_std, alpha=0.2,\n",
    "                 color=\"darkorange\", lw=lw)\n",
    "    plt.semilogx(param_range, test_scores_mean, label=\"Cross-validation score\",\n",
    "             color=\"navy\", lw=lw)\n",
    "    plt.fill_between(param_range, test_scores_mean - test_scores_std,\n",
    "                 test_scores_mean + test_scores_std, alpha=0.2,\n",
    "                 color=\"navy\", lw=lw)\n",
    "    plt.legend(loc=\"best\")\n",
    "    plt.show()"
   ]
  },
  {
   "cell_type": "code",
   "execution_count": 27,
   "metadata": {},
   "outputs": [
    {
     "data": {
      "image/png": "[encoded data removed]",
      "text/plain": [
       "<Figure size 432x288 with 1 Axes>"
      ]
     },
     "metadata": {
      "needs_background": "light"
     },
     "output_type": "display_data"
    }
   ],
   "source": [
    "plot_validation_curve(X_train, y_train, 'n_estimators', np.arange(50, 1100, 50))"
   ]
  },
  {
   "cell_type": "markdown",
   "metadata": {},
   "source": [
    "Due to validation curve `n_estimators` doesn't affect quality for random forest classifier with default parameter values."
   ]
  },
  {
   "cell_type": "code",
   "execution_count": 28,
   "metadata": {},
   "outputs": [
    {
     "name": "stderr",
     "output_type": "stream",
     "text": [
      "C:\\Users\\dinak\\Anaconda3\\lib\\site-packages\\sklearn\\ensemble\\forest.py:245: FutureWarning: The default value of n_estimators will change from 10 in version 0.20 to 100 in 0.22.\n",
      "  \"10 in version 0.20 to 100 in 0.22.\", FutureWarning)\n",
      "C:\\Users\\dinak\\Anaconda3\\lib\\site-packages\\sklearn\\ensemble\\forest.py:245: FutureWarning: The default value of n_estimators will change from 10 in version 0.20 to 100 in 0.22.\n",
      "  \"10 in version 0.20 to 100 in 0.22.\", FutureWarning)\n",
      "C:\\Users\\dinak\\Anaconda3\\lib\\site-packages\\sklearn\\ensemble\\forest.py:245: FutureWarning: The default value of n_estimators will change from 10 in version 0.20 to 100 in 0.22.\n",
      "  \"10 in version 0.20 to 100 in 0.22.\", FutureWarning)\n",
      "C:\\Users\\dinak\\Anaconda3\\lib\\site-packages\\sklearn\\ensemble\\forest.py:245: FutureWarning: The default value of n_estimators will change from 10 in version 0.20 to 100 in 0.22.\n",
      "  \"10 in version 0.20 to 100 in 0.22.\", FutureWarning)\n",
      "C:\\Users\\dinak\\Anaconda3\\lib\\site-packages\\sklearn\\ensemble\\forest.py:245: FutureWarning: The default value of n_estimators will change from 10 in version 0.20 to 100 in 0.22.\n",
      "  \"10 in version 0.20 to 100 in 0.22.\", FutureWarning)\n",
      "C:\\Users\\dinak\\Anaconda3\\lib\\site-packages\\sklearn\\ensemble\\forest.py:245: FutureWarning: The default value of n_estimators will change from 10 in version 0.20 to 100 in 0.22.\n",
      "  \"10 in version 0.20 to 100 in 0.22.\", FutureWarning)\n",
      "C:\\Users\\dinak\\Anaconda3\\lib\\site-packages\\sklearn\\ensemble\\forest.py:245: FutureWarning: The default value of n_estimators will change from 10 in version 0.20 to 100 in 0.22.\n",
      "  \"10 in version 0.20 to 100 in 0.22.\", FutureWarning)\n",
      "C:\\Users\\dinak\\Anaconda3\\lib\\site-packages\\sklearn\\ensemble\\forest.py:245: FutureWarning: The default value of n_estimators will change from 10 in version 0.20 to 100 in 0.22.\n",
      "  \"10 in version 0.20 to 100 in 0.22.\", FutureWarning)\n",
      "C:\\Users\\dinak\\Anaconda3\\lib\\site-packages\\sklearn\\ensemble\\forest.py:245: FutureWarning: The default value of n_estimators will change from 10 in version 0.20 to 100 in 0.22.\n",
      "  \"10 in version 0.20 to 100 in 0.22.\", FutureWarning)\n",
      "C:\\Users\\dinak\\Anaconda3\\lib\\site-packages\\sklearn\\ensemble\\forest.py:245: FutureWarning: The default value of n_estimators will change from 10 in version 0.20 to 100 in 0.22.\n",
      "  \"10 in version 0.20 to 100 in 0.22.\", FutureWarning)\n",
      "C:\\Users\\dinak\\Anaconda3\\lib\\site-packages\\sklearn\\ensemble\\forest.py:245: FutureWarning: The default value of n_estimators will change from 10 in version 0.20 to 100 in 0.22.\n",
      "  \"10 in version 0.20 to 100 in 0.22.\", FutureWarning)\n",
      "C:\\Users\\dinak\\Anaconda3\\lib\\site-packages\\sklearn\\ensemble\\forest.py:245: FutureWarning: The default value of n_estimators will change from 10 in version 0.20 to 100 in 0.22.\n",
      "  \"10 in version 0.20 to 100 in 0.22.\", FutureWarning)\n",
      "C:\\Users\\dinak\\Anaconda3\\lib\\site-packages\\sklearn\\ensemble\\forest.py:245: FutureWarning: The default value of n_estimators will change from 10 in version 0.20 to 100 in 0.22.\n",
      "  \"10 in version 0.20 to 100 in 0.22.\", FutureWarning)\n",
      "C:\\Users\\dinak\\Anaconda3\\lib\\site-packages\\sklearn\\ensemble\\forest.py:245: FutureWarning: The default value of n_estimators will change from 10 in version 0.20 to 100 in 0.22.\n",
      "  \"10 in version 0.20 to 100 in 0.22.\", FutureWarning)\n",
      "C:\\Users\\dinak\\Anaconda3\\lib\\site-packages\\sklearn\\ensemble\\forest.py:245: FutureWarning: The default value of n_estimators will change from 10 in version 0.20 to 100 in 0.22.\n",
      "  \"10 in version 0.20 to 100 in 0.22.\", FutureWarning)\n",
      "C:\\Users\\dinak\\Anaconda3\\lib\\site-packages\\sklearn\\ensemble\\forest.py:245: FutureWarning: The default value of n_estimators will change from 10 in version 0.20 to 100 in 0.22.\n",
      "  \"10 in version 0.20 to 100 in 0.22.\", FutureWarning)\n",
      "C:\\Users\\dinak\\Anaconda3\\lib\\site-packages\\sklearn\\ensemble\\forest.py:245: FutureWarning: The default value of n_estimators will change from 10 in version 0.20 to 100 in 0.22.\n",
      "  \"10 in version 0.20 to 100 in 0.22.\", FutureWarning)\n",
      "C:\\Users\\dinak\\Anaconda3\\lib\\site-packages\\sklearn\\ensemble\\forest.py:245: FutureWarning: The default value of n_estimators will change from 10 in version 0.20 to 100 in 0.22.\n",
      "  \"10 in version 0.20 to 100 in 0.22.\", FutureWarning)\n",
      "C:\\Users\\dinak\\Anaconda3\\lib\\site-packages\\sklearn\\ensemble\\forest.py:245: FutureWarning: The default value of n_estimators will change from 10 in version 0.20 to 100 in 0.22.\n",
      "  \"10 in version 0.20 to 100 in 0.22.\", FutureWarning)\n",
      "C:\\Users\\dinak\\Anaconda3\\lib\\site-packages\\sklearn\\ensemble\\forest.py:245: FutureWarning: The default value of n_estimators will change from 10 in version 0.20 to 100 in 0.22.\n",
      "  \"10 in version 0.20 to 100 in 0.22.\", FutureWarning)\n",
      "C:\\Users\\dinak\\Anaconda3\\lib\\site-packages\\sklearn\\ensemble\\forest.py:245: FutureWarning: The default value of n_estimators will change from 10 in version 0.20 to 100 in 0.22.\n",
      "  \"10 in version 0.20 to 100 in 0.22.\", FutureWarning)\n",
      "C:\\Users\\dinak\\Anaconda3\\lib\\site-packages\\sklearn\\ensemble\\forest.py:245: FutureWarning: The default value of n_estimators will change from 10 in version 0.20 to 100 in 0.22.\n",
      "  \"10 in version 0.20 to 100 in 0.22.\", FutureWarning)\n",
      "C:\\Users\\dinak\\Anaconda3\\lib\\site-packages\\sklearn\\ensemble\\forest.py:245: FutureWarning: The default value of n_estimators will change from 10 in version 0.20 to 100 in 0.22.\n",
      "  \"10 in version 0.20 to 100 in 0.22.\", FutureWarning)\n",
      "C:\\Users\\dinak\\Anaconda3\\lib\\site-packages\\sklearn\\ensemble\\forest.py:245: FutureWarning: The default value of n_estimators will change from 10 in version 0.20 to 100 in 0.22.\n",
      "  \"10 in version 0.20 to 100 in 0.22.\", FutureWarning)\n",
      "C:\\Users\\dinak\\Anaconda3\\lib\\site-packages\\sklearn\\ensemble\\forest.py:245: FutureWarning: The default value of n_estimators will change from 10 in version 0.20 to 100 in 0.22.\n",
      "  \"10 in version 0.20 to 100 in 0.22.\", FutureWarning)\n",
      "C:\\Users\\dinak\\Anaconda3\\lib\\site-packages\\sklearn\\ensemble\\forest.py:245: FutureWarning: The default value of n_estimators will change from 10 in version 0.20 to 100 in 0.22.\n",
      "  \"10 in version 0.20 to 100 in 0.22.\", FutureWarning)\n",
      "C:\\Users\\dinak\\Anaconda3\\lib\\site-packages\\sklearn\\ensemble\\forest.py:245: FutureWarning: The default value of n_estimators will change from 10 in version 0.20 to 100 in 0.22.\n",
      "  \"10 in version 0.20 to 100 in 0.22.\", FutureWarning)\n",
      "C:\\Users\\dinak\\Anaconda3\\lib\\site-packages\\sklearn\\ensemble\\forest.py:245: FutureWarning: The default value of n_estimators will change from 10 in version 0.20 to 100 in 0.22.\n",
      "  \"10 in version 0.20 to 100 in 0.22.\", FutureWarning)\n",
      "C:\\Users\\dinak\\Anaconda3\\lib\\site-packages\\sklearn\\ensemble\\forest.py:245: FutureWarning: The default value of n_estimators will change from 10 in version 0.20 to 100 in 0.22.\n",
      "  \"10 in version 0.20 to 100 in 0.22.\", FutureWarning)\n",
      "C:\\Users\\dinak\\Anaconda3\\lib\\site-packages\\sklearn\\ensemble\\forest.py:245: FutureWarning: The default value of n_estimators will change from 10 in version 0.20 to 100 in 0.22.\n",
      "  \"10 in version 0.20 to 100 in 0.22.\", FutureWarning)\n",
      "C:\\Users\\dinak\\Anaconda3\\lib\\site-packages\\sklearn\\ensemble\\forest.py:245: FutureWarning: The default value of n_estimators will change from 10 in version 0.20 to 100 in 0.22.\n",
      "  \"10 in version 0.20 to 100 in 0.22.\", FutureWarning)\n",
      "C:\\Users\\dinak\\Anaconda3\\lib\\site-packages\\sklearn\\ensemble\\forest.py:245: FutureWarning: The default value of n_estimators will change from 10 in version 0.20 to 100 in 0.22.\n",
      "  \"10 in version 0.20 to 100 in 0.22.\", FutureWarning)\n",
      "C:\\Users\\dinak\\Anaconda3\\lib\\site-packages\\sklearn\\ensemble\\forest.py:245: FutureWarning: The default value of n_estimators will change from 10 in version 0.20 to 100 in 0.22.\n",
      "  \"10 in version 0.20 to 100 in 0.22.\", FutureWarning)\n"
     ]
    },
    {
     "data": {
      "image/png": "[encoded data removed]",
      "text/plain": [
       "<Figure size 432x288 with 1 Axes>"
      ]
     },
     "metadata": {
      "needs_background": "light"
     },
     "output_type": "display_data"
    }
   ],
   "source": [
    "plot_validation_curve(X_train, y_train, 'max_depth', np.arange(5, 60, 5))"
   ]
  },
  {
   "cell_type": "markdown",
   "metadata": {},
   "source": [
    "Due to validation curve `max_depth` best value is 10 for classifier default parameters."
   ]
  },
  {
   "cell_type": "code",
   "execution_count": 29,
   "metadata": {},
   "outputs": [
    {
     "name": "stderr",
     "output_type": "stream",
     "text": [
      "C:\\Users\\dinak\\Anaconda3\\lib\\site-packages\\sklearn\\ensemble\\forest.py:245: FutureWarning: The default value of n_estimators will change from 10 in version 0.20 to 100 in 0.22.\n",
      "  \"10 in version 0.20 to 100 in 0.22.\", FutureWarning)\n",
      "C:\\Users\\dinak\\Anaconda3\\lib\\site-packages\\sklearn\\ensemble\\forest.py:245: FutureWarning: The default value of n_estimators will change from 10 in version 0.20 to 100 in 0.22.\n",
      "  \"10 in version 0.20 to 100 in 0.22.\", FutureWarning)\n",
      "C:\\Users\\dinak\\Anaconda3\\lib\\site-packages\\sklearn\\ensemble\\forest.py:245: FutureWarning: The default value of n_estimators will change from 10 in version 0.20 to 100 in 0.22.\n",
      "  \"10 in version 0.20 to 100 in 0.22.\", FutureWarning)\n",
      "C:\\Users\\dinak\\Anaconda3\\lib\\site-packages\\sklearn\\ensemble\\forest.py:245: FutureWarning: The default value of n_estimators will change from 10 in version 0.20 to 100 in 0.22.\n",
      "  \"10 in version 0.20 to 100 in 0.22.\", FutureWarning)\n",
      "C:\\Users\\dinak\\Anaconda3\\lib\\site-packages\\sklearn\\ensemble\\forest.py:245: FutureWarning: The default value of n_estimators will change from 10 in version 0.20 to 100 in 0.22.\n",
      "  \"10 in version 0.20 to 100 in 0.22.\", FutureWarning)\n",
      "C:\\Users\\dinak\\Anaconda3\\lib\\site-packages\\sklearn\\ensemble\\forest.py:245: FutureWarning: The default value of n_estimators will change from 10 in version 0.20 to 100 in 0.22.\n",
      "  \"10 in version 0.20 to 100 in 0.22.\", FutureWarning)\n",
      "C:\\Users\\dinak\\Anaconda3\\lib\\site-packages\\sklearn\\ensemble\\forest.py:245: FutureWarning: The default value of n_estimators will change from 10 in version 0.20 to 100 in 0.22.\n",
      "  \"10 in version 0.20 to 100 in 0.22.\", FutureWarning)\n",
      "C:\\Users\\dinak\\Anaconda3\\lib\\site-packages\\sklearn\\ensemble\\forest.py:245: FutureWarning: The default value of n_estimators will change from 10 in version 0.20 to 100 in 0.22.\n",
      "  \"10 in version 0.20 to 100 in 0.22.\", FutureWarning)\n",
      "C:\\Users\\dinak\\Anaconda3\\lib\\site-packages\\sklearn\\ensemble\\forest.py:245: FutureWarning: The default value of n_estimators will change from 10 in version 0.20 to 100 in 0.22.\n",
      "  \"10 in version 0.20 to 100 in 0.22.\", FutureWarning)\n",
      "C:\\Users\\dinak\\Anaconda3\\lib\\site-packages\\sklearn\\ensemble\\forest.py:245: FutureWarning: The default value of n_estimators will change from 10 in version 0.20 to 100 in 0.22.\n",
      "  \"10 in version 0.20 to 100 in 0.22.\", FutureWarning)\n",
      "C:\\Users\\dinak\\Anaconda3\\lib\\site-packages\\sklearn\\ensemble\\forest.py:245: FutureWarning: The default value of n_estimators will change from 10 in version 0.20 to 100 in 0.22.\n",
      "  \"10 in version 0.20 to 100 in 0.22.\", FutureWarning)\n",
      "C:\\Users\\dinak\\Anaconda3\\lib\\site-packages\\sklearn\\ensemble\\forest.py:245: FutureWarning: The default value of n_estimators will change from 10 in version 0.20 to 100 in 0.22.\n",
      "  \"10 in version 0.20 to 100 in 0.22.\", FutureWarning)\n",
      "C:\\Users\\dinak\\Anaconda3\\lib\\site-packages\\sklearn\\ensemble\\forest.py:245: FutureWarning: The default value of n_estimators will change from 10 in version 0.20 to 100 in 0.22.\n",
      "  \"10 in version 0.20 to 100 in 0.22.\", FutureWarning)\n",
      "C:\\Users\\dinak\\Anaconda3\\lib\\site-packages\\sklearn\\ensemble\\forest.py:245: FutureWarning: The default value of n_estimators will change from 10 in version 0.20 to 100 in 0.22.\n",
      "  \"10 in version 0.20 to 100 in 0.22.\", FutureWarning)\n",
      "C:\\Users\\dinak\\Anaconda3\\lib\\site-packages\\sklearn\\ensemble\\forest.py:245: FutureWarning: The default value of n_estimators will change from 10 in version 0.20 to 100 in 0.22.\n",
      "  \"10 in version 0.20 to 100 in 0.22.\", FutureWarning)\n",
      "C:\\Users\\dinak\\Anaconda3\\lib\\site-packages\\sklearn\\ensemble\\forest.py:245: FutureWarning: The default value of n_estimators will change from 10 in version 0.20 to 100 in 0.22.\n",
      "  \"10 in version 0.20 to 100 in 0.22.\", FutureWarning)\n",
      "C:\\Users\\dinak\\Anaconda3\\lib\\site-packages\\sklearn\\ensemble\\forest.py:245: FutureWarning: The default value of n_estimators will change from 10 in version 0.20 to 100 in 0.22.\n",
      "  \"10 in version 0.20 to 100 in 0.22.\", FutureWarning)\n",
      "C:\\Users\\dinak\\Anaconda3\\lib\\site-packages\\sklearn\\ensemble\\forest.py:245: FutureWarning: The default value of n_estimators will change from 10 in version 0.20 to 100 in 0.22.\n",
      "  \"10 in version 0.20 to 100 in 0.22.\", FutureWarning)\n"
     ]
    },
    {
     "data": {
      "image/png": "[encoded data removed]",
      "text/plain": [
       "<Figure size 432x288 with 1 Axes>"
      ]
     },
     "metadata": {
      "needs_background": "light"
     },
     "output_type": "display_data"
    }
   ],
   "source": [
    "plot_validation_curve(X_train, y_train, 'max_features', np.arange(1, 7, 1))"
   ]
  },
  {
   "cell_type": "markdown",
   "metadata": {},
   "source": [
    "Due to validation curve the `max_features` best value is 4 for classifier with default parameters."
   ]
  },
  {
   "cell_type": "markdown",
   "metadata": {},
   "source": [
    "The plots above are interesting but let's try to tune parameters via cross validation."
   ]
  },
  {
   "cell_type": "markdown",
   "metadata": {},
   "source": [
    "<a id='RandomizedSearchCV'></a>"
   ]
  },
  {
   "cell_type": "markdown",
   "metadata": {},
   "source": [
    "### Randomized Search CV"
   ]
  },
  {
   "cell_type": "code",
   "execution_count": 30,
   "metadata": {},
   "outputs": [
    {
     "name": "stdout",
     "output_type": "stream",
     "text": [
      "{'bootstrap': [True, False],\n",
      " 'max_depth': [5, 15, 26, 36, 47, 57, 68, 78, 89, 99, 110, None],\n",
      " 'max_features': ['auto', 'sqrt'],\n",
      " 'min_samples_leaf': [1, 2, 4],\n",
      " 'min_samples_split': [2, 5, 10],\n",
      " 'n_estimators': [50, 122, 194, 266, 338, 411, 483, 555, 627, 700]}\n"
     ]
    }
   ],
   "source": [
    "# https://towardsdatascience.com/hyperparameter-tuning-the-random-forest-in-python-using-scikit-learn-28d2aa77dd74\n",
    "# Number of trees in random forest\n",
    "n_estimators = [int(x) for x in np.linspace(start = 50, stop = 700, num = 10)]\n",
    "# Number of features to consider at every split\n",
    "max_features = ['auto', 'sqrt']\n",
    "# Maximum number of levels in tree\n",
    "max_depth = [int(x) for x in np.linspace(5, 110, num = 11)]\n",
    "max_depth.append(None)\n",
    "# Minimum number of samples required to split a node\n",
    "min_samples_split = [2, 5, 10]\n",
    "# Minimum number of samples required at each leaf node\n",
    "min_samples_leaf = [1, 2, 4]\n",
    "# Method of selecting samples for training each tree\n",
    "bootstrap = [True, False]\n",
    "# Create the random grid\n",
    "random_grid = {'n_estimators': n_estimators,\n",
    "               'max_features': max_features,\n",
    "               'max_depth': max_depth,\n",
    "               'min_samples_split': min_samples_split,\n",
    "               'min_samples_leaf': min_samples_leaf,\n",
    "               'bootstrap': bootstrap}\n",
    "pprint(random_grid)"
   ]
  },
  {
   "cell_type": "code",
   "execution_count": 31,
   "metadata": {},
   "outputs": [
    {
     "name": "stdout",
     "output_type": "stream",
     "text": [
      "Fitting 3 folds for each of 100 candidates, totalling 300 fits\n"
     ]
    },
    {
     "name": "stderr",
     "output_type": "stream",
     "text": [
      "[Parallel(n_jobs=-1)]: Using backend LokyBackend with 4 concurrent workers.\n",
      "[Parallel(n_jobs=-1)]: Done  33 tasks      | elapsed:   28.5s\n",
      "[Parallel(n_jobs=-1)]: Done 154 tasks      | elapsed:  1.6min\n",
      "[Parallel(n_jobs=-1)]: Done 300 out of 300 | elapsed:  2.7min finished\n"
     ]
    },
    {
     "data": {
      "text/plain": [
       "RandomizedSearchCV(cv=3, error_score='raise-deprecating',\n",
       "                   estimator=RandomForestClassifier(bootstrap=True,\n",
       "                                                    class_weight=None,\n",
       "                                                    criterion='gini',\n",
       "                                                    max_depth=None,\n",
       "                                                    max_features='auto',\n",
       "                                                    max_leaf_nodes=None,\n",
       "                                                    min_impurity_decrease=0.0,\n",
       "                                                    min_impurity_split=None,\n",
       "                                                    min_samples_leaf=1,\n",
       "                                                    min_samples_split=2,\n",
       "                                                    min_weight_fraction_leaf=0.0,\n",
       "                                                    n_estimators='warn',\n",
       "                                                    n_jobs=None,\n",
       "                                                    oob_sc...\n",
       "                   iid='warn', n_iter=100, n_jobs=-1,\n",
       "                   param_distributions={'bootstrap': [True, False],\n",
       "                                        'max_depth': [5, 15, 26, 36, 47, 57, 68,\n",
       "                                                      78, 89, 99, 110, None],\n",
       "                                        'max_features': ['auto', 'sqrt'],\n",
       "                                        'min_samples_leaf': [1, 2, 4],\n",
       "                                        'min_samples_split': [2, 5, 10],\n",
       "                                        'n_estimators': [50, 122, 194, 266, 338,\n",
       "                                                         411, 483, 555, 627,\n",
       "                                                         700]},\n",
       "                   pre_dispatch='2*n_jobs', random_state=42, refit=True,\n",
       "                   return_train_score=False, scoring=None, verbose=2)"
      ]
     },
     "execution_count": 31,
     "metadata": {},
     "output_type": "execute_result"
    }
   ],
   "source": [
    "# Use the random grid to search for best hyperparameters\n",
    "# First create the base model to tune\n",
    "rf = RandomForestClassifier(random_state=42)\n",
    "# Random search of parameters, using 3 fold cross validation, \n",
    "# search across 100 different combinations, and use all available cores\n",
    "rf_random = RandomizedSearchCV(estimator = rf, param_distributions = random_grid, \n",
    "                               n_iter = 100, cv = 3, verbose=2, random_state=42, n_jobs = -1)\n",
    "# Fit the random search model\n",
    "rf_random.fit(X_train, y_train)"
   ]
  },
  {
   "cell_type": "code",
   "execution_count": 32,
   "metadata": {},
   "outputs": [
    {
     "data": {
      "text/plain": [
       "{'n_estimators': 338,\n",
       " 'min_samples_split': 2,\n",
       " 'min_samples_leaf': 1,\n",
       " 'max_features': 'auto',\n",
       " 'max_depth': 47,\n",
       " 'bootstrap': False}"
      ]
     },
     "execution_count": 32,
     "metadata": {},
     "output_type": "execute_result"
    }
   ],
   "source": [
    "rf_random.best_params_"
   ]
  },
  {
   "cell_type": "code",
   "execution_count": 33,
   "metadata": {},
   "outputs": [
    {
     "name": "stdout",
     "output_type": "stream",
     "text": [
      "\n",
      "=== Quality Report ===\n",
      "Accuracy: \t 0.981\n",
      "Precision micro: \t 0.981\n",
      "Precision macro: \t 0.959\n",
      "Recall micro: \t 0.981\n",
      "Recall macro: \t 0.945\n",
      "f1_score micro: \t 0.981\n",
      "f1_score macro: \t 0.949\n",
      "\n",
      "======================\n",
      "\n"
     ]
    },
    {
     "data": {
      "text/html": [
       "<div>\n",
       "<style scoped>\n",
       "    .dataframe tbody tr th:only-of-type {\n",
       "        vertical-align: middle;\n",
       "    }\n",
       "\n",
       "    .dataframe tbody tr th {\n",
       "        vertical-align: top;\n",
       "    }\n",
       "\n",
       "    .dataframe thead th {\n",
       "        text-align: right;\n",
       "    }\n",
       "</style>\n",
       "<table border=\"1\" class=\"dataframe\">\n",
       "  <thead>\n",
       "    <tr style=\"text-align: right;\">\n",
       "      <th></th>\n",
       "      <th>Accuracy</th>\n",
       "      <th>Precision micro</th>\n",
       "      <th>Precision macro</th>\n",
       "      <th>Recall micro</th>\n",
       "      <th>Recall macro</th>\n",
       "      <th>F1_micro</th>\n",
       "      <th>F1_macro</th>\n",
       "    </tr>\n",
       "  </thead>\n",
       "  <tbody>\n",
       "    <tr>\n",
       "      <td>bagging_500</td>\n",
       "      <td>0.906</td>\n",
       "      <td>0.906</td>\n",
       "      <td>0.703</td>\n",
       "      <td>0.906</td>\n",
       "      <td>0.650</td>\n",
       "      <td>0.906</td>\n",
       "      <td>0.673</td>\n",
       "    </tr>\n",
       "    <tr>\n",
       "      <td>bagging_150</td>\n",
       "      <td>0.904</td>\n",
       "      <td>0.904</td>\n",
       "      <td>0.702</td>\n",
       "      <td>0.904</td>\n",
       "      <td>0.649</td>\n",
       "      <td>0.904</td>\n",
       "      <td>0.672</td>\n",
       "    </tr>\n",
       "    <tr>\n",
       "      <td>bagging_400_max_features_5</td>\n",
       "      <td>0.898</td>\n",
       "      <td>0.898</td>\n",
       "      <td>0.659</td>\n",
       "      <td>0.898</td>\n",
       "      <td>0.669</td>\n",
       "      <td>0.898</td>\n",
       "      <td>0.657</td>\n",
       "    </tr>\n",
       "    <tr>\n",
       "      <td>bagging_500_balanced_class</td>\n",
       "      <td>0.802</td>\n",
       "      <td>0.802</td>\n",
       "      <td>0.882</td>\n",
       "      <td>0.802</td>\n",
       "      <td>0.686</td>\n",
       "      <td>0.802</td>\n",
       "      <td>0.750</td>\n",
       "    </tr>\n",
       "    <tr>\n",
       "      <td>rf_500</td>\n",
       "      <td>0.894</td>\n",
       "      <td>0.894</td>\n",
       "      <td>0.641</td>\n",
       "      <td>0.894</td>\n",
       "      <td>0.658</td>\n",
       "      <td>0.894</td>\n",
       "      <td>0.648</td>\n",
       "    </tr>\n",
       "    <tr>\n",
       "      <td>rf_200</td>\n",
       "      <td>0.894</td>\n",
       "      <td>0.894</td>\n",
       "      <td>0.641</td>\n",
       "      <td>0.894</td>\n",
       "      <td>0.658</td>\n",
       "      <td>0.894</td>\n",
       "      <td>0.648</td>\n",
       "    </tr>\n",
       "    <tr>\n",
       "      <td>rf_100</td>\n",
       "      <td>0.894</td>\n",
       "      <td>0.894</td>\n",
       "      <td>0.641</td>\n",
       "      <td>0.894</td>\n",
       "      <td>0.646</td>\n",
       "      <td>0.894</td>\n",
       "      <td>0.643</td>\n",
       "    </tr>\n",
       "    <tr>\n",
       "      <td>rf_400_max_depth_5</td>\n",
       "      <td>0.846</td>\n",
       "      <td>0.846</td>\n",
       "      <td>0.412</td>\n",
       "      <td>0.846</td>\n",
       "      <td>0.386</td>\n",
       "      <td>0.846</td>\n",
       "      <td>0.398</td>\n",
       "    </tr>\n",
       "    <tr>\n",
       "      <td>rf_100_balanced_class</td>\n",
       "      <td>0.871</td>\n",
       "      <td>0.871</td>\n",
       "      <td>0.900</td>\n",
       "      <td>0.871</td>\n",
       "      <td>0.728</td>\n",
       "      <td>0.871</td>\n",
       "      <td>0.793</td>\n",
       "    </tr>\n",
       "    <tr>\n",
       "      <td>extra_rand_tree_500</td>\n",
       "      <td>0.813</td>\n",
       "      <td>0.813</td>\n",
       "      <td>0.366</td>\n",
       "      <td>0.813</td>\n",
       "      <td>0.375</td>\n",
       "      <td>0.813</td>\n",
       "      <td>0.365</td>\n",
       "    </tr>\n",
       "    <tr>\n",
       "      <td>rf_randomized_cv</td>\n",
       "      <td>0.981</td>\n",
       "      <td>0.981</td>\n",
       "      <td>0.959</td>\n",
       "      <td>0.981</td>\n",
       "      <td>0.945</td>\n",
       "      <td>0.981</td>\n",
       "      <td>0.949</td>\n",
       "    </tr>\n",
       "  </tbody>\n",
       "</table>\n",
       "</div>"
      ],
      "text/plain": [
       "                            Accuracy  Precision micro  Precision macro  \\\n",
       "bagging_500                    0.906            0.906            0.703   \n",
       "bagging_150                    0.904            0.904            0.702   \n",
       "bagging_400_max_features_5     0.898            0.898            0.659   \n",
       "bagging_500_balanced_class     0.802            0.802            0.882   \n",
       "rf_500                         0.894            0.894            0.641   \n",
       "rf_200                         0.894            0.894            0.641   \n",
       "rf_100                         0.894            0.894            0.641   \n",
       "rf_400_max_depth_5             0.846            0.846            0.412   \n",
       "rf_100_balanced_class          0.871            0.871            0.900   \n",
       "extra_rand_tree_500            0.813            0.813            0.366   \n",
       "rf_randomized_cv               0.981            0.981            0.959   \n",
       "\n",
       "                            Recall micro  Recall macro  F1_micro  F1_macro  \n",
       "bagging_500                        0.906         0.650     0.906     0.673  \n",
       "bagging_150                        0.904         0.649     0.904     0.672  \n",
       "bagging_400_max_features_5         0.898         0.669     0.898     0.657  \n",
       "bagging_500_balanced_class         0.802         0.686     0.802     0.750  \n",
       "rf_500                             0.894         0.658     0.894     0.648  \n",
       "rf_200                             0.894         0.658     0.894     0.648  \n",
       "rf_100                             0.894         0.646     0.894     0.643  \n",
       "rf_400_max_depth_5                 0.846         0.386     0.846     0.398  \n",
       "rf_100_balanced_class              0.871         0.728     0.871     0.793  \n",
       "extra_rand_tree_500                0.813         0.375     0.813     0.365  \n",
       "rf_randomized_cv                   0.981         0.945     0.981     0.949  "
      ]
     },
     "execution_count": 33,
     "metadata": {},
     "output_type": "execute_result"
    }
   ],
   "source": [
    "rnd_clf_rand_cv = RandomForestClassifier(n_estimators=338, min_samples_split=2, min_samples_leaf=1,\n",
    "                                         max_features='auto', max_depth=47, bootstrap=False, random_state=42)\n",
    "rnd_clf_rand_cv.fit(X_train, y_train)\n",
    "y_pred = rnd_clf_rand_cv.predict(X_test)\n",
    "\n",
    "df_quality.loc[\"rf_randomized_cv\", :] = quality_report(y_pred, y_test)\n",
    "df_quality.round(3)"
   ]
  },
  {
   "cell_type": "markdown",
   "metadata": {},
   "source": [
    "Parameters found via `RandomizedSearchCV` improved `RandomForestClassifier` quality."
   ]
  },
  {
   "cell_type": "markdown",
   "metadata": {},
   "source": [
    "<a id = 'GridSearchCV'></a>"
   ]
  },
  {
   "cell_type": "markdown",
   "metadata": {},
   "source": [
    "### Grid Search CV"
   ]
  },
  {
   "cell_type": "code",
   "execution_count": 34,
   "metadata": {},
   "outputs": [],
   "source": [
    "# Create the parameter grid based on the results of random search \n",
    "param_grid = {\n",
    "    'bootstrap': [True, False],\n",
    "    'max_depth': [40, 45, 50],\n",
    "    'max_features': ['auto', 3,4],\n",
    "    'min_samples_leaf': [1,2],\n",
    "    'min_samples_split': [2,3],\n",
    "    'n_estimators': [200, 300, 350, 400]\n",
    "}\n",
    "# Create a based model\n",
    "rf = RandomForestClassifier(random_state=42)\n",
    "# Instantiate the grid search model\n",
    "grid_search = GridSearchCV(estimator = rf, param_grid = param_grid, \n",
    "                          cv = 3, n_jobs = -1, verbose = 2)"
   ]
  },
  {
   "cell_type": "code",
   "execution_count": 35,
   "metadata": {},
   "outputs": [
    {
     "name": "stdout",
     "output_type": "stream",
     "text": [
      "Fitting 3 folds for each of 288 candidates, totalling 864 fits\n"
     ]
    },
    {
     "name": "stderr",
     "output_type": "stream",
     "text": [
      "[Parallel(n_jobs=-1)]: Using backend LokyBackend with 4 concurrent workers.\n",
      "[Parallel(n_jobs=-1)]: Done  33 tasks      | elapsed:   18.3s\n",
      "[Parallel(n_jobs=-1)]: Done 154 tasks      | elapsed:  1.3min\n",
      "[Parallel(n_jobs=-1)]: Done 357 tasks      | elapsed:  2.9min\n",
      "[Parallel(n_jobs=-1)]: Done 640 tasks      | elapsed:  4.7min\n",
      "[Parallel(n_jobs=-1)]: Done 864 out of 864 | elapsed:  6.1min finished\n"
     ]
    }
   ],
   "source": [
    "# Fit the grid search to the data\n",
    "grid_search.fit(X_train, y_train)\n",
    "grid_search.best_params_\n",
    "best_grid = grid_search.best_estimator_"
   ]
  },
  {
   "cell_type": "code",
   "execution_count": 36,
   "metadata": {},
   "outputs": [
    {
     "data": {
      "text/plain": [
       "RandomForestClassifier(bootstrap=False, class_weight=None, criterion='gini',\n",
       "                       max_depth=40, max_features=3, max_leaf_nodes=None,\n",
       "                       min_impurity_decrease=0.0, min_impurity_split=None,\n",
       "                       min_samples_leaf=1, min_samples_split=3,\n",
       "                       min_weight_fraction_leaf=0.0, n_estimators=300,\n",
       "                       n_jobs=None, oob_score=False, random_state=42, verbose=0,\n",
       "                       warm_start=False)"
      ]
     },
     "execution_count": 36,
     "metadata": {},
     "output_type": "execute_result"
    }
   ],
   "source": [
    "# Grid Search best result\n",
    "best_grid"
   ]
  },
  {
   "cell_type": "code",
   "execution_count": 40,
   "metadata": {},
   "outputs": [
    {
     "name": "stdout",
     "output_type": "stream",
     "text": [
      "\n",
      "=== Quality Report ===\n",
      "Accuracy: \t 0.983\n",
      "Precision micro: \t 0.983\n",
      "Precision macro: \t 0.953\n",
      "Recall micro: \t 0.983\n",
      "Recall macro: \t 0.961\n",
      "f1_score micro: \t 0.983\n",
      "f1_score macro: \t 0.956\n",
      "\n",
      "======================\n",
      "\n"
     ]
    },
    {
     "data": {
      "text/html": [
       "<div>\n",
       "<style scoped>\n",
       "    .dataframe tbody tr th:only-of-type {\n",
       "        vertical-align: middle;\n",
       "    }\n",
       "\n",
       "    .dataframe tbody tr th {\n",
       "        vertical-align: top;\n",
       "    }\n",
       "\n",
       "    .dataframe thead th {\n",
       "        text-align: right;\n",
       "    }\n",
       "</style>\n",
       "<table border=\"1\" class=\"dataframe\">\n",
       "  <thead>\n",
       "    <tr style=\"text-align: right;\">\n",
       "      <th></th>\n",
       "      <th>Accuracy</th>\n",
       "      <th>Precision micro</th>\n",
       "      <th>Precision macro</th>\n",
       "      <th>Recall micro</th>\n",
       "      <th>Recall macro</th>\n",
       "      <th>F1_micro</th>\n",
       "      <th>F1_macro</th>\n",
       "    </tr>\n",
       "  </thead>\n",
       "  <tbody>\n",
       "    <tr>\n",
       "      <td>bagging_500</td>\n",
       "      <td>0.906</td>\n",
       "      <td>0.906</td>\n",
       "      <td>0.703</td>\n",
       "      <td>0.906</td>\n",
       "      <td>0.650</td>\n",
       "      <td>0.906</td>\n",
       "      <td>0.673</td>\n",
       "    </tr>\n",
       "    <tr>\n",
       "      <td>bagging_150</td>\n",
       "      <td>0.904</td>\n",
       "      <td>0.904</td>\n",
       "      <td>0.702</td>\n",
       "      <td>0.904</td>\n",
       "      <td>0.649</td>\n",
       "      <td>0.904</td>\n",
       "      <td>0.672</td>\n",
       "    </tr>\n",
       "    <tr>\n",
       "      <td>bagging_400_max_features_5</td>\n",
       "      <td>0.898</td>\n",
       "      <td>0.898</td>\n",
       "      <td>0.659</td>\n",
       "      <td>0.898</td>\n",
       "      <td>0.669</td>\n",
       "      <td>0.898</td>\n",
       "      <td>0.657</td>\n",
       "    </tr>\n",
       "    <tr>\n",
       "      <td>bagging_500_balanced_class</td>\n",
       "      <td>0.802</td>\n",
       "      <td>0.802</td>\n",
       "      <td>0.882</td>\n",
       "      <td>0.802</td>\n",
       "      <td>0.686</td>\n",
       "      <td>0.802</td>\n",
       "      <td>0.750</td>\n",
       "    </tr>\n",
       "    <tr>\n",
       "      <td>rf_500</td>\n",
       "      <td>0.894</td>\n",
       "      <td>0.894</td>\n",
       "      <td>0.641</td>\n",
       "      <td>0.894</td>\n",
       "      <td>0.658</td>\n",
       "      <td>0.894</td>\n",
       "      <td>0.648</td>\n",
       "    </tr>\n",
       "    <tr>\n",
       "      <td>rf_200</td>\n",
       "      <td>0.894</td>\n",
       "      <td>0.894</td>\n",
       "      <td>0.641</td>\n",
       "      <td>0.894</td>\n",
       "      <td>0.658</td>\n",
       "      <td>0.894</td>\n",
       "      <td>0.648</td>\n",
       "    </tr>\n",
       "    <tr>\n",
       "      <td>rf_100</td>\n",
       "      <td>0.894</td>\n",
       "      <td>0.894</td>\n",
       "      <td>0.641</td>\n",
       "      <td>0.894</td>\n",
       "      <td>0.646</td>\n",
       "      <td>0.894</td>\n",
       "      <td>0.643</td>\n",
       "    </tr>\n",
       "    <tr>\n",
       "      <td>rf_400_max_depth_5</td>\n",
       "      <td>0.846</td>\n",
       "      <td>0.846</td>\n",
       "      <td>0.412</td>\n",
       "      <td>0.846</td>\n",
       "      <td>0.386</td>\n",
       "      <td>0.846</td>\n",
       "      <td>0.398</td>\n",
       "    </tr>\n",
       "    <tr>\n",
       "      <td>rf_100_balanced_class</td>\n",
       "      <td>0.871</td>\n",
       "      <td>0.871</td>\n",
       "      <td>0.900</td>\n",
       "      <td>0.871</td>\n",
       "      <td>0.728</td>\n",
       "      <td>0.871</td>\n",
       "      <td>0.793</td>\n",
       "    </tr>\n",
       "    <tr>\n",
       "      <td>extra_rand_tree_500</td>\n",
       "      <td>0.813</td>\n",
       "      <td>0.813</td>\n",
       "      <td>0.366</td>\n",
       "      <td>0.813</td>\n",
       "      <td>0.375</td>\n",
       "      <td>0.813</td>\n",
       "      <td>0.365</td>\n",
       "    </tr>\n",
       "    <tr>\n",
       "      <td>rf_randomized_cv</td>\n",
       "      <td>0.981</td>\n",
       "      <td>0.981</td>\n",
       "      <td>0.959</td>\n",
       "      <td>0.981</td>\n",
       "      <td>0.945</td>\n",
       "      <td>0.981</td>\n",
       "      <td>0.949</td>\n",
       "    </tr>\n",
       "    <tr>\n",
       "      <td>rf_grid_cv</td>\n",
       "      <td>0.983</td>\n",
       "      <td>0.983</td>\n",
       "      <td>0.953</td>\n",
       "      <td>0.983</td>\n",
       "      <td>0.961</td>\n",
       "      <td>0.983</td>\n",
       "      <td>0.956</td>\n",
       "    </tr>\n",
       "  </tbody>\n",
       "</table>\n",
       "</div>"
      ],
      "text/plain": [
       "                            Accuracy  Precision micro  Precision macro  \\\n",
       "bagging_500                    0.906            0.906            0.703   \n",
       "bagging_150                    0.904            0.904            0.702   \n",
       "bagging_400_max_features_5     0.898            0.898            0.659   \n",
       "bagging_500_balanced_class     0.802            0.802            0.882   \n",
       "rf_500                         0.894            0.894            0.641   \n",
       "rf_200                         0.894            0.894            0.641   \n",
       "rf_100                         0.894            0.894            0.641   \n",
       "rf_400_max_depth_5             0.846            0.846            0.412   \n",
       "rf_100_balanced_class          0.871            0.871            0.900   \n",
       "extra_rand_tree_500            0.813            0.813            0.366   \n",
       "rf_randomized_cv               0.981            0.981            0.959   \n",
       "rf_grid_cv                     0.983            0.983            0.953   \n",
       "\n",
       "                            Recall micro  Recall macro  F1_micro  F1_macro  \n",
       "bagging_500                        0.906         0.650     0.906     0.673  \n",
       "bagging_150                        0.904         0.649     0.904     0.672  \n",
       "bagging_400_max_features_5         0.898         0.669     0.898     0.657  \n",
       "bagging_500_balanced_class         0.802         0.686     0.802     0.750  \n",
       "rf_500                             0.894         0.658     0.894     0.648  \n",
       "rf_200                             0.894         0.658     0.894     0.648  \n",
       "rf_100                             0.894         0.646     0.894     0.643  \n",
       "rf_400_max_depth_5                 0.846         0.386     0.846     0.398  \n",
       "rf_100_balanced_class              0.871         0.728     0.871     0.793  \n",
       "extra_rand_tree_500                0.813         0.375     0.813     0.365  \n",
       "rf_randomized_cv                   0.981         0.945     0.981     0.949  \n",
       "rf_grid_cv                         0.983         0.961     0.983     0.956  "
      ]
     },
     "execution_count": 40,
     "metadata": {},
     "output_type": "execute_result"
    }
   ],
   "source": [
    "rnd_clf_grid_cv = RandomForestClassifier(bootstrap=False, class_weight=None, criterion='gini',\n",
    "                       max_depth=40, max_features=3, max_leaf_nodes=None,\n",
    "                       min_impurity_decrease=0.0, min_impurity_split=None,\n",
    "                       min_samples_leaf=1, min_samples_split=3,\n",
    "                       min_weight_fraction_leaf=0.0, n_estimators=200,\n",
    "                       n_jobs=None, oob_score=False,                                         \n",
    "                       verbose=0, warm_start=False, random_state=42)\n",
    "rnd_clf_grid_cv.fit(X_train, y_train)\n",
    "\n",
    "y_pred_grid_cv = rnd_clf_grid_cv.predict(X_test)\n",
    "\n",
    "df_quality.loc[\"rf_grid_cv\", :] = quality_report(y_pred_grid_cv, y_test)\n",
    "df_quality.round(3)"
   ]
  },
  {
   "cell_type": "code",
   "execution_count": 46,
   "metadata": {},
   "outputs": [
    {
     "name": "stdout",
     "output_type": "stream",
     "text": [
      "\n",
      "=== Quality Report ===\n",
      "Accuracy: \t 0.977\n",
      "Precision micro: \t 0.977\n",
      "Precision macro: \t 0.958\n",
      "Recall micro: \t 0.977\n",
      "Recall macro: \t 0.928\n",
      "f1_score micro: \t 0.977\n",
      "f1_score macro: \t 0.938\n",
      "\n",
      "======================\n",
      "\n"
     ]
    },
    {
     "data": {
      "text/html": [
       "<div>\n",
       "<style scoped>\n",
       "    .dataframe tbody tr th:only-of-type {\n",
       "        vertical-align: middle;\n",
       "    }\n",
       "\n",
       "    .dataframe tbody tr th {\n",
       "        vertical-align: top;\n",
       "    }\n",
       "\n",
       "    .dataframe thead th {\n",
       "        text-align: right;\n",
       "    }\n",
       "</style>\n",
       "<table border=\"1\" class=\"dataframe\">\n",
       "  <thead>\n",
       "    <tr style=\"text-align: right;\">\n",
       "      <th></th>\n",
       "      <th>Accuracy</th>\n",
       "      <th>Precision micro</th>\n",
       "      <th>Precision macro</th>\n",
       "      <th>Recall micro</th>\n",
       "      <th>Recall macro</th>\n",
       "      <th>F1_micro</th>\n",
       "      <th>F1_macro</th>\n",
       "    </tr>\n",
       "  </thead>\n",
       "  <tbody>\n",
       "    <tr>\n",
       "      <td>bagging_500</td>\n",
       "      <td>0.906</td>\n",
       "      <td>0.906</td>\n",
       "      <td>0.703</td>\n",
       "      <td>0.906</td>\n",
       "      <td>0.650</td>\n",
       "      <td>0.906</td>\n",
       "      <td>0.673</td>\n",
       "    </tr>\n",
       "    <tr>\n",
       "      <td>bagging_150</td>\n",
       "      <td>0.904</td>\n",
       "      <td>0.904</td>\n",
       "      <td>0.702</td>\n",
       "      <td>0.904</td>\n",
       "      <td>0.649</td>\n",
       "      <td>0.904</td>\n",
       "      <td>0.672</td>\n",
       "    </tr>\n",
       "    <tr>\n",
       "      <td>bagging_400_max_features_5</td>\n",
       "      <td>0.898</td>\n",
       "      <td>0.898</td>\n",
       "      <td>0.659</td>\n",
       "      <td>0.898</td>\n",
       "      <td>0.669</td>\n",
       "      <td>0.898</td>\n",
       "      <td>0.657</td>\n",
       "    </tr>\n",
       "    <tr>\n",
       "      <td>bagging_500_balanced_class</td>\n",
       "      <td>0.802</td>\n",
       "      <td>0.802</td>\n",
       "      <td>0.882</td>\n",
       "      <td>0.802</td>\n",
       "      <td>0.686</td>\n",
       "      <td>0.802</td>\n",
       "      <td>0.750</td>\n",
       "    </tr>\n",
       "    <tr>\n",
       "      <td>rf_500</td>\n",
       "      <td>0.894</td>\n",
       "      <td>0.894</td>\n",
       "      <td>0.641</td>\n",
       "      <td>0.894</td>\n",
       "      <td>0.658</td>\n",
       "      <td>0.894</td>\n",
       "      <td>0.648</td>\n",
       "    </tr>\n",
       "    <tr>\n",
       "      <td>rf_200</td>\n",
       "      <td>0.894</td>\n",
       "      <td>0.894</td>\n",
       "      <td>0.641</td>\n",
       "      <td>0.894</td>\n",
       "      <td>0.658</td>\n",
       "      <td>0.894</td>\n",
       "      <td>0.648</td>\n",
       "    </tr>\n",
       "    <tr>\n",
       "      <td>rf_100</td>\n",
       "      <td>0.894</td>\n",
       "      <td>0.894</td>\n",
       "      <td>0.641</td>\n",
       "      <td>0.894</td>\n",
       "      <td>0.646</td>\n",
       "      <td>0.894</td>\n",
       "      <td>0.643</td>\n",
       "    </tr>\n",
       "    <tr>\n",
       "      <td>rf_400_max_depth_5</td>\n",
       "      <td>0.846</td>\n",
       "      <td>0.846</td>\n",
       "      <td>0.412</td>\n",
       "      <td>0.846</td>\n",
       "      <td>0.386</td>\n",
       "      <td>0.846</td>\n",
       "      <td>0.398</td>\n",
       "    </tr>\n",
       "    <tr>\n",
       "      <td>rf_100_balanced_class</td>\n",
       "      <td>0.871</td>\n",
       "      <td>0.871</td>\n",
       "      <td>0.900</td>\n",
       "      <td>0.871</td>\n",
       "      <td>0.728</td>\n",
       "      <td>0.871</td>\n",
       "      <td>0.793</td>\n",
       "    </tr>\n",
       "    <tr>\n",
       "      <td>extra_rand_tree_500</td>\n",
       "      <td>0.813</td>\n",
       "      <td>0.813</td>\n",
       "      <td>0.366</td>\n",
       "      <td>0.813</td>\n",
       "      <td>0.375</td>\n",
       "      <td>0.813</td>\n",
       "      <td>0.365</td>\n",
       "    </tr>\n",
       "    <tr>\n",
       "      <td>rf_randomized_cv</td>\n",
       "      <td>0.981</td>\n",
       "      <td>0.981</td>\n",
       "      <td>0.959</td>\n",
       "      <td>0.981</td>\n",
       "      <td>0.945</td>\n",
       "      <td>0.981</td>\n",
       "      <td>0.949</td>\n",
       "    </tr>\n",
       "    <tr>\n",
       "      <td>rf_grid_cv</td>\n",
       "      <td>0.983</td>\n",
       "      <td>0.983</td>\n",
       "      <td>0.953</td>\n",
       "      <td>0.983</td>\n",
       "      <td>0.961</td>\n",
       "      <td>0.983</td>\n",
       "      <td>0.956</td>\n",
       "    </tr>\n",
       "    <tr>\n",
       "      <td>rf_grid_cv_balanced</td>\n",
       "      <td>0.977</td>\n",
       "      <td>0.977</td>\n",
       "      <td>0.958</td>\n",
       "      <td>0.977</td>\n",
       "      <td>0.928</td>\n",
       "      <td>0.977</td>\n",
       "      <td>0.938</td>\n",
       "    </tr>\n",
       "  </tbody>\n",
       "</table>\n",
       "</div>"
      ],
      "text/plain": [
       "                            Accuracy  Precision micro  Precision macro  \\\n",
       "bagging_500                    0.906            0.906            0.703   \n",
       "bagging_150                    0.904            0.904            0.702   \n",
       "bagging_400_max_features_5     0.898            0.898            0.659   \n",
       "bagging_500_balanced_class     0.802            0.802            0.882   \n",
       "rf_500                         0.894            0.894            0.641   \n",
       "rf_200                         0.894            0.894            0.641   \n",
       "rf_100                         0.894            0.894            0.641   \n",
       "rf_400_max_depth_5             0.846            0.846            0.412   \n",
       "rf_100_balanced_class          0.871            0.871            0.900   \n",
       "extra_rand_tree_500            0.813            0.813            0.366   \n",
       "rf_randomized_cv               0.981            0.981            0.959   \n",
       "rf_grid_cv                     0.983            0.983            0.953   \n",
       "rf_grid_cv_balanced            0.977            0.977            0.958   \n",
       "\n",
       "                            Recall micro  Recall macro  F1_micro  F1_macro  \n",
       "bagging_500                        0.906         0.650     0.906     0.673  \n",
       "bagging_150                        0.904         0.649     0.904     0.672  \n",
       "bagging_400_max_features_5         0.898         0.669     0.898     0.657  \n",
       "bagging_500_balanced_class         0.802         0.686     0.802     0.750  \n",
       "rf_500                             0.894         0.658     0.894     0.648  \n",
       "rf_200                             0.894         0.658     0.894     0.648  \n",
       "rf_100                             0.894         0.646     0.894     0.643  \n",
       "rf_400_max_depth_5                 0.846         0.386     0.846     0.398  \n",
       "rf_100_balanced_class              0.871         0.728     0.871     0.793  \n",
       "extra_rand_tree_500                0.813         0.375     0.813     0.365  \n",
       "rf_randomized_cv                   0.981         0.945     0.981     0.949  \n",
       "rf_grid_cv                         0.983         0.961     0.983     0.956  \n",
       "rf_grid_cv_balanced                0.977         0.928     0.977     0.938  "
      ]
     },
     "execution_count": 46,
     "metadata": {},
     "output_type": "execute_result"
    }
   ],
   "source": [
    "rnd_clf_grid_cv_balanced = RandomForestClassifier(bootstrap=False, class_weight='balanced', criterion='gini',\n",
    "                       max_depth=40, max_features=3, max_leaf_nodes=None,\n",
    "                       min_impurity_decrease=0.0, min_impurity_split=None,\n",
    "                       min_samples_leaf=1, min_samples_split=3,\n",
    "                       min_weight_fraction_leaf=0.0, n_estimators=200,\n",
    "                       n_jobs=None, oob_score=False,                                         \n",
    "                       verbose=0, warm_start=False, random_state=42)\n",
    "rnd_clf_grid_cv_balanced.fit(X_train, y_train)\n",
    "\n",
    "y_pred_grid_cv_balanced = rnd_clf_grid_cv_balanced.predict(X_test)\n",
    "\n",
    "df_quality.loc[\"rf_grid_cv_balanced\", :] = quality_report(y_pred_grid_cv_balanced, y_test)\n",
    "df_quality.round(3)"
   ]
  },
  {
   "cell_type": "markdown",
   "metadata": {},
   "source": [
    "`GridSearchCV` based on hyperparameters found by `RandomizedSearchCV` gives us another hyperparameters close to first ones that improve model quality even higher (*in previous launch grid search gave me `n_estimators` = 200 which is better than 300*). \n",
    "Adding `class_weights='balanced'` parameter to final parameters list found by grid search decreased model quality."
   ]
  },
  {
   "cell_type": "markdown",
   "metadata": {},
   "source": [
    "<a id='Feature_Importance'></a>"
   ]
  },
  {
   "cell_type": "markdown",
   "metadata": {},
   "source": [
    "## 8. Feature Importance Visualization"
   ]
  },
  {
   "cell_type": "code",
   "execution_count": 41,
   "metadata": {},
   "outputs": [],
   "source": [
    "def plot_digit(data):\n",
    "    image = data.reshape(2, 3)\n",
    "    plt.imshow(image, cmap = matplotlib.cm.hot,\n",
    "               interpolation=\"nearest\")\n",
    "    plt.axis(\"off\")"
   ]
  },
  {
   "cell_type": "code",
   "execution_count": 44,
   "metadata": {},
   "outputs": [
    {
     "data": {
      "image/png": "[encoded data removed]",
      "text/plain": [
       "<Figure size 432x288 with 2 Axes>"
      ]
     },
     "metadata": {
      "needs_background": "light"
     },
     "output_type": "display_data"
    }
   ],
   "source": [
    "plot_digit(rnd_clf_grid_cv.feature_importances_)\n",
    "cbar = plt.colorbar(ticks=[rnd_clf_grid_cv.feature_importances_.min(), rnd_clf_grid_cv.feature_importances_.max()])\n",
    "cbar.ax.set_yticklabels(['Not important', 'Very important'])\n",
    "plt.show()"
   ]
  },
  {
   "cell_type": "code",
   "execution_count": 45,
   "metadata": {},
   "outputs": [
    {
     "name": "stdout",
     "output_type": "stream",
     "text": [
      "buying 0.19108464914698522\n",
      "maint 0.18700415421988378\n",
      "doors 0.052199855583440896\n",
      "persons 0.21691317860254566\n",
      "lug_boot 0.08726551616402714\n",
      "safety 0.2655326462831173\n"
     ]
    }
   ],
   "source": [
    "for name, score in zip(column_names, rnd_clf_grid_cv.feature_importances_):\n",
    "    print(name, score)"
   ]
  },
  {
   "cell_type": "markdown",
   "metadata": {},
   "source": [
    "As we see from plot and feature_importances_ classifier attribute value the most important features are `safety` and `persons`. `buying` and `maint` features are also rather meaningful."
   ]
  },
  {
   "cell_type": "markdown",
   "metadata": {},
   "source": [
    "<a id='Conclusion'></a>"
   ]
  },
  {
   "cell_type": "markdown",
   "metadata": {},
   "source": [
    "## 9. Conclusion"
   ]
  },
  {
   "cell_type": "markdown",
   "metadata": {},
   "source": [
    "- `RandomForestClassifier` has better result than `ExtraTreesClassifier`.\n",
    "- Validation curves may be used to find an interval for `RandomizedSearchCV`, but they are of no real value.\n",
    "- The best results gives consecutive usage of `RandomizedSearchCV` and `GridSearchCV`.\n",
    "- The most important features are estimated safety of the car and capacity in terms of persons to carry.\n",
    "- Tuning hyperparameters caused remarkable model quality improvement. \n",
    "- Random forest achieves great result even on imbalanced datasets."
   ]
  }
 ],
 "metadata": {
  "kernelspec": {
   "display_name": "Python 3",
   "language": "python",
   "name": "python3"
  },
  "language_info": {
   "codemirror_mode": {
    "name": "ipython",
    "version": 3
   },
   "file_extension": ".py",
   "mimetype": "text/x-python",
   "name": "python",
   "nbconvert_exporter": "python",
   "pygments_lexer": "ipython3",
   "version": "3.7.4"
  }
 },
 "nbformat": 4,
 "nbformat_minor": 2
}
