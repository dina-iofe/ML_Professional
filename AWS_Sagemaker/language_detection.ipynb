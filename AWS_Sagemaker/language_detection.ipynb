{
 "cells": [
  {
   "cell_type": "code",
   "execution_count": 1,
   "metadata": {},
   "outputs": [],
   "source": [
    "import pandas as pd\n",
    "import boto3\n",
    "import sagemaker\n",
    "comprehend = boto3.client('comprehend', region_name='us-east-1')"
   ]
  },
  {
   "cell_type": "code",
   "execution_count": 2,
   "metadata": {},
   "outputs": [
    {
     "name": "stdout",
     "output_type": "stream",
     "text": [
      "Bucket:\n",
      "sagemaker-us-east-1-737786887809\n"
     ]
    }
   ],
   "source": [
    "bucket = sagemaker.Session().default_bucket()\n",
    "print('Bucket:\\n{}'.format(bucket))"
   ]
  },
  {
   "cell_type": "code",
   "execution_count": 3,
   "metadata": {},
   "outputs": [
    {
     "data": {
      "text/html": [
       "<div>\n",
       "<style scoped>\n",
       "    .dataframe tbody tr th:only-of-type {\n",
       "        vertical-align: middle;\n",
       "    }\n",
       "\n",
       "    .dataframe tbody tr th {\n",
       "        vertical-align: top;\n",
       "    }\n",
       "\n",
       "    .dataframe thead th {\n",
       "        text-align: right;\n",
       "    }\n",
       "</style>\n",
       "<table border=\"1\" class=\"dataframe\">\n",
       "  <thead>\n",
       "    <tr style=\"text-align: right;\">\n",
       "      <th></th>\n",
       "      <th>text</th>\n",
       "      <th>language</th>\n",
       "    </tr>\n",
       "  </thead>\n",
       "  <tbody>\n",
       "    <tr>\n",
       "      <th>0</th>\n",
       "      <td>Ship shape and Bristol fashion</td>\n",
       "      <td>English</td>\n",
       "    </tr>\n",
       "    <tr>\n",
       "      <th>1</th>\n",
       "      <td>Know the ropes</td>\n",
       "      <td>English</td>\n",
       "    </tr>\n",
       "    <tr>\n",
       "      <th>2</th>\n",
       "      <td>Graveyard shift</td>\n",
       "      <td>English</td>\n",
       "    </tr>\n",
       "    <tr>\n",
       "      <th>3</th>\n",
       "      <td>Milk of human kindness</td>\n",
       "      <td>English</td>\n",
       "    </tr>\n",
       "    <tr>\n",
       "      <th>4</th>\n",
       "      <td>Touch with a barge-pole - Wouldn't</td>\n",
       "      <td>English</td>\n",
       "    </tr>\n",
       "  </tbody>\n",
       "</table>\n",
       "</div>"
      ],
      "text/plain": [
       "                                 text language\n",
       "0      Ship shape and Bristol fashion  English\n",
       "1                      Know the ropes  English\n",
       "2                     Graveyard shift  English\n",
       "3              Milk of human kindness  English\n",
       "4  Touch with a barge-pole - Wouldn't  English"
      ]
     },
     "execution_count": 3,
     "metadata": {},
     "output_type": "execute_result"
    }
   ],
   "source": [
    "data_bucket = 'nlp-otus-homework'\n",
    "lang_data_filename = 'lang_data.csv'\n",
    "s3 = boto3.resource('s3')\n",
    "s3.Bucket(data_bucket).download_file(lang_data_filename, 'raw_data.csv')\n",
    "\n",
    "data = pd.read_csv('./raw_data.csv')\n",
    "data.head()"
   ]
  },
  {
   "cell_type": "code",
   "execution_count": 20,
   "metadata": {},
   "outputs": [
    {
     "data": {
      "text/plain": [
       "False"
      ]
     },
     "execution_count": 20,
     "metadata": {},
     "output_type": "execute_result"
    }
   ],
   "source": [
    "data.isnull().values.any()"
   ]
  },
  {
   "cell_type": "code",
   "execution_count": 19,
   "metadata": {},
   "outputs": [],
   "source": [
    "data.dropna(inplace=True)"
   ]
  },
  {
   "cell_type": "code",
   "execution_count": 22,
   "metadata": {},
   "outputs": [
    {
     "data": {
      "text/plain": [
       "English       2055\n",
       "Afrikaans      639\n",
       "Nederlands      67\n",
       "Name: language, dtype: int64"
      ]
     },
     "execution_count": 22,
     "metadata": {},
     "output_type": "execute_result"
    }
   ],
   "source": [
    "data.language.value_counts()"
   ]
  },
  {
   "cell_type": "code",
   "execution_count": 5,
   "metadata": {},
   "outputs": [],
   "source": [
    "lang = comprehend.detect_dominant_language(Text=data.text[0])"
   ]
  },
  {
   "cell_type": "code",
   "execution_count": 6,
   "metadata": {},
   "outputs": [
    {
     "data": {
      "text/plain": [
       "{'Languages': [{'LanguageCode': 'en', 'Score': 0.9807940721511841}],\n",
       " 'ResponseMetadata': {'RequestId': '5a51c77f-82a9-47d2-a802-1ef5e26d358e',\n",
       "  'HTTPStatusCode': 200,\n",
       "  'HTTPHeaders': {'x-amzn-requestid': '5a51c77f-82a9-47d2-a802-1ef5e26d358e',\n",
       "   'content-type': 'application/x-amz-json-1.1',\n",
       "   'content-length': '64',\n",
       "   'date': 'Mon, 27 Jul 2020 09:25:19 GMT'},\n",
       "  'RetryAttempts': 0}}"
      ]
     },
     "execution_count": 6,
     "metadata": {},
     "output_type": "execute_result"
    }
   ],
   "source": [
    "lang"
   ]
  },
  {
   "cell_type": "code",
   "execution_count": 24,
   "metadata": {},
   "outputs": [],
   "source": [
    "for index, row in data.iterrows():         \n",
    "    data.loc[index,'detected_language'] = comprehend.detect_dominant_language(Text=row.text)['Languages'][0]['LanguageCode']"
   ]
  },
  {
   "cell_type": "code",
   "execution_count": 25,
   "metadata": {},
   "outputs": [
    {
     "data": {
      "text/html": [
       "<div>\n",
       "<style scoped>\n",
       "    .dataframe tbody tr th:only-of-type {\n",
       "        vertical-align: middle;\n",
       "    }\n",
       "\n",
       "    .dataframe tbody tr th {\n",
       "        vertical-align: top;\n",
       "    }\n",
       "\n",
       "    .dataframe thead th {\n",
       "        text-align: right;\n",
       "    }\n",
       "</style>\n",
       "<table border=\"1\" class=\"dataframe\">\n",
       "  <thead>\n",
       "    <tr style=\"text-align: right;\">\n",
       "      <th></th>\n",
       "      <th>text</th>\n",
       "      <th>language</th>\n",
       "      <th>detected_language</th>\n",
       "    </tr>\n",
       "  </thead>\n",
       "  <tbody>\n",
       "    <tr>\n",
       "      <th>0</th>\n",
       "      <td>Ship shape and Bristol fashion</td>\n",
       "      <td>English</td>\n",
       "      <td>en</td>\n",
       "    </tr>\n",
       "    <tr>\n",
       "      <th>1</th>\n",
       "      <td>Know the ropes</td>\n",
       "      <td>English</td>\n",
       "      <td>en</td>\n",
       "    </tr>\n",
       "    <tr>\n",
       "      <th>2</th>\n",
       "      <td>Graveyard shift</td>\n",
       "      <td>English</td>\n",
       "      <td>en</td>\n",
       "    </tr>\n",
       "    <tr>\n",
       "      <th>3</th>\n",
       "      <td>Milk of human kindness</td>\n",
       "      <td>English</td>\n",
       "      <td>en</td>\n",
       "    </tr>\n",
       "    <tr>\n",
       "      <th>4</th>\n",
       "      <td>Touch with a barge-pole - Wouldn't</td>\n",
       "      <td>English</td>\n",
       "      <td>en</td>\n",
       "    </tr>\n",
       "  </tbody>\n",
       "</table>\n",
       "</div>"
      ],
      "text/plain": [
       "                                 text language detected_language\n",
       "0      Ship shape and Bristol fashion  English                en\n",
       "1                      Know the ropes  English                en\n",
       "2                     Graveyard shift  English                en\n",
       "3              Milk of human kindness  English                en\n",
       "4  Touch with a barge-pole - Wouldn't  English                en"
      ]
     },
     "execution_count": 25,
     "metadata": {},
     "output_type": "execute_result"
    }
   ],
   "source": [
    "data.head()"
   ]
  },
  {
   "cell_type": "code",
   "execution_count": 26,
   "metadata": {},
   "outputs": [
    {
     "data": {
      "text/plain": [
       "English       2055\n",
       "Afrikaans      639\n",
       "Nederlands      67\n",
       "Name: language, dtype: int64"
      ]
     },
     "execution_count": 26,
     "metadata": {},
     "output_type": "execute_result"
    }
   ],
   "source": [
    "data.language.value_counts()"
   ]
  },
  {
   "cell_type": "code",
   "execution_count": 27,
   "metadata": {},
   "outputs": [
    {
     "data": {
      "text/plain": [
       "en    2038\n",
       "af     529\n",
       "nl     158\n",
       "fr      13\n",
       "es       6\n",
       "la       4\n",
       "da       2\n",
       "it       2\n",
       "uz       2\n",
       "de       2\n",
       "pt       1\n",
       "lt       1\n",
       "lv       1\n",
       "ca       1\n",
       "id       1\n",
       "Name: detected_language, dtype: int64"
      ]
     },
     "execution_count": 27,
     "metadata": {},
     "output_type": "execute_result"
    }
   ],
   "source": [
    "data.detected_language.value_counts()"
   ]
  },
  {
   "cell_type": "code",
   "execution_count": 28,
   "metadata": {},
   "outputs": [
    {
     "name": "stdout",
     "output_type": "stream",
     "text": [
      "The data is successfully written to S3 path: nlp-otus-homework/detected_data.csv\n"
     ]
    }
   ],
   "source": [
    "# Function to upload to S3\n",
    "from io import StringIO\n",
    "import boto3\n",
    "\n",
    "def write_pd_s3_csv(df, bucket, filepath):\n",
    "    csv_buffer = StringIO()\n",
    "    df.to_csv(csv_buffer)\n",
    "    s3_resource = boto3.resource('s3')\n",
    "    s3_resource.Object(bucket, filepath).put(Body=csv_buffer.getvalue())\n",
    "    print(\"The data is successfully written to S3 path:\", bucket+\"/\"+filepath)\n",
    "\n",
    "# Write to S3\n",
    "file_path = 'detected_data.csv'\n",
    "write_pd_s3_csv(data, data_bucket, file_path)"
   ]
  },
  {
   "cell_type": "markdown",
   "metadata": {},
   "source": [
    "Посмотрим долю правильно опознанных английских фраз"
   ]
  },
  {
   "cell_type": "code",
   "execution_count": 34,
   "metadata": {},
   "outputs": [
    {
     "data": {
      "text/plain": [
       "0.9854014598540146"
      ]
     },
     "execution_count": 34,
     "metadata": {},
     "output_type": "execute_result"
    }
   ],
   "source": [
    "len(data[(data.language == 'English') & (data.detected_language == 'en')].index) / len(data[data.language == 'English'].index)"
   ]
  },
  {
   "cell_type": "markdown",
   "metadata": {},
   "source": [
    "Доля правильно опознанных голландских фраз:"
   ]
  },
  {
   "cell_type": "code",
   "execution_count": 36,
   "metadata": {},
   "outputs": [
    {
     "data": {
      "text/plain": [
       "1.0"
      ]
     },
     "execution_count": 36,
     "metadata": {},
     "output_type": "execute_result"
    }
   ],
   "source": [
    "len(data[(data.language == 'Nederlands') & (data.detected_language == 'nl')].index) / len(data[data.language == 'Nederlands'].index)"
   ]
  },
  {
   "cell_type": "markdown",
   "metadata": {},
   "source": [
    "Доля правильно опознанных фраз на языке африкаанс:"
   ]
  },
  {
   "cell_type": "code",
   "execution_count": 37,
   "metadata": {},
   "outputs": [
    {
     "data": {
      "text/plain": [
       "0.8278560250391236"
      ]
     },
     "execution_count": 37,
     "metadata": {},
     "output_type": "execute_result"
    }
   ],
   "source": [
    "len(data[(data.language == 'Afrikaans') & (data.detected_language == 'af')].index) / len(data[data.language == 'Afrikaans'].index)"
   ]
  },
  {
   "cell_type": "markdown",
   "metadata": {},
   "source": [
    "Посмотрим, с какими языками Comprehend перепутал английский"
   ]
  },
  {
   "cell_type": "code",
   "execution_count": 38,
   "metadata": {},
   "outputs": [
    {
     "data": {
      "text/html": [
       "<div>\n",
       "<style scoped>\n",
       "    .dataframe tbody tr th:only-of-type {\n",
       "        vertical-align: middle;\n",
       "    }\n",
       "\n",
       "    .dataframe tbody tr th {\n",
       "        vertical-align: top;\n",
       "    }\n",
       "\n",
       "    .dataframe thead th {\n",
       "        text-align: right;\n",
       "    }\n",
       "</style>\n",
       "<table border=\"1\" class=\"dataframe\">\n",
       "  <thead>\n",
       "    <tr style=\"text-align: right;\">\n",
       "      <th></th>\n",
       "      <th>text</th>\n",
       "      <th>language</th>\n",
       "      <th>detected_language</th>\n",
       "    </tr>\n",
       "  </thead>\n",
       "  <tbody>\n",
       "    <tr>\n",
       "      <th>109</th>\n",
       "      <td>Hoi polloi</td>\n",
       "      <td>English</td>\n",
       "      <td>nl</td>\n",
       "    </tr>\n",
       "    <tr>\n",
       "      <th>118</th>\n",
       "      <td>Deus ex machina</td>\n",
       "      <td>English</td>\n",
       "      <td>pt</td>\n",
       "    </tr>\n",
       "    <tr>\n",
       "      <th>229</th>\n",
       "      <td>Aide-mémoire</td>\n",
       "      <td>English</td>\n",
       "      <td>fr</td>\n",
       "    </tr>\n",
       "    <tr>\n",
       "      <th>240</th>\n",
       "      <td>La dolce vita</td>\n",
       "      <td>English</td>\n",
       "      <td>it</td>\n",
       "    </tr>\n",
       "    <tr>\n",
       "      <th>282</th>\n",
       "      <td>Savoir faire</td>\n",
       "      <td>English</td>\n",
       "      <td>fr</td>\n",
       "    </tr>\n",
       "    <tr>\n",
       "      <th>335</th>\n",
       "      <td>Et tu, Brute</td>\n",
       "      <td>English</td>\n",
       "      <td>fr</td>\n",
       "    </tr>\n",
       "    <tr>\n",
       "      <th>351</th>\n",
       "      <td>Carte blanche</td>\n",
       "      <td>English</td>\n",
       "      <td>fr</td>\n",
       "    </tr>\n",
       "    <tr>\n",
       "      <th>391</th>\n",
       "      <td>Cordon bleu</td>\n",
       "      <td>English</td>\n",
       "      <td>fr</td>\n",
       "    </tr>\n",
       "    <tr>\n",
       "      <th>424</th>\n",
       "      <td>Hasta la vista, baby</td>\n",
       "      <td>English</td>\n",
       "      <td>es</td>\n",
       "    </tr>\n",
       "    <tr>\n",
       "      <th>569</th>\n",
       "      <td>Fait accompli</td>\n",
       "      <td>English</td>\n",
       "      <td>fr</td>\n",
       "    </tr>\n",
       "    <tr>\n",
       "      <th>648</th>\n",
       "      <td>Mea culpa</td>\n",
       "      <td>English</td>\n",
       "      <td>la</td>\n",
       "    </tr>\n",
       "    <tr>\n",
       "      <th>817</th>\n",
       "      <td>Ars longa, vita brevis</td>\n",
       "      <td>English</td>\n",
       "      <td>la</td>\n",
       "    </tr>\n",
       "    <tr>\n",
       "      <th>1080</th>\n",
       "      <td>Aga saga</td>\n",
       "      <td>English</td>\n",
       "      <td>es</td>\n",
       "    </tr>\n",
       "    <tr>\n",
       "      <th>1082</th>\n",
       "      <td>Nul points</td>\n",
       "      <td>English</td>\n",
       "      <td>fr</td>\n",
       "    </tr>\n",
       "    <tr>\n",
       "      <th>1118</th>\n",
       "      <td>Al fresco</td>\n",
       "      <td>English</td>\n",
       "      <td>es</td>\n",
       "    </tr>\n",
       "    <tr>\n",
       "      <th>1141</th>\n",
       "      <td>Ménage à trois</td>\n",
       "      <td>English</td>\n",
       "      <td>fr</td>\n",
       "    </tr>\n",
       "    <tr>\n",
       "      <th>1181</th>\n",
       "      <td>À la mode</td>\n",
       "      <td>English</td>\n",
       "      <td>fr</td>\n",
       "    </tr>\n",
       "    <tr>\n",
       "      <th>1377</th>\n",
       "      <td>Infra dig</td>\n",
       "      <td>English</td>\n",
       "      <td>lv</td>\n",
       "    </tr>\n",
       "    <tr>\n",
       "      <th>1492</th>\n",
       "      <td>À la carte</td>\n",
       "      <td>English</td>\n",
       "      <td>fr</td>\n",
       "    </tr>\n",
       "    <tr>\n",
       "      <th>1729</th>\n",
       "      <td>Het up</td>\n",
       "      <td>English</td>\n",
       "      <td>nl</td>\n",
       "    </tr>\n",
       "    <tr>\n",
       "      <th>1777</th>\n",
       "      <td>Knick-knack</td>\n",
       "      <td>English</td>\n",
       "      <td>es</td>\n",
       "    </tr>\n",
       "    <tr>\n",
       "      <th>1780</th>\n",
       "      <td>Àugur well</td>\n",
       "      <td>English</td>\n",
       "      <td>ca</td>\n",
       "    </tr>\n",
       "    <tr>\n",
       "      <th>1834</th>\n",
       "      <td>Quid pro quo</td>\n",
       "      <td>English</td>\n",
       "      <td>la</td>\n",
       "    </tr>\n",
       "    <tr>\n",
       "      <th>2116</th>\n",
       "      <td>Tout de suite</td>\n",
       "      <td>English</td>\n",
       "      <td>fr</td>\n",
       "    </tr>\n",
       "    <tr>\n",
       "      <th>2237</th>\n",
       "      <td>La-di-da</td>\n",
       "      <td>English</td>\n",
       "      <td>it</td>\n",
       "    </tr>\n",
       "    <tr>\n",
       "      <th>2377</th>\n",
       "      <td>Cogito ergo sum</td>\n",
       "      <td>English</td>\n",
       "      <td>la</td>\n",
       "    </tr>\n",
       "    <tr>\n",
       "      <th>2683</th>\n",
       "      <td>Vorsprung Durch Technik</td>\n",
       "      <td>English</td>\n",
       "      <td>de</td>\n",
       "    </tr>\n",
       "    <tr>\n",
       "      <th>2732</th>\n",
       "      <td>A priori</td>\n",
       "      <td>English</td>\n",
       "      <td>fr</td>\n",
       "    </tr>\n",
       "    <tr>\n",
       "      <th>2768</th>\n",
       "      <td>Mal de mer</td>\n",
       "      <td>English</td>\n",
       "      <td>es</td>\n",
       "    </tr>\n",
       "    <tr>\n",
       "      <th>2794</th>\n",
       "      <td>Pell-mell</td>\n",
       "      <td>English</td>\n",
       "      <td>es</td>\n",
       "    </tr>\n",
       "  </tbody>\n",
       "</table>\n",
       "</div>"
      ],
      "text/plain": [
       "                         text language detected_language\n",
       "109                Hoi polloi  English                nl\n",
       "118           Deus ex machina  English                pt\n",
       "229              Aide-mémoire  English                fr\n",
       "240             La dolce vita  English                it\n",
       "282              Savoir faire  English                fr\n",
       "335              Et tu, Brute  English                fr\n",
       "351             Carte blanche  English                fr\n",
       "391               Cordon bleu  English                fr\n",
       "424      Hasta la vista, baby  English                es\n",
       "569             Fait accompli  English                fr\n",
       "648                 Mea culpa  English                la\n",
       "817    Ars longa, vita brevis  English                la\n",
       "1080                 Aga saga  English                es\n",
       "1082               Nul points  English                fr\n",
       "1118                Al fresco  English                es\n",
       "1141           Ménage à trois  English                fr\n",
       "1181                À la mode  English                fr\n",
       "1377                Infra dig  English                lv\n",
       "1492               À la carte  English                fr\n",
       "1729                   Het up  English                nl\n",
       "1777              Knick-knack  English                es\n",
       "1780               Àugur well  English                ca\n",
       "1834             Quid pro quo  English                la\n",
       "2116            Tout de suite  English                fr\n",
       "2237                 La-di-da  English                it\n",
       "2377          Cogito ergo sum  English                la\n",
       "2683  Vorsprung Durch Technik  English                de\n",
       "2732                 A priori  English                fr\n",
       "2768               Mal de mer  English                es\n",
       "2794                Pell-mell  English                es"
      ]
     },
     "execution_count": 38,
     "metadata": {},
     "output_type": "execute_result"
    }
   ],
   "source": [
    "data[(data.language == 'English') & (data.detected_language != 'en')]"
   ]
  },
  {
   "cell_type": "markdown",
   "metadata": {},
   "source": [
    "Здесь видны заимствования из французского, латыни, итальянского и пр., поэтому ошибки Comprehend вполне обоснованы."
   ]
  },
  {
   "cell_type": "markdown",
   "metadata": {},
   "source": [
    "Посмотрим, с какими языками Comprehend перепутал африкаанс"
   ]
  },
  {
   "cell_type": "code",
   "execution_count": 40,
   "metadata": {},
   "outputs": [
    {
     "data": {
      "text/html": [
       "<div>\n",
       "<style scoped>\n",
       "    .dataframe tbody tr th:only-of-type {\n",
       "        vertical-align: middle;\n",
       "    }\n",
       "\n",
       "    .dataframe tbody tr th {\n",
       "        vertical-align: top;\n",
       "    }\n",
       "\n",
       "    .dataframe thead th {\n",
       "        text-align: right;\n",
       "    }\n",
       "</style>\n",
       "<table border=\"1\" class=\"dataframe\">\n",
       "  <thead>\n",
       "    <tr style=\"text-align: right;\">\n",
       "      <th></th>\n",
       "      <th>text</th>\n",
       "      <th>language</th>\n",
       "      <th>detected_language</th>\n",
       "    </tr>\n",
       "  </thead>\n",
       "  <tbody>\n",
       "    <tr>\n",
       "      <th>35</th>\n",
       "      <td>Vroeg uit die bed, maak die beursie vet!</td>\n",
       "      <td>Afrikaans</td>\n",
       "      <td>nl</td>\n",
       "    </tr>\n",
       "    <tr>\n",
       "      <th>54</th>\n",
       "      <td>Kop bo water hou.</td>\n",
       "      <td>Afrikaans</td>\n",
       "      <td>nl</td>\n",
       "    </tr>\n",
       "    <tr>\n",
       "      <th>135</th>\n",
       "      <td>Soebat en bangoog kyk help niks.</td>\n",
       "      <td>Afrikaans</td>\n",
       "      <td>id</td>\n",
       "    </tr>\n",
       "    <tr>\n",
       "      <th>146</th>\n",
       "      <td>Met ‘n aalwynpil in jou kies loop.</td>\n",
       "      <td>Afrikaans</td>\n",
       "      <td>nl</td>\n",
       "    </tr>\n",
       "    <tr>\n",
       "      <th>177</th>\n",
       "      <td>Geen spiesen maacht so diepe wonden als achter...</td>\n",
       "      <td>Afrikaans</td>\n",
       "      <td>nl</td>\n",
       "    </tr>\n",
       "    <tr>\n",
       "      <th>...</th>\n",
       "      <td>...</td>\n",
       "      <td>...</td>\n",
       "      <td>...</td>\n",
       "    </tr>\n",
       "    <tr>\n",
       "      <th>2711</th>\n",
       "      <td>Die geheim om te verveel is om alles te vertel.</td>\n",
       "      <td>Afrikaans</td>\n",
       "      <td>nl</td>\n",
       "    </tr>\n",
       "    <tr>\n",
       "      <th>2727</th>\n",
       "      <td>Iemand afpoeier.</td>\n",
       "      <td>Afrikaans</td>\n",
       "      <td>nl</td>\n",
       "    </tr>\n",
       "    <tr>\n",
       "      <th>2755</th>\n",
       "      <td>Een hoofd vol kreuken – een geweten sonder rim...</td>\n",
       "      <td>Afrikaans</td>\n",
       "      <td>nl</td>\n",
       "    </tr>\n",
       "    <tr>\n",
       "      <th>2761</th>\n",
       "      <td>Johann Nell: “Dit is baie beter om te huil in ...</td>\n",
       "      <td>Afrikaans</td>\n",
       "      <td>nl</td>\n",
       "    </tr>\n",
       "    <tr>\n",
       "      <th>2791</th>\n",
       "      <td>Die berg het 'n muis gebaar.</td>\n",
       "      <td>Afrikaans</td>\n",
       "      <td>nl</td>\n",
       "    </tr>\n",
       "  </tbody>\n",
       "</table>\n",
       "<p>110 rows × 3 columns</p>\n",
       "</div>"
      ],
      "text/plain": [
       "                                                   text   language  \\\n",
       "35             Vroeg uit die bed, maak die beursie vet!  Afrikaans   \n",
       "54                                    Kop bo water hou.  Afrikaans   \n",
       "135                    Soebat en bangoog kyk help niks.  Afrikaans   \n",
       "146                  Met ‘n aalwynpil in jou kies loop.  Afrikaans   \n",
       "177   Geen spiesen maacht so diepe wonden als achter...  Afrikaans   \n",
       "...                                                 ...        ...   \n",
       "2711    Die geheim om te verveel is om alles te vertel.  Afrikaans   \n",
       "2727                                   Iemand afpoeier.  Afrikaans   \n",
       "2755  Een hoofd vol kreuken – een geweten sonder rim...  Afrikaans   \n",
       "2761  Johann Nell: “Dit is baie beter om te huil in ...  Afrikaans   \n",
       "2791                       Die berg het 'n muis gebaar.  Afrikaans   \n",
       "\n",
       "     detected_language  \n",
       "35                  nl  \n",
       "54                  nl  \n",
       "135                 id  \n",
       "146                 nl  \n",
       "177                 nl  \n",
       "...                ...  \n",
       "2711                nl  \n",
       "2727                nl  \n",
       "2755                nl  \n",
       "2761                nl  \n",
       "2791                nl  \n",
       "\n",
       "[110 rows x 3 columns]"
      ]
     },
     "execution_count": 40,
     "metadata": {},
     "output_type": "execute_result"
    }
   ],
   "source": [
    "data[(data.language == 'Afrikaans') & (data.detected_language != 'af')]"
   ]
  },
  {
   "cell_type": "code",
   "execution_count": 42,
   "metadata": {},
   "outputs": [
    {
     "data": {
      "text/plain": [
       "nl    89\n",
       "en    13\n",
       "uz     2\n",
       "da     2\n",
       "fr     1\n",
       "de     1\n",
       "id     1\n",
       "lt     1\n",
       "Name: detected_language, dtype: int64"
      ]
     },
     "execution_count": 42,
     "metadata": {},
     "output_type": "execute_result"
    }
   ],
   "source": [
    "data[(data.language == 'Afrikaans') & (data.detected_language != 'af')]['detected_language'].value_counts()"
   ]
  },
  {
   "cell_type": "markdown",
   "metadata": {},
   "source": [
    "Как и ожидалось, Comprehend чаще всего путает африкаанс с голландским, от которого африкаанс и произошел."
   ]
  }
 ],
 "metadata": {
  "kernelspec": {
   "display_name": "Python 3",
   "language": "python",
   "name": "python3"
  },
  "language_info": {
   "codemirror_mode": {
    "name": "ipython",
    "version": 3
   },
   "file_extension": ".py",
   "mimetype": "text/x-python",
   "name": "python",
   "nbconvert_exporter": "python",
   "pygments_lexer": "ipython3",
   "version": "3.7.6"
  }
 },
 "nbformat": 4,
 "nbformat_minor": 4
}
